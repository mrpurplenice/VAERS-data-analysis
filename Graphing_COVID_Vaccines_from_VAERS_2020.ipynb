{
  "cells": [
    {
      "cell_type": "markdown",
      "metadata": {
        "id": "xpXdowrE9DxW"
      },
      "source": [
        "## Importing the libraries"
      ]
    },
    {
      "cell_type": "code",
      "execution_count": null,
      "metadata": {
        "id": "JiopuWzCIuXn"
      },
      "outputs": [],
      "source": [
        "import pandas as pd\n",
        "import numpy as np\n",
        "pd.set_option('display.max_columns', None)\n",
        "from plotly.subplots import make_subplots\n",
        "import plotly.graph_objects as go\n",
        "import plotly.express as px\n",
        "import warnings\n",
        "import gc\n",
        "warnings.filterwarnings(\"ignore\")\n",
        "date = pd.Timestamp.now().strftime('%m/%d/%Y')\n",
        "import re\n",
        "gc.enable()"
      ]
    },
    {
      "cell_type": "markdown",
      "metadata": {
        "id": "QVsQpX-xI6xH"
      },
      "source": [
        "# Import Datasets"
      ]
    },
    {
      "cell_type": "code",
      "execution_count": null,
      "metadata": {
        "id": "bEfJ0_kvJGju"
      },
      "outputs": [],
      "source": [
        "vdata=pd.read_csv('2020VAERSData.csv', encoding='latin1', dtype={'BIRTH_DEFECT':object},low_memory=False)\n",
        "vvax = pd.read_csv('2020VAERSVAX.csv',encoding='latin1',low_memory=False)\n",
        "vsymp = pd.read_csv('2020VAERSSYMPTOMS.csv',encoding='latin1',low_memory=False)"
      ]
    },
    {
      "cell_type": "markdown",
      "metadata": {
        "id": "tXS3lemLJLnt"
      },
      "source": [
        "# Dropping columns so you can speed up data "
      ]
    },
    {
      "cell_type": "code",
      "execution_count": null,
      "metadata": {
        "id": "SqHPDI7cJfts"
      },
      "outputs": [],
      "source": [
        "dp =[2,4,6,8,10]\n",
        "vsymp.drop(vsymp.columns[dp],axis=1, inplace=True)\n",
        "c = [7,12,15,23]\n",
        "vdata.drop(vdata.columns[c],axis=1, inplace=True)"
      ]
    },
    {
      "cell_type": "markdown",
      "metadata": {
        "id": "mUdJs5XxJxLE"
      },
      "source": [
        "# Merging datasets"
      ]
    },
    {
      "cell_type": "code",
      "execution_count": null,
      "metadata": {
        "id": "TYlkPFWCJ35_"
      },
      "outputs": [],
      "source": [
        "v1 = vdata.merge(vvax, on='VAERS_ID', how='outer')\n",
        "VAERSM = v1.merge(vsymp, on =\"VAERS_ID\", how='outer')"
      ]
    },
    {
      "cell_type": "markdown",
      "metadata": {
        "id": "ZSmyksn2KebH"
      },
      "source": [
        "# Have a database which only has COVID Vaccines "
      ]
    },
    {
      "cell_type": "code",
      "execution_count": null,
      "metadata": {
        "id": "JlzJ0YUoKnvr"
      },
      "outputs": [],
      "source": [
        "VAERSM = VAERSM.query('VAX_TYPE== \"COVID19\"')"
      ]
    },
    {
      "cell_type": "markdown",
      "metadata": {
        "id": "P4Hzf0vXKtcP"
      },
      "source": [
        "# Exporting merged data as a single CSV File "
      ]
    },
    {
      "cell_type": "code",
      "execution_count": null,
      "metadata": {
        "id": "usc9KMu9K0MM"
      },
      "outputs": [],
      "source": [
        "VAERSM.to_csv(\"VDUP.csv\", index=False)"
      ]
    },
    {
      "cell_type": "markdown",
      "metadata": {
        "id": "hyBYBR6oK3pk"
      },
      "source": [
        "# Deleteing old datasets "
      ]
    },
    {
      "cell_type": "code",
      "execution_count": null,
      "metadata": {
        "id": "uEJupAeEK_Ea"
      },
      "outputs": [],
      "source": [
        "del vdata\n",
        "del vvax\n",
        "del vsymp\n",
        "del VAERSM"
      ]
    },
    {
      "cell_type": "markdown",
      "metadata": {
        "id": "sSYiGJQsLCje"
      },
      "source": [
        "# Check new dataset"
      ]
    },
    {
      "cell_type": "code",
      "execution_count": null,
      "metadata": {
        "colab": {
          "base_uri": "https://localhost:8080/"
        },
        "id": "gVlY4dUhLOcv",
        "outputId": "2f8c203a-9f1c-4494-91b5-5329bf41e036"
      },
      "outputs": [
        {
          "output_type": "stream",
          "name": "stdout",
          "text": [
            "False    10382\n",
            "True      3039\n",
            "dtype: int64\n"
          ]
        }
      ],
      "source": [
        "VDUP = pd.read_csv('VDUP.csv',encoding='latin1',memory_map=True, low_memory=False)\n",
        "test = VDUP.duplicated(subset=[\"VAERS_ID\"])\n",
        "print(test.value_counts())\n",
        "del test"
      ]
    },
    {
      "cell_type": "markdown",
      "metadata": {
        "id": "6EGGyVKuLkG3"
      },
      "source": [
        "# Isolating by vaccine type "
      ]
    },
    {
      "cell_type": "code",
      "execution_count": null,
      "metadata": {
        "colab": {
          "base_uri": "https://localhost:8080/"
        },
        "id": "eLVvUHfbNxB5",
        "outputId": "5e3da915-109d-424e-d3ef-7343a72266e1"
      },
      "outputs": [
        {
          "output_type": "execute_result",
          "data": {
            "text/plain": [
              "9"
            ]
          },
          "metadata": {},
          "execution_count": 9
        }
      ],
      "source": [
        "VDUP.query('VAX_TYPE==\"COVID19\"',inplace=True) \n",
        "gc.collect()"
      ]
    },
    {
      "cell_type": "markdown",
      "metadata": {
        "id": "R1dBHDm8OmwW"
      },
      "source": [
        "# Copying dataset into new variable "
      ]
    },
    {
      "cell_type": "code",
      "execution_count": null,
      "metadata": {
        "id": "sx5wHGJ0Pdhy"
      },
      "outputs": [],
      "source": [
        "fullframe = VDUP.copy(deep=True) "
      ]
    },
    {
      "cell_type": "markdown",
      "metadata": {
        "id": "WjwHubZvPidh"
      },
      "source": [
        "# Removing duplicate VAERS IDs"
      ]
    },
    {
      "cell_type": "code",
      "execution_count": null,
      "metadata": {
        "id": "HKTDiJKJQIQm"
      },
      "outputs": [],
      "source": [
        "nodupids =  VDUP.drop_duplicates(subset=['VAERS_ID'], keep='first')"
      ]
    },
    {
      "cell_type": "code",
      "execution_count": null,
      "metadata": {
        "id": "cDK21XrgQQbU"
      },
      "outputs": [],
      "source": [
        "del VDUP"
      ]
    },
    {
      "cell_type": "code",
      "execution_count": null,
      "metadata": {
        "colab": {
          "base_uri": "https://localhost:8080/"
        },
        "id": "IS0ab7e0Qjom",
        "outputId": "5301b6db-ba32-4d70-dd2c-fda2257ba67c"
      },
      "outputs": [
        {
          "output_type": "stream",
          "name": "stdout",
          "text": [
            "13421 10382\n"
          ]
        }
      ],
      "source": [
        "print(len(fullframe),len(nodupids))"
      ]
    },
    {
      "cell_type": "markdown",
      "metadata": {
        "id": "a5n0I1uYOCoo"
      },
      "source": [
        "# Expanding column to 5000 characters "
      ]
    },
    {
      "cell_type": "code",
      "execution_count": null,
      "metadata": {
        "id": "F5e5aX64OhmD"
      },
      "outputs": [],
      "source": [
        "pd.options.display.max_colwidth = 5000"
      ]
    },
    {
      "cell_type": "code",
      "execution_count": null,
      "metadata": {
        "colab": {
          "base_uri": "https://localhost:8080/",
          "height": 143
        },
        "id": "gfITavwCQu3J",
        "outputId": "c41c9cc0-f3c2-4afe-f7bd-d5b1da2e8d5a"
      },
      "outputs": [
        {
          "output_type": "execute_result",
          "data": {
            "text/plain": [
              "   VAERS_ID  \\\n",
              "0    902418   \n",
              "1    902440   \n",
              "2    902446   \n",
              "\n",
              "                                                                                                     SYMPTOM_TEXT  \n",
              "0  Patient experienced mild numbness traveling from injection site up and down arm that subsided over 20 minutes.  \n",
              "1                                                                                                    C/O Headache  \n",
              "2                                                          felt warm, hot and face and ears were red and flushed.  "
            ],
            "text/html": [
              "\n",
              "  <div id=\"df-30c33ec5-6e2d-467f-9318-e1134baac121\">\n",
              "    <div class=\"colab-df-container\">\n",
              "      <div>\n",
              "<style scoped>\n",
              "    .dataframe tbody tr th:only-of-type {\n",
              "        vertical-align: middle;\n",
              "    }\n",
              "\n",
              "    .dataframe tbody tr th {\n",
              "        vertical-align: top;\n",
              "    }\n",
              "\n",
              "    .dataframe thead th {\n",
              "        text-align: right;\n",
              "    }\n",
              "</style>\n",
              "<table border=\"1\" class=\"dataframe\">\n",
              "  <thead>\n",
              "    <tr style=\"text-align: right;\">\n",
              "      <th></th>\n",
              "      <th>VAERS_ID</th>\n",
              "      <th>SYMPTOM_TEXT</th>\n",
              "    </tr>\n",
              "  </thead>\n",
              "  <tbody>\n",
              "    <tr>\n",
              "      <th>0</th>\n",
              "      <td>902418</td>\n",
              "      <td>Patient experienced mild numbness traveling from injection site up and down arm that subsided over 20 minutes.</td>\n",
              "    </tr>\n",
              "    <tr>\n",
              "      <th>1</th>\n",
              "      <td>902440</td>\n",
              "      <td>C/O Headache</td>\n",
              "    </tr>\n",
              "    <tr>\n",
              "      <th>2</th>\n",
              "      <td>902446</td>\n",
              "      <td>felt warm, hot and face and ears were red and flushed.</td>\n",
              "    </tr>\n",
              "  </tbody>\n",
              "</table>\n",
              "</div>\n",
              "      <button class=\"colab-df-convert\" onclick=\"convertToInteractive('df-30c33ec5-6e2d-467f-9318-e1134baac121')\"\n",
              "              title=\"Convert this dataframe to an interactive table.\"\n",
              "              style=\"display:none;\">\n",
              "        \n",
              "  <svg xmlns=\"http://www.w3.org/2000/svg\" height=\"24px\"viewBox=\"0 0 24 24\"\n",
              "       width=\"24px\">\n",
              "    <path d=\"M0 0h24v24H0V0z\" fill=\"none\"/>\n",
              "    <path d=\"M18.56 5.44l.94 2.06.94-2.06 2.06-.94-2.06-.94-.94-2.06-.94 2.06-2.06.94zm-11 1L8.5 8.5l.94-2.06 2.06-.94-2.06-.94L8.5 2.5l-.94 2.06-2.06.94zm10 10l.94 2.06.94-2.06 2.06-.94-2.06-.94-.94-2.06-.94 2.06-2.06.94z\"/><path d=\"M17.41 7.96l-1.37-1.37c-.4-.4-.92-.59-1.43-.59-.52 0-1.04.2-1.43.59L10.3 9.45l-7.72 7.72c-.78.78-.78 2.05 0 2.83L4 21.41c.39.39.9.59 1.41.59.51 0 1.02-.2 1.41-.59l7.78-7.78 2.81-2.81c.8-.78.8-2.07 0-2.86zM5.41 20L4 18.59l7.72-7.72 1.47 1.35L5.41 20z\"/>\n",
              "  </svg>\n",
              "      </button>\n",
              "      \n",
              "  <style>\n",
              "    .colab-df-container {\n",
              "      display:flex;\n",
              "      flex-wrap:wrap;\n",
              "      gap: 12px;\n",
              "    }\n",
              "\n",
              "    .colab-df-convert {\n",
              "      background-color: #E8F0FE;\n",
              "      border: none;\n",
              "      border-radius: 50%;\n",
              "      cursor: pointer;\n",
              "      display: none;\n",
              "      fill: #1967D2;\n",
              "      height: 32px;\n",
              "      padding: 0 0 0 0;\n",
              "      width: 32px;\n",
              "    }\n",
              "\n",
              "    .colab-df-convert:hover {\n",
              "      background-color: #E2EBFA;\n",
              "      box-shadow: 0px 1px 2px rgba(60, 64, 67, 0.3), 0px 1px 3px 1px rgba(60, 64, 67, 0.15);\n",
              "      fill: #174EA6;\n",
              "    }\n",
              "\n",
              "    [theme=dark] .colab-df-convert {\n",
              "      background-color: #3B4455;\n",
              "      fill: #D2E3FC;\n",
              "    }\n",
              "\n",
              "    [theme=dark] .colab-df-convert:hover {\n",
              "      background-color: #434B5C;\n",
              "      box-shadow: 0px 1px 3px 1px rgba(0, 0, 0, 0.15);\n",
              "      filter: drop-shadow(0px 1px 2px rgba(0, 0, 0, 0.3));\n",
              "      fill: #FFFFFF;\n",
              "    }\n",
              "  </style>\n",
              "\n",
              "      <script>\n",
              "        const buttonEl =\n",
              "          document.querySelector('#df-30c33ec5-6e2d-467f-9318-e1134baac121 button.colab-df-convert');\n",
              "        buttonEl.style.display =\n",
              "          google.colab.kernel.accessAllowed ? 'block' : 'none';\n",
              "\n",
              "        async function convertToInteractive(key) {\n",
              "          const element = document.querySelector('#df-30c33ec5-6e2d-467f-9318-e1134baac121');\n",
              "          const dataTable =\n",
              "            await google.colab.kernel.invokeFunction('convertToInteractive',\n",
              "                                                     [key], {});\n",
              "          if (!dataTable) return;\n",
              "\n",
              "          const docLinkHtml = 'Like what you see? Visit the ' +\n",
              "            '<a target=\"_blank\" href=https://colab.research.google.com/notebooks/data_table.ipynb>data table notebook</a>'\n",
              "            + ' to learn more about interactive tables.';\n",
              "          element.innerHTML = '';\n",
              "          dataTable['output_type'] = 'display_data';\n",
              "          await google.colab.output.renderOutput(dataTable, element);\n",
              "          const docLink = document.createElement('div');\n",
              "          docLink.innerHTML = docLinkHtml;\n",
              "          element.appendChild(docLink);\n",
              "        }\n",
              "      </script>\n",
              "    </div>\n",
              "  </div>\n",
              "  "
            ]
          },
          "metadata": {},
          "execution_count": 15
        }
      ],
      "source": [
        "nodupids[['VAERS_ID','SYMPTOM_TEXT']].head(3)"
      ]
    },
    {
      "cell_type": "markdown",
      "metadata": {
        "id": "ObTWQZZ1S17n"
      },
      "source": [
        "# Creating a variable for people who have died by the COVID Vaccines "
      ]
    },
    {
      "cell_type": "code",
      "execution_count": null,
      "metadata": {
        "id": "uc11iwQtTBxm"
      },
      "outputs": [],
      "source": [
        "D_nodupids = nodupids.query('DIED==\"Y\"')"
      ]
    },
    {
      "cell_type": "markdown",
      "metadata": {
        "id": "nbzetYArUHZv"
      },
      "source": [
        "# Creating a variable for people who have died by the COVID Vaccines within 1 day or less"
      ]
    },
    {
      "cell_type": "code",
      "execution_count": null,
      "metadata": {
        "id": "W47Mtso6UIFf"
      },
      "outputs": [],
      "source": [
        "zero_d = D_nodupids.query('NUMDAYS <= 1',)\n",
        "zero_d.replace({np.nan:'N' },regex=True,inplace=True)\n",
        "d_count =len(zero_d)"
      ]
    },
    {
      "cell_type": "markdown",
      "metadata": {
        "id": "-1XWI6V32wgT"
      },
      "source": [
        "# Wrapping text"
      ]
    },
    {
      "cell_type": "code",
      "execution_count": null,
      "metadata": {
        "id": "_M_KYXQq3hkn"
      },
      "outputs": [],
      "source": [
        "zero_d[\"SYMPTOM_TEXT\" ]=zero_d['SYMPTOM_TEXT'].str.wrap(100)\n",
        "zero_d['SYMPTOM_TEXT']= zero_d['SYMPTOM_TEXT'].str.replace('\\\\n','<br />')"
      ]
    },
    {
      "cell_type": "markdown",
      "metadata": {
        "id": "N4P8wUQA40GD"
      },
      "source": [
        "# Chart sections for Age Years and died within 1 day of taking a COVID Vaccine "
      ]
    },
    {
      "cell_type": "code",
      "execution_count": null,
      "metadata": {
        "colab": {
          "base_uri": "https://localhost:8080/",
          "height": 300
        },
        "id": "-MYq7ZRZ4056",
        "outputId": "fd3c68cd-9cf7-4a34-a018-730981d94550"
      },
      "outputs": [
        {
          "output_type": "execute_result",
          "data": {
            "text/plain": [
              "   AGE_YRS  DIED\n",
              "0     63.0     1\n",
              "1     83.0     1\n",
              "2     84.0     1\n",
              "3     85.0     2\n",
              "4     88.0     2\n",
              "5     90.0     1\n",
              "6     96.0     1\n",
              "7     99.0     1"
            ],
            "text/html": [
              "\n",
              "  <div id=\"df-fc055b3a-7925-45f6-a453-c805d28a6ea4\">\n",
              "    <div class=\"colab-df-container\">\n",
              "      <div>\n",
              "<style scoped>\n",
              "    .dataframe tbody tr th:only-of-type {\n",
              "        vertical-align: middle;\n",
              "    }\n",
              "\n",
              "    .dataframe tbody tr th {\n",
              "        vertical-align: top;\n",
              "    }\n",
              "\n",
              "    .dataframe thead th {\n",
              "        text-align: right;\n",
              "    }\n",
              "</style>\n",
              "<table border=\"1\" class=\"dataframe\">\n",
              "  <thead>\n",
              "    <tr style=\"text-align: right;\">\n",
              "      <th></th>\n",
              "      <th>AGE_YRS</th>\n",
              "      <th>DIED</th>\n",
              "    </tr>\n",
              "  </thead>\n",
              "  <tbody>\n",
              "    <tr>\n",
              "      <th>0</th>\n",
              "      <td>63.0</td>\n",
              "      <td>1</td>\n",
              "    </tr>\n",
              "    <tr>\n",
              "      <th>1</th>\n",
              "      <td>83.0</td>\n",
              "      <td>1</td>\n",
              "    </tr>\n",
              "    <tr>\n",
              "      <th>2</th>\n",
              "      <td>84.0</td>\n",
              "      <td>1</td>\n",
              "    </tr>\n",
              "    <tr>\n",
              "      <th>3</th>\n",
              "      <td>85.0</td>\n",
              "      <td>2</td>\n",
              "    </tr>\n",
              "    <tr>\n",
              "      <th>4</th>\n",
              "      <td>88.0</td>\n",
              "      <td>2</td>\n",
              "    </tr>\n",
              "    <tr>\n",
              "      <th>5</th>\n",
              "      <td>90.0</td>\n",
              "      <td>1</td>\n",
              "    </tr>\n",
              "    <tr>\n",
              "      <th>6</th>\n",
              "      <td>96.0</td>\n",
              "      <td>1</td>\n",
              "    </tr>\n",
              "    <tr>\n",
              "      <th>7</th>\n",
              "      <td>99.0</td>\n",
              "      <td>1</td>\n",
              "    </tr>\n",
              "  </tbody>\n",
              "</table>\n",
              "</div>\n",
              "      <button class=\"colab-df-convert\" onclick=\"convertToInteractive('df-fc055b3a-7925-45f6-a453-c805d28a6ea4')\"\n",
              "              title=\"Convert this dataframe to an interactive table.\"\n",
              "              style=\"display:none;\">\n",
              "        \n",
              "  <svg xmlns=\"http://www.w3.org/2000/svg\" height=\"24px\"viewBox=\"0 0 24 24\"\n",
              "       width=\"24px\">\n",
              "    <path d=\"M0 0h24v24H0V0z\" fill=\"none\"/>\n",
              "    <path d=\"M18.56 5.44l.94 2.06.94-2.06 2.06-.94-2.06-.94-.94-2.06-.94 2.06-2.06.94zm-11 1L8.5 8.5l.94-2.06 2.06-.94-2.06-.94L8.5 2.5l-.94 2.06-2.06.94zm10 10l.94 2.06.94-2.06 2.06-.94-2.06-.94-.94-2.06-.94 2.06-2.06.94z\"/><path d=\"M17.41 7.96l-1.37-1.37c-.4-.4-.92-.59-1.43-.59-.52 0-1.04.2-1.43.59L10.3 9.45l-7.72 7.72c-.78.78-.78 2.05 0 2.83L4 21.41c.39.39.9.59 1.41.59.51 0 1.02-.2 1.41-.59l7.78-7.78 2.81-2.81c.8-.78.8-2.07 0-2.86zM5.41 20L4 18.59l7.72-7.72 1.47 1.35L5.41 20z\"/>\n",
              "  </svg>\n",
              "      </button>\n",
              "      \n",
              "  <style>\n",
              "    .colab-df-container {\n",
              "      display:flex;\n",
              "      flex-wrap:wrap;\n",
              "      gap: 12px;\n",
              "    }\n",
              "\n",
              "    .colab-df-convert {\n",
              "      background-color: #E8F0FE;\n",
              "      border: none;\n",
              "      border-radius: 50%;\n",
              "      cursor: pointer;\n",
              "      display: none;\n",
              "      fill: #1967D2;\n",
              "      height: 32px;\n",
              "      padding: 0 0 0 0;\n",
              "      width: 32px;\n",
              "    }\n",
              "\n",
              "    .colab-df-convert:hover {\n",
              "      background-color: #E2EBFA;\n",
              "      box-shadow: 0px 1px 2px rgba(60, 64, 67, 0.3), 0px 1px 3px 1px rgba(60, 64, 67, 0.15);\n",
              "      fill: #174EA6;\n",
              "    }\n",
              "\n",
              "    [theme=dark] .colab-df-convert {\n",
              "      background-color: #3B4455;\n",
              "      fill: #D2E3FC;\n",
              "    }\n",
              "\n",
              "    [theme=dark] .colab-df-convert:hover {\n",
              "      background-color: #434B5C;\n",
              "      box-shadow: 0px 1px 3px 1px rgba(0, 0, 0, 0.15);\n",
              "      filter: drop-shadow(0px 1px 2px rgba(0, 0, 0, 0.3));\n",
              "      fill: #FFFFFF;\n",
              "    }\n",
              "  </style>\n",
              "\n",
              "      <script>\n",
              "        const buttonEl =\n",
              "          document.querySelector('#df-fc055b3a-7925-45f6-a453-c805d28a6ea4 button.colab-df-convert');\n",
              "        buttonEl.style.display =\n",
              "          google.colab.kernel.accessAllowed ? 'block' : 'none';\n",
              "\n",
              "        async function convertToInteractive(key) {\n",
              "          const element = document.querySelector('#df-fc055b3a-7925-45f6-a453-c805d28a6ea4');\n",
              "          const dataTable =\n",
              "            await google.colab.kernel.invokeFunction('convertToInteractive',\n",
              "                                                     [key], {});\n",
              "          if (!dataTable) return;\n",
              "\n",
              "          const docLinkHtml = 'Like what you see? Visit the ' +\n",
              "            '<a target=\"_blank\" href=https://colab.research.google.com/notebooks/data_table.ipynb>data table notebook</a>'\n",
              "            + ' to learn more about interactive tables.';\n",
              "          element.innerHTML = '';\n",
              "          dataTable['output_type'] = 'display_data';\n",
              "          await google.colab.output.renderOutput(dataTable, element);\n",
              "          const docLink = document.createElement('div');\n",
              "          docLink.innerHTML = docLinkHtml;\n",
              "          element.appendChild(docLink);\n",
              "        }\n",
              "      </script>\n",
              "    </div>\n",
              "  </div>\n",
              "  "
            ]
          },
          "metadata": {},
          "execution_count": 19
        }
      ],
      "source": [
        "zbar= zero_d.groupby('AGE_YRS')['DIED'].count().to_frame().reset_index()\n",
        "zbar"
      ]
    },
    {
      "cell_type": "code",
      "execution_count": null,
      "metadata": {
        "colab": {
          "base_uri": "https://localhost:8080/",
          "height": 1000
        },
        "id": "4HUD6nbe6YAM",
        "outputId": "02b994da-d5cb-4648-fd48-1e167db34f53"
      },
      "outputs": [
        {
          "output_type": "display_data",
          "data": {
            "text/html": [
              "<html>\n",
              "<head><meta charset=\"utf-8\" /></head>\n",
              "<body>\n",
              "    <div>            <script src=\"https://cdnjs.cloudflare.com/ajax/libs/mathjax/2.7.5/MathJax.js?config=TeX-AMS-MML_SVG\"></script><script type=\"text/javascript\">if (window.MathJax) {MathJax.Hub.Config({SVG: {font: \"STIX-Web\"}});}</script>                <script type=\"text/javascript\">window.PlotlyConfig = {MathJaxConfig: 'local'};</script>\n",
              "        <script src=\"https://cdn.plot.ly/plotly-2.8.3.min.js\"></script>                <div id=\"391b79ac-842e-4d3e-a23b-d3cf1192e94e\" class=\"plotly-graph-div\" style=\"height:1000px; width:1900px;\"></div>            <script type=\"text/javascript\">                                    window.PLOTLYENV=window.PLOTLYENV || {};                                    if (document.getElementById(\"391b79ac-842e-4d3e-a23b-d3cf1192e94e\")) {                    Plotly.newPlot(                        \"391b79ac-842e-4d3e-a23b-d3cf1192e94e\",                        [{\"boxpoints\":\"all\",\"hovertemplate\":\"AGE %{text[0]} <br> %{text[1]}  <br> %{text[2]} <br> %{text[3]} <br> %{text[4]} <br> %{text[5]} <br> %{text[6]}\",\"name\":\"Median Mortality\",\"text\":[[84.0,\"Death\",\"N\",\"N\",\"N\",\"N\",\"Vaccine administered with no immediate adverse reaction at 11:29am. Vaccine screening questions were<br />completed and resident was not feeling sick and temperature was 98F. At approximately 1:30pm the<br />resident passed away.\"],[85.0,\"Death\",\"N\",\"N\",\"N\",\"N\",\"My grandmother died a few hours after receiving the moderna covid vaccine booster 1. While I don?t<br />expect that the events are related, the treating hospital did not acknowledge this and I wanted to<br />be sure a report was made.\"],[83.0,\"Anxiety\",\"Death\",\"Pyrexia\",\"Respiratory distress\",\"SARS-CoV-2 test negative\",\"Within 24 hours of receiving the vaccine, fever and respiratory distress, and anxiety developed<br />requiring oxygen, morphine and ativan. My Mom passed away on the evening of 12/26/2020.\"],[63.0,\"Death\",\"N\",\"N\",\"N\",\"N\",\"RESIDENT CODED AND EXPIRED\"],[88.0,\"Death\",\"N\",\"N\",\"N\",\"N\",\"pt passed away with an hour to hour and 1/2 of receiving vaccine.  per nursing home staff they did<br />not expect pt to make it many more days.  pt was unresponsive in room when shot was given.  per<br />nursing home staff pt was 14 + days post covid\"],[90.0,\"Death\",\"N\",\"N\",\"N\",\"N\",\"pt was a nursing home pt.  pt received first dose of covid vaccine.  pt was monitored for 15 minutes<br />after getting shot. staff reported that pt was 15 days post covid.  Pt passed away with in 90<br />minutes of getting vaccine\"],[88.0,\"Death\",\"Dyspnoea\",\"Vomiting\",\"N\",\"N\",\"pt received vaccine at covid clinic on 12/30 at approximately 3:30, pt vomited 4 minutes after<br />receiving shot--dark brown vomit, staff reported pt had vomited night before. Per staff report pt<br />became short of breath between 6 and 7 pm that night.  Pt had DNR on file.  pt passed away at<br />approximately  10pm.  Staff reported pt was 14 + days post covid\"],[85.0,\"Cardiac arrest\",\"Death\",\"Unresponsive to stimuli\",\"N\",\"N\",\"Resident received vaccine per pharmacy at the facility at 5 pm.  Approximately 6:45 resident found<br />unresponsive and EMS contacted.  Upon EMS arrival at facility, resident went into cardiac arrest,<br />code initiated by EMS and transported to hospital.  Resident expired at hospital at approximately 8<br />pm\"],[99.0,\"Death\",\"N\",\"N\",\"N\",\"N\",\"Patient died within 12 hours of receiving the vaccine.\"],[96.0,\"Death\",\"N\",\"N\",\"N\",\"N\",\"Resident received vaccine in am and expired that afternoon.\"]],\"y\":[84.0,85.0,83.0,63.0,88.0,90.0,88.0,85.0,99.0,96.0],\"type\":\"box\",\"xaxis\":\"x\",\"yaxis\":\"y\"},{\"hovertemplate\":\"AGE %{text[0]} <br> Deaths Reported: %{text[1]}\",\"name\":\"Total by Age\",\"text\":[[63.0,1.0],[83.0,1.0],[84.0,1.0],[85.0,2.0],[88.0,2.0],[90.0,1.0],[96.0,1.0],[99.0,1.0]],\"width\":1,\"x\":[63.0,83.0,84.0,85.0,88.0,90.0,96.0,99.0],\"y\":[1,1,1,2,2,1,1,1],\"type\":\"bar\",\"xaxis\":\"x2\",\"yaxis\":\"y2\"}],                        {\"template\":{\"data\":{\"barpolar\":[{\"marker\":{\"line\":{\"color\":\"rgb(17,17,17)\",\"width\":0.5},\"pattern\":{\"fillmode\":\"overlay\",\"size\":10,\"solidity\":0.2}},\"type\":\"barpolar\"}],\"bar\":[{\"error_x\":{\"color\":\"#f2f5fa\"},\"error_y\":{\"color\":\"#f2f5fa\"},\"marker\":{\"line\":{\"color\":\"rgb(17,17,17)\",\"width\":0.5},\"pattern\":{\"fillmode\":\"overlay\",\"size\":10,\"solidity\":0.2}},\"type\":\"bar\"}],\"carpet\":[{\"aaxis\":{\"endlinecolor\":\"#A2B1C6\",\"gridcolor\":\"#506784\",\"linecolor\":\"#506784\",\"minorgridcolor\":\"#506784\",\"startlinecolor\":\"#A2B1C6\"},\"baxis\":{\"endlinecolor\":\"#A2B1C6\",\"gridcolor\":\"#506784\",\"linecolor\":\"#506784\",\"minorgridcolor\":\"#506784\",\"startlinecolor\":\"#A2B1C6\"},\"type\":\"carpet\"}],\"choropleth\":[{\"colorbar\":{\"outlinewidth\":0,\"ticks\":\"\"},\"type\":\"choropleth\"}],\"contourcarpet\":[{\"colorbar\":{\"outlinewidth\":0,\"ticks\":\"\"},\"type\":\"contourcarpet\"}],\"contour\":[{\"colorbar\":{\"outlinewidth\":0,\"ticks\":\"\"},\"colorscale\":[[0.0,\"#0d0887\"],[0.1111111111111111,\"#46039f\"],[0.2222222222222222,\"#7201a8\"],[0.3333333333333333,\"#9c179e\"],[0.4444444444444444,\"#bd3786\"],[0.5555555555555556,\"#d8576b\"],[0.6666666666666666,\"#ed7953\"],[0.7777777777777778,\"#fb9f3a\"],[0.8888888888888888,\"#fdca26\"],[1.0,\"#f0f921\"]],\"type\":\"contour\"}],\"heatmapgl\":[{\"colorbar\":{\"outlinewidth\":0,\"ticks\":\"\"},\"colorscale\":[[0.0,\"#0d0887\"],[0.1111111111111111,\"#46039f\"],[0.2222222222222222,\"#7201a8\"],[0.3333333333333333,\"#9c179e\"],[0.4444444444444444,\"#bd3786\"],[0.5555555555555556,\"#d8576b\"],[0.6666666666666666,\"#ed7953\"],[0.7777777777777778,\"#fb9f3a\"],[0.8888888888888888,\"#fdca26\"],[1.0,\"#f0f921\"]],\"type\":\"heatmapgl\"}],\"heatmap\":[{\"colorbar\":{\"outlinewidth\":0,\"ticks\":\"\"},\"colorscale\":[[0.0,\"#0d0887\"],[0.1111111111111111,\"#46039f\"],[0.2222222222222222,\"#7201a8\"],[0.3333333333333333,\"#9c179e\"],[0.4444444444444444,\"#bd3786\"],[0.5555555555555556,\"#d8576b\"],[0.6666666666666666,\"#ed7953\"],[0.7777777777777778,\"#fb9f3a\"],[0.8888888888888888,\"#fdca26\"],[1.0,\"#f0f921\"]],\"type\":\"heatmap\"}],\"histogram2dcontour\":[{\"colorbar\":{\"outlinewidth\":0,\"ticks\":\"\"},\"colorscale\":[[0.0,\"#0d0887\"],[0.1111111111111111,\"#46039f\"],[0.2222222222222222,\"#7201a8\"],[0.3333333333333333,\"#9c179e\"],[0.4444444444444444,\"#bd3786\"],[0.5555555555555556,\"#d8576b\"],[0.6666666666666666,\"#ed7953\"],[0.7777777777777778,\"#fb9f3a\"],[0.8888888888888888,\"#fdca26\"],[1.0,\"#f0f921\"]],\"type\":\"histogram2dcontour\"}],\"histogram2d\":[{\"colorbar\":{\"outlinewidth\":0,\"ticks\":\"\"},\"colorscale\":[[0.0,\"#0d0887\"],[0.1111111111111111,\"#46039f\"],[0.2222222222222222,\"#7201a8\"],[0.3333333333333333,\"#9c179e\"],[0.4444444444444444,\"#bd3786\"],[0.5555555555555556,\"#d8576b\"],[0.6666666666666666,\"#ed7953\"],[0.7777777777777778,\"#fb9f3a\"],[0.8888888888888888,\"#fdca26\"],[1.0,\"#f0f921\"]],\"type\":\"histogram2d\"}],\"histogram\":[{\"marker\":{\"pattern\":{\"fillmode\":\"overlay\",\"size\":10,\"solidity\":0.2}},\"type\":\"histogram\"}],\"mesh3d\":[{\"colorbar\":{\"outlinewidth\":0,\"ticks\":\"\"},\"type\":\"mesh3d\"}],\"parcoords\":[{\"line\":{\"colorbar\":{\"outlinewidth\":0,\"ticks\":\"\"}},\"type\":\"parcoords\"}],\"pie\":[{\"automargin\":true,\"type\":\"pie\"}],\"scatter3d\":[{\"line\":{\"colorbar\":{\"outlinewidth\":0,\"ticks\":\"\"}},\"marker\":{\"colorbar\":{\"outlinewidth\":0,\"ticks\":\"\"}},\"type\":\"scatter3d\"}],\"scattercarpet\":[{\"marker\":{\"colorbar\":{\"outlinewidth\":0,\"ticks\":\"\"}},\"type\":\"scattercarpet\"}],\"scattergeo\":[{\"marker\":{\"colorbar\":{\"outlinewidth\":0,\"ticks\":\"\"}},\"type\":\"scattergeo\"}],\"scattergl\":[{\"marker\":{\"line\":{\"color\":\"#283442\"}},\"type\":\"scattergl\"}],\"scattermapbox\":[{\"marker\":{\"colorbar\":{\"outlinewidth\":0,\"ticks\":\"\"}},\"type\":\"scattermapbox\"}],\"scatterpolargl\":[{\"marker\":{\"colorbar\":{\"outlinewidth\":0,\"ticks\":\"\"}},\"type\":\"scatterpolargl\"}],\"scatterpolar\":[{\"marker\":{\"colorbar\":{\"outlinewidth\":0,\"ticks\":\"\"}},\"type\":\"scatterpolar\"}],\"scatter\":[{\"marker\":{\"line\":{\"color\":\"#283442\"}},\"type\":\"scatter\"}],\"scatterternary\":[{\"marker\":{\"colorbar\":{\"outlinewidth\":0,\"ticks\":\"\"}},\"type\":\"scatterternary\"}],\"surface\":[{\"colorbar\":{\"outlinewidth\":0,\"ticks\":\"\"},\"colorscale\":[[0.0,\"#0d0887\"],[0.1111111111111111,\"#46039f\"],[0.2222222222222222,\"#7201a8\"],[0.3333333333333333,\"#9c179e\"],[0.4444444444444444,\"#bd3786\"],[0.5555555555555556,\"#d8576b\"],[0.6666666666666666,\"#ed7953\"],[0.7777777777777778,\"#fb9f3a\"],[0.8888888888888888,\"#fdca26\"],[1.0,\"#f0f921\"]],\"type\":\"surface\"}],\"table\":[{\"cells\":{\"fill\":{\"color\":\"#506784\"},\"line\":{\"color\":\"rgb(17,17,17)\"}},\"header\":{\"fill\":{\"color\":\"#2a3f5f\"},\"line\":{\"color\":\"rgb(17,17,17)\"}},\"type\":\"table\"}]},\"layout\":{\"annotationdefaults\":{\"arrowcolor\":\"#f2f5fa\",\"arrowhead\":0,\"arrowwidth\":1},\"autotypenumbers\":\"strict\",\"coloraxis\":{\"colorbar\":{\"outlinewidth\":0,\"ticks\":\"\"}},\"colorscale\":{\"diverging\":[[0,\"#8e0152\"],[0.1,\"#c51b7d\"],[0.2,\"#de77ae\"],[0.3,\"#f1b6da\"],[0.4,\"#fde0ef\"],[0.5,\"#f7f7f7\"],[0.6,\"#e6f5d0\"],[0.7,\"#b8e186\"],[0.8,\"#7fbc41\"],[0.9,\"#4d9221\"],[1,\"#276419\"]],\"sequential\":[[0.0,\"#0d0887\"],[0.1111111111111111,\"#46039f\"],[0.2222222222222222,\"#7201a8\"],[0.3333333333333333,\"#9c179e\"],[0.4444444444444444,\"#bd3786\"],[0.5555555555555556,\"#d8576b\"],[0.6666666666666666,\"#ed7953\"],[0.7777777777777778,\"#fb9f3a\"],[0.8888888888888888,\"#fdca26\"],[1.0,\"#f0f921\"]],\"sequentialminus\":[[0.0,\"#0d0887\"],[0.1111111111111111,\"#46039f\"],[0.2222222222222222,\"#7201a8\"],[0.3333333333333333,\"#9c179e\"],[0.4444444444444444,\"#bd3786\"],[0.5555555555555556,\"#d8576b\"],[0.6666666666666666,\"#ed7953\"],[0.7777777777777778,\"#fb9f3a\"],[0.8888888888888888,\"#fdca26\"],[1.0,\"#f0f921\"]]},\"colorway\":[\"#636efa\",\"#EF553B\",\"#00cc96\",\"#ab63fa\",\"#FFA15A\",\"#19d3f3\",\"#FF6692\",\"#B6E880\",\"#FF97FF\",\"#FECB52\"],\"font\":{\"color\":\"#f2f5fa\"},\"geo\":{\"bgcolor\":\"rgb(17,17,17)\",\"lakecolor\":\"rgb(17,17,17)\",\"landcolor\":\"rgb(17,17,17)\",\"showlakes\":true,\"showland\":true,\"subunitcolor\":\"#506784\"},\"hoverlabel\":{\"align\":\"left\"},\"hovermode\":\"closest\",\"mapbox\":{\"style\":\"dark\"},\"paper_bgcolor\":\"rgb(17,17,17)\",\"plot_bgcolor\":\"rgb(17,17,17)\",\"polar\":{\"angularaxis\":{\"gridcolor\":\"#506784\",\"linecolor\":\"#506784\",\"ticks\":\"\"},\"bgcolor\":\"rgb(17,17,17)\",\"radialaxis\":{\"gridcolor\":\"#506784\",\"linecolor\":\"#506784\",\"ticks\":\"\"}},\"scene\":{\"xaxis\":{\"backgroundcolor\":\"rgb(17,17,17)\",\"gridcolor\":\"#506784\",\"gridwidth\":2,\"linecolor\":\"#506784\",\"showbackground\":true,\"ticks\":\"\",\"zerolinecolor\":\"#C8D4E3\"},\"yaxis\":{\"backgroundcolor\":\"rgb(17,17,17)\",\"gridcolor\":\"#506784\",\"gridwidth\":2,\"linecolor\":\"#506784\",\"showbackground\":true,\"ticks\":\"\",\"zerolinecolor\":\"#C8D4E3\"},\"zaxis\":{\"backgroundcolor\":\"rgb(17,17,17)\",\"gridcolor\":\"#506784\",\"gridwidth\":2,\"linecolor\":\"#506784\",\"showbackground\":true,\"ticks\":\"\",\"zerolinecolor\":\"#C8D4E3\"}},\"shapedefaults\":{\"line\":{\"color\":\"#f2f5fa\"}},\"sliderdefaults\":{\"bgcolor\":\"#C8D4E3\",\"bordercolor\":\"rgb(17,17,17)\",\"borderwidth\":1,\"tickwidth\":0},\"ternary\":{\"aaxis\":{\"gridcolor\":\"#506784\",\"linecolor\":\"#506784\",\"ticks\":\"\"},\"baxis\":{\"gridcolor\":\"#506784\",\"linecolor\":\"#506784\",\"ticks\":\"\"},\"bgcolor\":\"rgb(17,17,17)\",\"caxis\":{\"gridcolor\":\"#506784\",\"linecolor\":\"#506784\",\"ticks\":\"\"}},\"title\":{\"x\":0.05},\"updatemenudefaults\":{\"bgcolor\":\"#506784\",\"borderwidth\":0},\"xaxis\":{\"automargin\":true,\"gridcolor\":\"#283442\",\"linecolor\":\"#506784\",\"ticks\":\"\",\"title\":{\"standoff\":15},\"zerolinecolor\":\"#283442\",\"zerolinewidth\":2},\"yaxis\":{\"automargin\":true,\"gridcolor\":\"#283442\",\"linecolor\":\"#506784\",\"ticks\":\"\",\"title\":{\"standoff\":15},\"zerolinecolor\":\"#283442\",\"zerolinewidth\":2}}},\"xaxis\":{\"anchor\":\"y\",\"domain\":[0.0,0.45],\"tickfont\":{\"size\":30},\"ticks\":\"outside\",\"ticklen\":20,\"tickwidth\":10,\"showspikes\":true},\"yaxis\":{\"anchor\":\"x\",\"domain\":[0.0,1.0],\"tickfont\":{\"size\":30},\"ticks\":\"outside\",\"ticklen\":20,\"tickwidth\":10,\"showspikes\":true},\"xaxis2\":{\"anchor\":\"y2\",\"domain\":[0.55,1.0],\"tickfont\":{\"size\":30},\"ticks\":\"outside\",\"ticklen\":20,\"tickwidth\":10,\"showspikes\":true},\"yaxis2\":{\"anchor\":\"x2\",\"domain\":[0.0,1.0],\"tickfont\":{\"size\":30},\"ticks\":\"outside\",\"ticklen\":20,\"tickwidth\":10,\"showspikes\":true},\"legend\":{\"traceorder\":\"normal\",\"itemclick\":\"toggleothers\",\"itemdoubleclick\":\"toggle\"},\"hoverlabel\":{\"font\":{\"size\":30,\"family\":\"Rockwell\"},\"bgcolor\":\"red\"},\"font\":{\"family\":\"Droid Sans Mono\",\"size\":30},\"title\":{\"text\":\"DIED or DIED WITHIN 1 DAY OF SHOT -REPORTS TO VAERS #10\"},\"height\":1000,\"width\":1900},                        {\"responsive\": true}                    ).then(function(){\n",
              "                            \n",
              "var gd = document.getElementById('391b79ac-842e-4d3e-a23b-d3cf1192e94e');\n",
              "var x = new MutationObserver(function (mutations, observer) {{\n",
              "        var display = window.getComputedStyle(gd).display;\n",
              "        if (!display || display === 'none') {{\n",
              "            console.log([gd, 'removed!']);\n",
              "            Plotly.purge(gd);\n",
              "            observer.disconnect();\n",
              "        }}\n",
              "}});\n",
              "\n",
              "// Listen for the removal of the full notebook cells\n",
              "var notebookContainer = gd.closest('#notebook-container');\n",
              "if (notebookContainer) {{\n",
              "    x.observe(notebookContainer, {childList: true});\n",
              "}}\n",
              "\n",
              "// Listen for the clearing of the current output cell\n",
              "var outputEl = gd.closest('.output');\n",
              "if (outputEl) {{\n",
              "    x.observe(outputEl, {childList: true});\n",
              "}}\n",
              "\n",
              "                        })                };                            </script>        </div>\n",
              "</body>\n",
              "</html>"
            ]
          },
          "metadata": {}
        }
      ],
      "source": [
        "fig = make_subplots(rows=1, cols=2,shared_yaxes=False)\n",
        "\n",
        "fig.add_trace(\n",
        "    go.Box( y=zero_d['AGE_YRS'], boxpoints='all',name='Median Mortality', text=zero_d[['AGE_YRS','SYMPTOM1','SYMPTOM2','SYMPTOM3','SYMPTOM4','SYMPTOM5','SYMPTOM_TEXT']],hovertemplate = \"AGE %{text[0]} <br> %{text[1]}  <br> %{text[2]} <br> %{text[3]} <br> %{text[4]} <br> %{text[5]} <br> %{text[6]}\"),\n",
        "    row=1, col=1\n",
        ")\n",
        "\n",
        "fig.add_trace(\n",
        "    go.Bar(x=zbar['AGE_YRS'],y=zbar[\"DIED\"],name='Total by Age',width=1, text=zbar[['AGE_YRS','DIED']],hovertemplate = \"AGE %{text[0]} <br> Deaths Reported: %{text[1]}\") ,\n",
        "    row=1, col=2\n",
        ")\n",
        "\n",
        "fig.update_layout(legend_traceorder=\"normal\",template='plotly_dark',legend=dict(\n",
        "        itemclick=\"toggleothers\",\n",
        "        itemdoubleclick=\"toggle\"),hoverlabel=dict(\n",
        "        bgcolor=\"red\",\n",
        "        font_size=30,\n",
        "        font_family=\"Rockwell\"))\n",
        "\n",
        "fig.update_layout(font=dict(family=\"Droid Sans Mono\",size=30))\n",
        "fig.update_yaxes(tickfont_size=30, ticks=\"outside\", ticklen=20, tickwidth=10,showspikes=True)\n",
        "fig.update_xaxes(tickfont_size=30, ticks=\"outside\", ticklen=20, tickwidth=10,showspikes=True)\n",
        "fig.update_layout(height=1000, width=1900, title_text=f\"DIED or DIED WITHIN 1 DAY OF SHOT -REPORTS TO VAERS #{d_count}\")\n",
        "fig.show()"
      ]
    },
    {
      "cell_type": "markdown",
      "metadata": {
        "id": "lzYwp0Ao6tyg"
      },
      "source": [
        "# Chart section for Age of years and dieing within 11-500 days of taking a COVID Vaccine "
      ]
    },
    {
      "cell_type": "code",
      "execution_count": null,
      "metadata": {
        "id": "Wi5yXEm57VXj"
      },
      "outputs": [],
      "source": [
        "dlong = nodupids.query('NUMDAYS >=11 and NUMDAYS <500')\n",
        "dlong.replace(np.nan,\"N\", inplace= True)\n",
        "dlong[\"SYMPTOM_TEXT\" ]=dlong['SYMPTOM_TEXT'].str.wrap(100)"
      ]
    },
    {
      "cell_type": "code",
      "execution_count": null,
      "metadata": {
        "id": "rFejWTv28eQx"
      },
      "outputs": [],
      "source": [
        "dlong['SYMPTOM_TEXT']= dlong['SYMPTOM_TEXT'].str.replace('\\\\n','<br />')"
      ]
    },
    {
      "cell_type": "code",
      "execution_count": null,
      "metadata": {
        "colab": {
          "base_uri": "https://localhost:8080/",
          "height": 937
        },
        "id": "owXw3Ec17Wgh",
        "outputId": "f7403faf-3c92-4cad-fb73-883025a2008f"
      },
      "outputs": [
        {
          "output_type": "display_data",
          "data": {
            "text/html": [
              "<html>\n",
              "<head><meta charset=\"utf-8\" /></head>\n",
              "<body>\n",
              "    <div>            <script src=\"https://cdnjs.cloudflare.com/ajax/libs/mathjax/2.7.5/MathJax.js?config=TeX-AMS-MML_SVG\"></script><script type=\"text/javascript\">if (window.MathJax) {MathJax.Hub.Config({SVG: {font: \"STIX-Web\"}});}</script>                <script type=\"text/javascript\">window.PlotlyConfig = {MathJaxConfig: 'local'};</script>\n",
              "        <script src=\"https://cdn.plot.ly/plotly-2.8.3.min.js\"></script>                <div id=\"9fa698dc-e2c0-4f16-9362-d261d2abe4ee\" class=\"plotly-graph-div\" style=\"height:900px; width:1900px;\"></div>            <script type=\"text/javascript\">                                    window.PLOTLYENV=window.PLOTLYENV || {};                                    if (document.getElementById(\"9fa698dc-e2c0-4f16-9362-d261d2abe4ee\")) {                    Plotly.newPlot(                        \"9fa698dc-e2c0-4f16-9362-d261d2abe4ee\",                        [{\"customdata\":[[\"Hives on trunk, thighs, and arms. They were very sore and itchy. Took two 25mg benadryl and the<br />hives cleared up in 2-3 hours.\"],[\"Nausea and fatigue 6 hours after vaccination. Resolved at 24 hours post Vaccination.\"],[\"Received vaccine, waited 15 min. Walked to car.  side of face went numb, dry mouth. Patient walked<br />back to vaccinate location.  Pulse 115, O2 Sat. 96.\"],[\"nausea, fever, chills, aches\"],[\"Rash shortness of breath\"],[\"12/18/20 4 hrs after injection redness& swelling at site started. 12/19/20 severe fatigue, muscle/<br />joint aches, severe migraine with nausea, dizziness, started at around 11am at 1pm chills started&<br />lasting through 12/21/20 1450. Headache at a pain level 8\"],[\"14 minutes Hypertension 200/120 Tachycardia 140 Facial and chest flushing Extreme dry mouth, chills\"],[\"Tachycardia, body aches, chills, headache.\"],[\"Muscle aches and temperature of 100.3 began 1 day post injection, headache additional symptom on day<br />2 post injection.\"],[\"Approximately one hour after receiving the vaccine, as the patient was driving home he began<br />experiencing throat tightness and tongue swelling. Once home, they call 911 and administered 0.3 epi<br />(had previous severe allergy to lidocaine). EMS then administered iv benadryl and an albuterol<br />treatment. The patient was reported to go unresponsive en route and received bag and mask<br />ventilation very briefly as well as additional 125g solumedrol and another IM epi injection. On<br />arrival he was reported to be stable, talking, tolerating secretions, without significant<br />complaints. He was observed in the ER for several hours without any symptoms nor objective findings<br />to support anaphylaxis (tongue and airway normal, no wheeze, no rash). He was anxious in the ER and<br />the treating physician wrote that he felt it may likely have been anxiety and not anaphylaxis based<br />on their evaluation.\"],[\"11 am started noticing tingling in Right side of face. Then redness on ry neck below jaw and<br />tingling on left side of face and left side of body. Lasting for 1 hour\"],[\"Patient complained that 3 hours post vaccination began to have  sweats and feeling like he was<br />running a fever.  He checked his temp on 3 different occasions during a 3 hour period and it did go<br />up to 99.2 from 97.6.  The patient denies any other symtoms. He received his vaccine around 4pm<br />12-22.  He reported his concerns at 9am on 12-23.  There was soreness at the injection site.  No<br />redness.  And he felt fine today. And indicated by the time he went to bed last night was feeling<br />fine again.   Advised patient to contact me if any further concerns on work cell #.\"],[\"Whitehead Zit over injection site  Dry lips throat and mouth initial day Headache at 36 hours in<br />Some low grade fevers\"],[\"Dizziness, nausea after the dose.  Vitals; BP 135/70, pulse 91, O2 100%. After 10 minutes, both<br />symptoms subsided\"],[\"I WOKE UP IN THE MIDDLE OF THE NIGHT WITH PAIN, SWELLING, HARDNESS AND REDNESS ON THE INJECTION SITE<br />OF UPPER LEFT ARM.\"],[\"A rash started under both armpits in the middle of the night. The armpits were swollen and welped .<br />The rash continued to spread across my chest and back and down both arms . Went to doctor and got<br />medrol dosepack and triamcinolone cream.\"],[\"Headache,muscle ache,injection site pain, tiredness, chills,joint pain, feeling unwell.\"],[\"Headache Fatigue\"],[\"Diarrhea every time since shot given. 5-6 qd\"],[\"On 12/24 I started having muscle twitching in my back, shoulders, eyes and my mouth are felt drawn<br />up. It subsided after about 15 minutes. On 12/25 the same thing happened, bit twitching muscles also<br />affected my arms and hands. It lasted about 35 minutes.\"],[\"Approximately 4 hours after receiving vaccine, patient broke out in full body hives. Patient took<br />Benadryl and Claritin that night and Claritin the next day and symptoms subsided.\"],[\"Swelling at injection site with redness that became visible within 12 hours.  At 72 hours site is<br />larger,  measuring 2 inches in diameter. Area is also swollen, slightly sore, periodically itchy.\"],[\"Shortness of breath and chest tightness\"],[\"Dizziness, syncope, nausea, fatigue\"],[\"Progressive pain in arm\"],[\"Abnormal heart rhythm, mild tachycardia. 90 to 100 bpm.\"],[\"24 hours after the vaccine injection I had severe chest and abdominal pain along with nausea and<br />vomiting. I went to the ER where they did blood work, an ekg, and a chest xray, all of which were<br />within normal limits. I was give IV morphine for the pain and IV pepcid. The symptoms went away<br />after a couple of hours and I was released. The symptoms did not return.\"],[\"Numbness in fingers Severe pain throughout whole arm Unable to lift arm\"],[\"Fever, headache, sore arm at injection site, 72 hours after injection. resolved in 48 hours\"],[\"Patient states that a few days after receiving the vaccine, she started to experience a little<br />swelling and irritation at site. She did not report this because she  experiences this with the flu<br />shot. She is no longer having the swelling and irritation. On 12/28/2020, patient states that there<br />is a raised, circular rash as the injection site that is similar to a ringworm. She states that is<br />only itches when she touches it. Patient states that she is not experiencing any other symptoms.\"],[\"Burning eyes bilateral one hour after injection. Sore throat 4hours after injection.\"],[\"Nausea, extreme fatigue, headache, swelling left arm\"],[\"On December 27th I began to have uticaria on my chest, back, legs and neck that respond to oral<br />diphenhydramine but return after 6-8 hours. This is ongoing for three days so far.\"],[\"Fatigue, joint pain, muscle aches, headache, nausea and vomiting for three days. Treated  at home<br />with over the counter pain relievers.\"],[\"Patient received the covid vaccine on 12/20/2020. She reported that she started to have chills (temp<br />reading were in 98.0s), headache, bodyaches, and swelling of the Right groin on 12/21/2020. She was<br />evaluated by her PCP (in person) and treated with Ampicillin x 7 days . She did NOT inform her PCP<br />about her covid vaccination status. HAs, bodyaches, chills, and R groin swelling resolved by<br />12/26/2020. On 12/28/2020 she c/o new onset of nasal congestion. Denies fevers or cough.  She tested<br />positive for covid on 12/28/2020 at Employee Health. Has FU appt with PCP in one week and EH on on<br />1/7/2021.\"],[\"Rash developed on forehead.  Felt itch on other part of body. Felt hot and prickly.  Took<br />diphenhydramine and subsided within 45 minutes.\"],[\"Bell's Palsy; This case has been considered invalid as non-serious event was not reportable in<br />clinical study.   This is a report from an interventional study.  A 51-year-old female non-pregnant<br />subject received blinded therapy (BNT162; PLACEBO) first dose on 24Aug2020 at 13:15 and second dose<br />on 15Sep2020, via an unspecified route of administration on left arm at single dose for COVID-19<br />immunization. Medical history included allergy to some foods.  No other vaccine in four weeks and no<br />other medications in two weeks. The subject experienced bell's palsy on 03Dec2020 which considered<br />as non-serious by investigator. Clinical course was as follows: on 03Dec2020, the subject had a<br />diagnosis of bell's palsy post 2nd vaccine. The subject had no COVID prior vaccination. A nasal swab<br />post vaccination on 30Nov2020 was negative.  After visit 3 (13Oct2020), the subject reported the<br />Bell's Palsy. She went to her doctor, but mot hospitalized. The investigator did not think this was<br />an SAE and was not considered life threatening. The action taken in response to the event for<br />blinded therapy was not applicable. Event treatment included an unspecified medication. The outcome<br />of the event was not recovered.  The investigator assessment with blinded therapy, concomitant drugs<br />and clinical trial procedure not reported.  Follow-up (21Dec2020): New information received from<br />site included: updated report type, patient ID, event seriousness (non-serious).\"],[\"5 days after injection have a red welt around injection site 2 in wide by 1 in up and down\"],[\"5 days after injection have a red welt around injection site 2 in wide by 1 in up and down\"],[\"Patient received a Hepatitis B booster within 2 weeks of COVID vaccine.\"],[\"Immediately Following vaccine: light headed (resolved) & left jaw pain 1 Day following vaccine:<br />nausea, dizziness, headache - all resolved 2nd day following vaccine: fatigue- all resolved 12 days<br />after vaccine: continued left jaw pain- described as consistent dull ache with intermittent \\\"nerve<br />shock\\\", weird taste in mouth, left ear pain feeling full with \\\"crackles\\\".  Patient has not reported<br />symptoms or seen any health care provider since vaccination.\"],[\"12/29/2020. 0430 I awoke with facial swelling including eyes/nose/lips. Slight wheezing, coughing &<br />my skin felt like I had been sunburnt. I took Benadryl 25mg, Pepcid 20mg, Prednisone 10mg and I did<br />an Albuterol Neb treatment. When I awoke at 0830, the swelling ,wheezing & burning had subsided. I<br />was extremely fatigued & I had a 99 degree fever.  The fever subsided ,but I remain fatigued.<br />(12/29/20 @ 1615) It's important to note my past severe allergic reactions have always been delayed<br />by 8-14 days. I do carry an epi-pen.\"],[\"Difficulty catching my breath, stiff joints in legs\"],[\"Hello- I am a physician and had an unusual (but minor) health event that may or may not be related<br />to the COVID vaccine.  I did discuss this with a Dr. who was previously employed by the CDC and is<br />an expert in vaccines just to be sure I was not injecting irrelevant data to the CDC or Pfizer<br />during what I?m sure has been very busy time.  Dr. advised me to report it just in case my<br />experience is of interest.   I had symptoms that I had never had before ? an acute urticaria with<br />the very typical wheals (hives) reaction 10 days post vaccination (again, have never had this before<br />in any setting and I?m generally not a ?rashy? or ?allergic? person).  I have had no new exposures<br />that I know of and no other symptoms to suggest URI or other infectious etiology.  I understand that<br />this could potentially be be a delayed reaction that can manifest as a rash but I thought that these<br />were more often various morphologic forms of maculopapular eruptions instead of urticarial type<br />reactions.  The area of urticaria was localized and very well demarcated with moderate to intense<br />itching but no other symptoms (no systemic symptoms ? no generalized urticaria; wheezing; swelling<br />of the mouth, tongue, or throat; difficulty breathing; vomiting; diarrhea; hypotension; decreased<br />level of consciousness; etc.).   I did take a photo of the area just in case they might be helpful<br />and can provide it if requested.  The urticaria lasted for about 12 hours and resolved without<br />intervention (I did not use oral or topical medication)  Anyway, I thought I would report this<br />(after discussion with Dr.) just in case there was interest or if my experience might help identify<br />aspects of the more severe atopy issue with the Pfizer vaccination.  However, I fully understand<br />that acute urticaria has many different etiologies and I will still have the second dose of the<br />vaccine done on schedule (of course will be sure to have appropriate supplies on hand just in case<br />of a reaction).  Very respectfully submitted.\"],[\"Fatigue the day after, Headache ever sense vaccination\"],[\"Unable to process thoughts shortly after injection.  Brain fog.  Off balance that turned into<br />extreme repeated episodes of dizziness with wretching for 24 hours.  Continue to have some brain fog<br />today.\"],[\"Vaccine given at 1455.  Patient started experiencing anxiety once sitting down to get the vaccine.<br />When she sat down in the observation area after vaccine, she started have what she describes as a<br />\\\"flowery\\\" taste in her mouth and tingling on the outside of both ears.   Patient stated that the<br />tingling moved to the side of face, bilaterally (states common for her).  No c/o SOB.  These<br />symptoms increased her anxiety.  Symptoms began approximately 2 minutes after receiving her vaccine.<br />Patient laid down on the floor and her blood pressure was taken every 5 minutes or so.  First<br />BP=166/102 P 90, 166/102, 150/94 P 80, 150/96 P 68, 150/96 P 66, 160/98 P 74, 162/96 P 66, 142/100 P<br />64.  Patient has a history of hypertension and is currently on medication.  She stated that even on<br />meds, her BP runs high (140/85).  Patient also stated that d/t an anxiety disorder, the final BP<br />taken was probably not going to go down any further.  After approximately 45 minutes, patient moved<br />to a sitting position and eventually into a chair.  Patient reported tingling and \\\"flowery\\\" taste in<br />mouth was gone and patient felt fine to leave observation after approximately 90 minutes.  Patient<br />left with her partner.  Patient stated that beside the taste in her mouth, her other symptoms were<br />very common for her when she has anxiety events.  Patient followed up with her physician on 12/29<br />and states her physician agreed that this event was an \\\"anxiety\\\" event and not d/t vaccine.  Patient<br />cleared to receive 2nd dose when due but will take something, prescribed her physician to help her<br />relax.\"],[\"Large red ring around injection site about 2.5 inches around\"],[\"Temp 99.9F, sore arm, generally achy\"],[\"Reported feeling ?uncoordinated? ?as if I had a couple glasses of wine? during check out after 15<br />min observation. Medics ran vitals on pt and made decision to transport pt to ED for further<br />evaluation.\"],[\"Chest pain, redness to the face and hives to neck.  25 mg Benadryl PO by Paramedics, EMS called<br />Signs/symptoms subsided. Person refused EMS transport to hospital\"],[\"Within 5 minutes of receiving dose  I developed a bounding pulse. My heart was racing and I started<br />sweating. It resolved on its own with no treatment in about 5 minutes.\"],[\"Unilateral axillary lymph node swelling. Full axillary soreness.\"],[\"Hiccup; This is a spontaneous report from a contactable physician (patient).   This 69-year-old male<br />patient received BNT162B2 (PFIZER-BIONTECH COVID-19 VACCINE) (Lot number: EKS730), intramuscular at<br />single dose in left deltoid on 21Dec2020 15:30 for covid-19 immunisation, dexamethasone sodium<br />phosphate (Exp. date 31Dec2015), via an unspecified route of administration in Dec2020 at 8 mg,<br />daily for an unspecified indication.  Medical history included atrial fibrillation from 2009. There<br />were no concomitant medications.  The patient experienced hiccup on 27Dec2020 12:00 with outcome of<br />not recovered. The action taken in response to the event for bnt162b2 was not applicable, for<br />dexamethasone sodium phosphate was unknown. Therapeutic measures were taken as a result of hiccup.<br />The vaccine was administered at Hospital Facility. The patient did not receive any other vaccines<br />within 4 weeks prior to the COVID vaccine.   Pfizer is a marketing authorization holder of<br />dexamethasone sodium phosphate in the country of incidence or the country where the product was<br />purchased. This may be a duplicate report if another marketing authorization holder of dexamethasone<br />sodium phosphate has submitted the same report to the regulatory authorities.\"],[\"Arm soreness , low back and hips aching chills and 101.1 temp mild headache . Tx with Tylenol /<br />motrin temp gone down just feeling tried aching\"],[\"left arm erythema, warmth and induration.  fatigue.  left arm lymph node swelling, fatigue,<br />headache, swelling of hands, and mild rash.\"],[\"So when I woke the next morning I was basically feeling like I had an auto immune flare, my<br />neuropathy was on fire, headache, tired, exhausted, I basically felt really tired all day. The next<br />day I felt a little bit better and went to work but around noon I felt nauseated and all the<br />symptoms returned and they stayed that way until I contacted my rheumatologist. They prescribed me<br />prednisone on the 21st. On the 22nd I felt a little better. On the 23rd I felt good. On the 24th as<br />I was tapering off of the prednisone the symptoms started returning. Then I met with MD and she told<br />me to continue with the prednisone at 5mg and also hydroxyzine for my nausea and an antihistamine.<br />The nausea was the biggest symptom after the prednisone and I could not eat anything. Even 2 pieces<br />of toast I would get nauseated, not throw up but severely nauseated. I could drink anything but not<br />eat and it stayed like that for a long time. Went on a bland diet and with the visterol I could eat<br />more and better and no just mild nausea and exhaustion, I am still pretty fatigued and my joint pain<br />is still bothering me but not as much as the beginning. Also dizziness.\"],[\"I received my vaccine on 12/23/20. My arm was a little sore for a couple of days and the injection<br />site bruised a little. Seven days after the vaccine (12/30/20) I noticed my arm was itching just<br />below the injection site. I now have a small, red, swollen square at/just below the injection site.<br />It is about 2x2 inches in size. Warm to the touch.  It is not interfering with my daily activities,<br />but is noticeable.\"],[\"Last night 12/30 started feeling chills and cough.  Post nasal drip started 2 days ago.  No fever.<br />Today feeling worse 12/31/2020.\"],[\"I am orthopaedic spine surgeon and I started having bilateral groin pain around 11 am on 12/29/20<br />after performing a lumbar spine surgery.  Both of my lymph nodes in my groin were swollen and tender<br />to palpation. I took 800mg of motrin at 12 noon. I went home at 4 pam and felt tire. I started<br />having chills around 6 pm and this lasted for 5 hours together with body aches especially in my<br />knees and ankles. I was shivering a lot. I took 24 mg of prednisone, 800mg motrin, vitamin c and<br />hydroxychloroquine together with some herbs (neonox/tumeric/ginger). My highest temperature was<br />99.7. Around midnight, I became extremely hungry and my wife made me a bowl of chicken broth soup. I<br />drank it and started sweating profusely and my fever broke.. My body ache has resolved but I still<br />have some tenderness in both lymph nodes (groin).\"],[\"Just looks like vaccine given a little lower than normal.  Warm/welt, I'm not concerned with<br />anything,  but was told to report it.\"],[\"Approximately 11 days after receiving her first dose of Pfizer BioNTech Covid-19 she woke up with<br />noticeably decreased hearing. She went to an audiologist and also an autolaryngologist. Both are<br />concerned this may having something to do with either having antibodies for Covid-19 or having had<br />the vaccine.\"],[\"Tested positive for COVID on 12/28/20\"],[\"Shingles rash noted 12 days after receiving vaccine. I have had shingles earlier this year so I was<br />familiar and able to contact my care provider.\"],[\"Became Covid positive\"],[\"Immediately after the everything is good, 30 minutes after the vaccine I felt congested, I had water<br />eyes and runny nose that lasted less than an hour.  As day progress I only felt sore arms, so I<br />continue my normal activities and went to work at 7pm. By 11pm I started feeling cold and having<br />chills, I thought it was because of the weather cause it was snowing and raining that night.  As<br />night progressed I feel like chills is getting worst and also started to have body aches. I checked<br />my temperature it was 97.4F. I went home  and take rest. I continue to feel chills coz I wake up<br />several times that I feel really cold in spite of the  sweater and blanket. Chills continued until<br />2pm of 12/30/2020,  I feel hot checked my temperature it was 101.5F oral.  Feeling flu symptoms.\"],[\"became positive for Covid 19\"],[\"Spontaneously developed rash on medial side of right arm, appearing as raised annular ulcers<br />resembling blisters. This occurred the morning of 12/30/20. Rash began as one ulcer and began<br />clustering, accompanied by erythema to surrounding skin along with pruritus.  Self-treated with<br />hydrocortisone 2% topical cream once to affected area and rash resolved in about 4 hours.  Checked<br />temperature orally when rash occurred and was afebrile, 97.8 F, but felt feverish.   Morning of<br />12/31/20, rash appeared again with same appearance this time on the lateral side of right arm and<br />pruritic. Again, treated with hydrocortisone 2% topical cream with resolution of rash in approx 4<br />hours.   Unsure if side effect of vaccine, planning to contact PCP when office is open after<br />holidays.\"],[\"Developed severe nausea, disorientation, and racing heart approximately 1 hr after vaccination (did<br />not vomit). Resolved within 1 hr.\"],[\"Fatigue, Body Aches, Join Pain, Nausea\"],[\"7 Day delayed injection site reaction. Red, raised 4\\\" area of swelling\"],[\"About 4-5 days after vaccine administration woke up with swollen lymph nodes in left axillary.<br />Swollen, tender, painful. Lasting into the next day. Remain swollen, tender and painful. Periodic<br />burning sensation. Have used warm compress, tylenol, ibuprofen, hydration. As today is the second<br />day with symptoms I am reporting because it has not yet eased up.\"]],\"hovertemplate\":\"DIED=N<br>NUMDAYS=%{x}<br>VAERS_ID=%{y}<br>SYMPTOM_TEXT=%{customdata[0]}<extra></extra>\",\"legendgroup\":\"N\",\"marker\":{\"color\":\"#636efa\",\"symbol\":\"circle\"},\"mode\":\"markers\",\"name\":\"N\",\"orientation\":\"v\",\"showlegend\":true,\"x\":[16.0,17.0,19.0,19.0,20.0,18.0,20.0,17.0,62.0,304.0,22.0,21.0,21.0,23.0,31.0,14.0,20.0,23.0,22.0,15.0,21.0,23.0,21.0,26.0,25.0,26.0,23.0,26.0,25.0,12.0,27.0,27.0,11.0,19.0,21.0,17.0,79.0,28.0,28.0,13.0,11.0,12.0,22.0,11.0,12.0,22.0,26.0,11.0,31.0,29.0,28.0,28.0,28.0,26.0,30.0,37.0,31.0,29.0,11.0,12.0,29.0,11.0,11.0,11.0,12.0,28.0,12.0,13.0,28.0,12.0,30.0,29.0],\"xaxis\":\"x\",\"y\":[903665,904035,904463,904574,904859,905590,906795,907191,907497,907574,907963,908051,908059,908451,908612,908634,908831,908840,909101,909205,909416,909438,909453,909511,909594,909609,909615,910129,910264,910681,911554,911859,911997,912007,912020,912106,912198,912741,912742,912818,912821,912871,912883,913481,913624,913813,914083,914146,914333,914660,914878,914979,915042,915177,915411,915417,915569,915580,915653,915668,915737,915769,915783,915817,915848,915867,915883,915946,916204,916217,916409,916420],\"yaxis\":\"y\",\"type\":\"scatter\"}],                        {\"template\":{\"data\":{\"barpolar\":[{\"marker\":{\"line\":{\"color\":\"rgb(17,17,17)\",\"width\":0.5},\"pattern\":{\"fillmode\":\"overlay\",\"size\":10,\"solidity\":0.2}},\"type\":\"barpolar\"}],\"bar\":[{\"error_x\":{\"color\":\"#f2f5fa\"},\"error_y\":{\"color\":\"#f2f5fa\"},\"marker\":{\"line\":{\"color\":\"rgb(17,17,17)\",\"width\":0.5},\"pattern\":{\"fillmode\":\"overlay\",\"size\":10,\"solidity\":0.2}},\"type\":\"bar\"}],\"carpet\":[{\"aaxis\":{\"endlinecolor\":\"#A2B1C6\",\"gridcolor\":\"#506784\",\"linecolor\":\"#506784\",\"minorgridcolor\":\"#506784\",\"startlinecolor\":\"#A2B1C6\"},\"baxis\":{\"endlinecolor\":\"#A2B1C6\",\"gridcolor\":\"#506784\",\"linecolor\":\"#506784\",\"minorgridcolor\":\"#506784\",\"startlinecolor\":\"#A2B1C6\"},\"type\":\"carpet\"}],\"choropleth\":[{\"colorbar\":{\"outlinewidth\":0,\"ticks\":\"\"},\"type\":\"choropleth\"}],\"contourcarpet\":[{\"colorbar\":{\"outlinewidth\":0,\"ticks\":\"\"},\"type\":\"contourcarpet\"}],\"contour\":[{\"colorbar\":{\"outlinewidth\":0,\"ticks\":\"\"},\"colorscale\":[[0.0,\"#0d0887\"],[0.1111111111111111,\"#46039f\"],[0.2222222222222222,\"#7201a8\"],[0.3333333333333333,\"#9c179e\"],[0.4444444444444444,\"#bd3786\"],[0.5555555555555556,\"#d8576b\"],[0.6666666666666666,\"#ed7953\"],[0.7777777777777778,\"#fb9f3a\"],[0.8888888888888888,\"#fdca26\"],[1.0,\"#f0f921\"]],\"type\":\"contour\"}],\"heatmapgl\":[{\"colorbar\":{\"outlinewidth\":0,\"ticks\":\"\"},\"colorscale\":[[0.0,\"#0d0887\"],[0.1111111111111111,\"#46039f\"],[0.2222222222222222,\"#7201a8\"],[0.3333333333333333,\"#9c179e\"],[0.4444444444444444,\"#bd3786\"],[0.5555555555555556,\"#d8576b\"],[0.6666666666666666,\"#ed7953\"],[0.7777777777777778,\"#fb9f3a\"],[0.8888888888888888,\"#fdca26\"],[1.0,\"#f0f921\"]],\"type\":\"heatmapgl\"}],\"heatmap\":[{\"colorbar\":{\"outlinewidth\":0,\"ticks\":\"\"},\"colorscale\":[[0.0,\"#0d0887\"],[0.1111111111111111,\"#46039f\"],[0.2222222222222222,\"#7201a8\"],[0.3333333333333333,\"#9c179e\"],[0.4444444444444444,\"#bd3786\"],[0.5555555555555556,\"#d8576b\"],[0.6666666666666666,\"#ed7953\"],[0.7777777777777778,\"#fb9f3a\"],[0.8888888888888888,\"#fdca26\"],[1.0,\"#f0f921\"]],\"type\":\"heatmap\"}],\"histogram2dcontour\":[{\"colorbar\":{\"outlinewidth\":0,\"ticks\":\"\"},\"colorscale\":[[0.0,\"#0d0887\"],[0.1111111111111111,\"#46039f\"],[0.2222222222222222,\"#7201a8\"],[0.3333333333333333,\"#9c179e\"],[0.4444444444444444,\"#bd3786\"],[0.5555555555555556,\"#d8576b\"],[0.6666666666666666,\"#ed7953\"],[0.7777777777777778,\"#fb9f3a\"],[0.8888888888888888,\"#fdca26\"],[1.0,\"#f0f921\"]],\"type\":\"histogram2dcontour\"}],\"histogram2d\":[{\"colorbar\":{\"outlinewidth\":0,\"ticks\":\"\"},\"colorscale\":[[0.0,\"#0d0887\"],[0.1111111111111111,\"#46039f\"],[0.2222222222222222,\"#7201a8\"],[0.3333333333333333,\"#9c179e\"],[0.4444444444444444,\"#bd3786\"],[0.5555555555555556,\"#d8576b\"],[0.6666666666666666,\"#ed7953\"],[0.7777777777777778,\"#fb9f3a\"],[0.8888888888888888,\"#fdca26\"],[1.0,\"#f0f921\"]],\"type\":\"histogram2d\"}],\"histogram\":[{\"marker\":{\"pattern\":{\"fillmode\":\"overlay\",\"size\":10,\"solidity\":0.2}},\"type\":\"histogram\"}],\"mesh3d\":[{\"colorbar\":{\"outlinewidth\":0,\"ticks\":\"\"},\"type\":\"mesh3d\"}],\"parcoords\":[{\"line\":{\"colorbar\":{\"outlinewidth\":0,\"ticks\":\"\"}},\"type\":\"parcoords\"}],\"pie\":[{\"automargin\":true,\"type\":\"pie\"}],\"scatter3d\":[{\"line\":{\"colorbar\":{\"outlinewidth\":0,\"ticks\":\"\"}},\"marker\":{\"colorbar\":{\"outlinewidth\":0,\"ticks\":\"\"}},\"type\":\"scatter3d\"}],\"scattercarpet\":[{\"marker\":{\"colorbar\":{\"outlinewidth\":0,\"ticks\":\"\"}},\"type\":\"scattercarpet\"}],\"scattergeo\":[{\"marker\":{\"colorbar\":{\"outlinewidth\":0,\"ticks\":\"\"}},\"type\":\"scattergeo\"}],\"scattergl\":[{\"marker\":{\"line\":{\"color\":\"#283442\"}},\"type\":\"scattergl\"}],\"scattermapbox\":[{\"marker\":{\"colorbar\":{\"outlinewidth\":0,\"ticks\":\"\"}},\"type\":\"scattermapbox\"}],\"scatterpolargl\":[{\"marker\":{\"colorbar\":{\"outlinewidth\":0,\"ticks\":\"\"}},\"type\":\"scatterpolargl\"}],\"scatterpolar\":[{\"marker\":{\"colorbar\":{\"outlinewidth\":0,\"ticks\":\"\"}},\"type\":\"scatterpolar\"}],\"scatter\":[{\"marker\":{\"line\":{\"color\":\"#283442\"}},\"type\":\"scatter\"}],\"scatterternary\":[{\"marker\":{\"colorbar\":{\"outlinewidth\":0,\"ticks\":\"\"}},\"type\":\"scatterternary\"}],\"surface\":[{\"colorbar\":{\"outlinewidth\":0,\"ticks\":\"\"},\"colorscale\":[[0.0,\"#0d0887\"],[0.1111111111111111,\"#46039f\"],[0.2222222222222222,\"#7201a8\"],[0.3333333333333333,\"#9c179e\"],[0.4444444444444444,\"#bd3786\"],[0.5555555555555556,\"#d8576b\"],[0.6666666666666666,\"#ed7953\"],[0.7777777777777778,\"#fb9f3a\"],[0.8888888888888888,\"#fdca26\"],[1.0,\"#f0f921\"]],\"type\":\"surface\"}],\"table\":[{\"cells\":{\"fill\":{\"color\":\"#506784\"},\"line\":{\"color\":\"rgb(17,17,17)\"}},\"header\":{\"fill\":{\"color\":\"#2a3f5f\"},\"line\":{\"color\":\"rgb(17,17,17)\"}},\"type\":\"table\"}]},\"layout\":{\"annotationdefaults\":{\"arrowcolor\":\"#f2f5fa\",\"arrowhead\":0,\"arrowwidth\":1},\"autotypenumbers\":\"strict\",\"coloraxis\":{\"colorbar\":{\"outlinewidth\":0,\"ticks\":\"\"}},\"colorscale\":{\"diverging\":[[0,\"#8e0152\"],[0.1,\"#c51b7d\"],[0.2,\"#de77ae\"],[0.3,\"#f1b6da\"],[0.4,\"#fde0ef\"],[0.5,\"#f7f7f7\"],[0.6,\"#e6f5d0\"],[0.7,\"#b8e186\"],[0.8,\"#7fbc41\"],[0.9,\"#4d9221\"],[1,\"#276419\"]],\"sequential\":[[0.0,\"#0d0887\"],[0.1111111111111111,\"#46039f\"],[0.2222222222222222,\"#7201a8\"],[0.3333333333333333,\"#9c179e\"],[0.4444444444444444,\"#bd3786\"],[0.5555555555555556,\"#d8576b\"],[0.6666666666666666,\"#ed7953\"],[0.7777777777777778,\"#fb9f3a\"],[0.8888888888888888,\"#fdca26\"],[1.0,\"#f0f921\"]],\"sequentialminus\":[[0.0,\"#0d0887\"],[0.1111111111111111,\"#46039f\"],[0.2222222222222222,\"#7201a8\"],[0.3333333333333333,\"#9c179e\"],[0.4444444444444444,\"#bd3786\"],[0.5555555555555556,\"#d8576b\"],[0.6666666666666666,\"#ed7953\"],[0.7777777777777778,\"#fb9f3a\"],[0.8888888888888888,\"#fdca26\"],[1.0,\"#f0f921\"]]},\"colorway\":[\"#636efa\",\"#EF553B\",\"#00cc96\",\"#ab63fa\",\"#FFA15A\",\"#19d3f3\",\"#FF6692\",\"#B6E880\",\"#FF97FF\",\"#FECB52\"],\"font\":{\"color\":\"#f2f5fa\"},\"geo\":{\"bgcolor\":\"rgb(17,17,17)\",\"lakecolor\":\"rgb(17,17,17)\",\"landcolor\":\"rgb(17,17,17)\",\"showlakes\":true,\"showland\":true,\"subunitcolor\":\"#506784\"},\"hoverlabel\":{\"align\":\"left\"},\"hovermode\":\"closest\",\"mapbox\":{\"style\":\"dark\"},\"paper_bgcolor\":\"rgb(17,17,17)\",\"plot_bgcolor\":\"rgb(17,17,17)\",\"polar\":{\"angularaxis\":{\"gridcolor\":\"#506784\",\"linecolor\":\"#506784\",\"ticks\":\"\"},\"bgcolor\":\"rgb(17,17,17)\",\"radialaxis\":{\"gridcolor\":\"#506784\",\"linecolor\":\"#506784\",\"ticks\":\"\"}},\"scene\":{\"xaxis\":{\"backgroundcolor\":\"rgb(17,17,17)\",\"gridcolor\":\"#506784\",\"gridwidth\":2,\"linecolor\":\"#506784\",\"showbackground\":true,\"ticks\":\"\",\"zerolinecolor\":\"#C8D4E3\"},\"yaxis\":{\"backgroundcolor\":\"rgb(17,17,17)\",\"gridcolor\":\"#506784\",\"gridwidth\":2,\"linecolor\":\"#506784\",\"showbackground\":true,\"ticks\":\"\",\"zerolinecolor\":\"#C8D4E3\"},\"zaxis\":{\"backgroundcolor\":\"rgb(17,17,17)\",\"gridcolor\":\"#506784\",\"gridwidth\":2,\"linecolor\":\"#506784\",\"showbackground\":true,\"ticks\":\"\",\"zerolinecolor\":\"#C8D4E3\"}},\"shapedefaults\":{\"line\":{\"color\":\"#f2f5fa\"}},\"sliderdefaults\":{\"bgcolor\":\"#C8D4E3\",\"bordercolor\":\"rgb(17,17,17)\",\"borderwidth\":1,\"tickwidth\":0},\"ternary\":{\"aaxis\":{\"gridcolor\":\"#506784\",\"linecolor\":\"#506784\",\"ticks\":\"\"},\"baxis\":{\"gridcolor\":\"#506784\",\"linecolor\":\"#506784\",\"ticks\":\"\"},\"bgcolor\":\"rgb(17,17,17)\",\"caxis\":{\"gridcolor\":\"#506784\",\"linecolor\":\"#506784\",\"ticks\":\"\"}},\"title\":{\"x\":0.05},\"updatemenudefaults\":{\"bgcolor\":\"#506784\",\"borderwidth\":0},\"xaxis\":{\"automargin\":true,\"gridcolor\":\"#283442\",\"linecolor\":\"#506784\",\"ticks\":\"\",\"title\":{\"standoff\":15},\"zerolinecolor\":\"#283442\",\"zerolinewidth\":2},\"yaxis\":{\"automargin\":true,\"gridcolor\":\"#283442\",\"linecolor\":\"#506784\",\"ticks\":\"\",\"title\":{\"standoff\":15},\"zerolinecolor\":\"#283442\",\"zerolinewidth\":2}}},\"xaxis\":{\"anchor\":\"y\",\"domain\":[0.0,1.0],\"title\":{\"text\":\"NUMDAYS\"},\"tickfont\":{\"size\":30},\"ticks\":\"outside\",\"ticklen\":20,\"tickwidth\":10},\"yaxis\":{\"anchor\":\"x\",\"domain\":[0.0,1.0],\"title\":{\"text\":\"VAERS_ID\"},\"tickfont\":{\"size\":30},\"ticks\":\"outside\",\"ticklen\":20,\"tickwidth\":10},\"legend\":{\"title\":{\"text\":\"DIED\"},\"tracegroupgap\":0,\"traceorder\":\"normal\",\"itemclick\":\"toggleothers\",\"itemdoubleclick\":\"toggle\"},\"margin\":{\"t\":60},\"title\":{\"text\":\"LONG RANGE -REPORTS TO VAERS 11 Days or More as of 12/28/2022\"},\"height\":900,\"width\":1900,\"hoverlabel\":{\"font\":{\"size\":30,\"family\":\"Rockwell\"},\"bgcolor\":\"black\"},\"font\":{\"family\":\"Droid Sans Mono\",\"size\":30}},                        {\"responsive\": true}                    ).then(function(){\n",
              "                            \n",
              "var gd = document.getElementById('9fa698dc-e2c0-4f16-9362-d261d2abe4ee');\n",
              "var x = new MutationObserver(function (mutations, observer) {{\n",
              "        var display = window.getComputedStyle(gd).display;\n",
              "        if (!display || display === 'none') {{\n",
              "            console.log([gd, 'removed!']);\n",
              "            Plotly.purge(gd);\n",
              "            observer.disconnect();\n",
              "        }}\n",
              "}});\n",
              "\n",
              "// Listen for the removal of the full notebook cells\n",
              "var notebookContainer = gd.closest('#notebook-container');\n",
              "if (notebookContainer) {{\n",
              "    x.observe(notebookContainer, {childList: true});\n",
              "}}\n",
              "\n",
              "// Listen for the clearing of the current output cell\n",
              "var outputEl = gd.closest('.output');\n",
              "if (outputEl) {{\n",
              "    x.observe(outputEl, {childList: true});\n",
              "}}\n",
              "\n",
              "                        })                };                            </script>        </div>\n",
              "</body>\n",
              "</html>"
            ]
          },
          "metadata": {}
        }
      ],
      "source": [
        "fig = px.scatter(dlong, x='NUMDAYS',y='VAERS_ID',color=\"DIED\",hover_data=['SYMPTOM_TEXT'])\n",
        "fig.update_layout(height=900, width=1900, title_text=f\"LONG RANGE -REPORTS TO VAERS 11 Days or More as of {date}\")\n",
        "fig.update_layout(legend_traceorder=\"normal\",template='plotly_dark',legend=dict(\n",
        "        itemclick=\"toggleothers\",\n",
        "        itemdoubleclick=\"toggle\"),hoverlabel=dict(\n",
        "        bgcolor=\"black\",\n",
        "        font_size=30,\n",
        "        font_family=\"Rockwell\"\n",
        "    )   )\n",
        "fig.update_layout(font=dict(family=\"Droid Sans Mono\",size=30))\n",
        "fig.update_xaxes(tickfont_size=30, ticks=\"outside\", ticklen=20, tickwidth=10)\n",
        "fig.update_yaxes(tickfont_size=30, ticks=\"outside\", ticklen=20, tickwidth=10)\n",
        "fig.show()"
      ]
    },
    {
      "cell_type": "code",
      "execution_count": null,
      "metadata": {
        "id": "hNtdNOldAv5M",
        "outputId": "69562fac-93d3-40ba-c9a7-eaf71de3faa9",
        "colab": {
          "base_uri": "https://localhost:8080/",
          "height": 542
        }
      },
      "outputs": [
        {
          "output_type": "display_data",
          "data": {
            "text/html": [
              "<html>\n",
              "<head><meta charset=\"utf-8\" /></head>\n",
              "<body>\n",
              "    <div>            <script src=\"https://cdnjs.cloudflare.com/ajax/libs/mathjax/2.7.5/MathJax.js?config=TeX-AMS-MML_SVG\"></script><script type=\"text/javascript\">if (window.MathJax) {MathJax.Hub.Config({SVG: {font: \"STIX-Web\"}});}</script>                <script type=\"text/javascript\">window.PlotlyConfig = {MathJaxConfig: 'local'};</script>\n",
              "        <script src=\"https://cdn.plot.ly/plotly-2.8.3.min.js\"></script>                <div id=\"c3802a0b-f6d6-4799-abad-69ed7f21db48\" class=\"plotly-graph-div\" style=\"height:525px; width:100%;\"></div>            <script type=\"text/javascript\">                                    window.PLOTLYENV=window.PLOTLYENV || {};                                    if (document.getElementById(\"c3802a0b-f6d6-4799-abad-69ed7f21db48\")) {                    Plotly.newPlot(                        \"c3802a0b-f6d6-4799-abad-69ed7f21db48\",                        [{\"name\":\"Age Group Frequency\",\"x\":[56.0,35.0,55.0,42.0,60.0,60.0,59.0,59.0,46.0,37.0,41.0,41.0,44.0,24.0,39.0,39.0,30.0,25.0,58.0,59.0,59.0,32.0,32.0,24.0,55.0,42.0,36.0,27.0,27.0,26.0,34.0,28.0,54.0,42.0,42.0,32.0,32.0,44.0,35.0,35.0,35.0,72.0,33.0,38.0,38.0,39.0,30.0,33.0,50.0,45.0,80.0,34.0,55.0,34.0,43.0,43.0,37.0,34.0,26.0,32.0,31.0,43.0,43.0,44.0,44.0,32.0,59.0,71.0,65.0,65.0,42.0,50.0,45.0,56.0,34.0,48.0,46.0,31.0,51.0,51.0,31.0,71.0,71.0,71.0,35.0,31.0,34.0,34.0,72.0,66.0,22.0,39.0,49.0,51.0,40.0,33.0,73.0,28.0,18.0,18.0,31.0,23.0,42.0,33.0,33.0,50.0,25.0,25.0,25.0,29.0,58.0,44.0,53.0,26.0,24.0,50.0,25.0,34.0,33.0,29.0,54.0,23.0,31.0,31.0,44.0,41.0,34.0,35.0,35.0,35.0,44.0,29.0,64.0,56.0,26.0,32.0,52.0,26.0,55.0,38.0,31.0,46.0,46.0,58.0,41.0,38.0,26.0,44.0,33.0,44.0,26.0,26.0,23.0,44.0,61.0,33.0,30.0,30.0,37.0,30.0,37.0,37.0,30.0,59.0,59.0,62.0,62.0,45.0,29.0,29.0,57.0,25.0,null,null,null,68.0,86.0,86.0,86.0,52.0,54.0,54.0,47.0,49.0,49.0,50.0,47.0,35.0,43.0,47.0,54.0,54.0,54.0,29.0,68.0,75.0,42.0,26.0,26.0,31.0,58.0,47.0,40.0,52.0,29.0,29.0,32.0,26.0,35.0,66.0,66.0,44.0,40.0,40.0,57.0,57.0,25.0,25.0,38.0,38.0,52.0,44.0,35.0,39.0,34.0,34.0,36.0,46.0,46.0,37.0,37.0,37.0,37.0,37.0,37.0,37.0,37.0,37.0,37.0,37.0,62.0,38.0,36.0,36.0,45.0,33.0,40.0,30.0,34.0,29.0,29.0,36.0,63.0,63.0,29.0,59.0,44.0,56.0,34.0,38.0,29.0,29.0,51.0,21.0,42.0,29.0,29.0,24.0,57.0,60.0,60.0,23.0,30.0,34.0,49.0,51.0,32.0,35.0,43.0,49.0,52.0,27.0,26.0,29.0,29.0,46.0,46.0,34.0,25.0,50.0,27.0,27.0,46.0,42.0,42.0,51.0,47.0,47.0,47.0,48.0,56.0,57.0,27.0,27.0,33.0,66.0,52.0,39.0,61.0,41.0,44.0,44.0,53.0,53.0,50.0,26.0,26.0,53.0,27.0,29.0,62.0,28.0,30.0,54.0,46.0,47.0,37.0,25.0,57.0,58.0,50.0,52.0,31.0,49.0,49.0,49.0,45.0,45.0,45.0,55.0,40.0,40.0,46.0,38.0,null,36.0,36.0,36.0,29.0,48.0,49.0,49.0,49.0,42.0,33.0,33.0,47.0,57.0,30.0,35.0,22.0,22.0,26.0,36.0,60.0,60.0,35.0,42.0,39.0,39.0,26.0,40.0,40.0,45.0,45.0,31.0,43.0,38.0,41.0,41.0,27.0,31.0,42.0,31.0,29.0,38.0,39.0,39.0,23.0,33.0,33.0,35.0,30.0,32.0,50.0,41.0,24.0,39.0,39.0,38.0,46.0,46.0,31.0,31.0,28.0,40.0,61.0,61.0,37.0,46.0,51.0,42.0,62.0,62.0,45.0,39.0,56.0,30.0,30.0,41.0,54.0,60.0,46.0,46.0,46.0,50.0,37.0,34.0,36.0,36.0,35.0,35.0,33.0,58.0,50.0,42.0,42.0,26.0,27.0,57.0,38.0,40.0,63.0,44.0,37.0,42.0,53.0,53.0,51.0,50.0,63.0,63.0,43.0,26.0,25.0,57.0,57.0,43.0,52.0,49.0,49.0,47.0,43.0,54.0,60.0,40.0,60.0,55.0,55.0,61.0,48.0,48.0,35.0,null,48.0,29.0,46.0,66.0,30.0,60.0,60.0,30.0,19.0,76.0,45.0,42.0,42.0,42.0,31.0,44.0,26.0,26.0,30.0,53.0,48.0,45.0,45.0,39.0,52.0,51.0,57.0,44.0,52.0,49.0,49.0,46.0,43.0,25.0,61.0,42.0,65.0,33.0,63.0,44.0,58.0,49.0,49.0,56.0,28.0,57.0,25.0,50.0,22.0,46.0,46.0,46.0,59.0,59.0,45.0,45.0,45.0,45.0,36.0,45.0,47.0,57.0,29.0,60.0,29.0,33.0,33.0,38.0,42.0,45.0,45.0,34.0,45.0,45.0,42.0,54.0,29.0,39.0,55.0,33.0,59.0,62.0,47.0,24.0,57.0,49.0,58.0,58.0,53.0,36.0,47.0,47.0,47.0,29.0,52.0,52.0,35.0,29.0,41.0,38.0,50.0,50.0,49.0,62.0,41.0,53.0,53.0,35.0,35.0,35.0,35.0,60.0,60.0,60.0,60.0,60.0,60.0,60.0,60.0,30.0,47.0,47.0,33.0,41.0,30.0,28.0,49.0,69.0,37.0,49.0,49.0,49.0,48.0,48.0,34.0,30.0,37.0,23.0,20.0,33.0,48.0,48.0,52.0,31.0,64.0,42.0,42.0,40.0,54.0,54.0,69.0,39.0,29.0,41.0,41.0,34.0,34.0,34.0,62.0,42.0,52.0,52.0,30.0,47.0,35.0,52.0,54.0,23.0,23.0,23.0,66.0,33.0,40.0,34.0,59.0,19.0,19.0,55.0,41.0,41.0,63.0,44.0,67.0,54.0,42.0,49.0,52.0,35.0,62.0,31.0,28.0,51.0,24.0,42.0,53.0,43.0,25.0,61.0,45.0,36.0,27.0,36.0,39.0,45.0,42.0,41.0,35.0,51.0,51.0,64.0,64.0,46.0,36.0,53.0,30.0,22.0,22.0,27.0,36.0,67.0,46.0,46.0,57.0,57.0,28.0,28.0,64.0,64.0,31.0,37.0,37.0,52.0,52.0,35.0,46.0,33.0,41.0,54.0,40.0,27.0,37.0,29.0,30.0,39.0,39.0,45.0,45.0,50.0,38.0,38.0,54.0,26.0,26.0,26.0,48.0,28.0,46.0,42.0,49.0,57.0,27.0,33.0,39.0,37.0,26.0,55.0,32.0,49.0,44.0,29.0,46.0,46.0,25.0,39.0,32.0,32.0,48.0,58.0,59.0,49.0,29.0,29.0,87.0,31.0,23.0,35.0,35.0,35.0,35.0,56.0,33.0,48.0,48.0,41.0,35.0,19.0,34.0,34.0,47.0,39.0,21.0,21.0,23.0,45.0,28.0,39.0,49.0,31.0,42.0,41.0,41.0,48.0,55.0,28.0,64.0,36.0,36.0,37.0,58.0,51.0,42.0,33.0,33.0,45.0,45.0,25.0,40.0,56.0,63.0,51.0,41.0,41.0,72.0,61.0,33.0,42.0,64.0,30.0,30.0,61.0,63.0,49.0,50.0,28.0,49.0,22.0,56.0,40.0,40.0,25.0,39.0,42.0,50.0,50.0,89.0,44.0,56.0,29.0,61.0,36.0,33.0,43.0,43.0,39.0,39.0,39.0,21.0,40.0,62.0,85.0,52.0,50.0,50.0,38.0,66.0,31.0,49.0,49.0,41.0,54.0,48.0,34.0,34.0,48.0,48.0,30.0,57.0,31.0,31.0,31.0,25.0,19.0,33.0,31.0,27.0,27.0,27.0,43.0,58.0,32.0,44.0,44.0,46.0,41.0,45.0,65.0,35.0,39.0,45.0,35.0,44.0,44.0,54.0,43.0,56.0,36.0,30.0,38.0,38.0,44.0,30.0,30.0,30.0,43.0,36.0,32.0,60.0,18.0,48.0,48.0,24.0,23.0,32.0,32.0,32.0,40.0,47.0,43.0,46.0,53.0,55.0,47.0,47.0,64.0,47.0,47.0,30.0,42.0,53.0,46.0,46.0,53.0,36.0,44.0,44.0,38.0,38.0,38.0,38.0,64.0,45.0,34.0,34.0,34.0,80.0,39.0,39.0,51.0,61.0,44.0,39.0,29.0,29.0,29.0,51.0,48.0,32.0,54.0,32.0,47.0,47.0,42.0,37.0,37.0,24.0,35.0,30.0,30.0,49.0,27.0,27.0,27.0,72.0,72.0,30.0,24.0,24.0,54.0,54.0,54.0,25.0,29.0,29.0,29.0,26.0,32.0,29.0,33.0,29.0,41.0,37.0,39.0,39.0,37.0,60.0,60.0,44.0,51.0,38.0,27.0,50.0,26.0,50.0,45.0,61.0,41.0,46.0,32.0,41.0,39.0,27.0,35.0,35.0,61.0,24.0,32.0,29.0,56.0,44.0,38.0,58.0,38.0,35.0,34.0,32.0,40.0,56.0,47.0,40.0,40.0,35.0,28.0,34.0,35.0,29.0,46.0,36.0,51.0,39.0,37.0,37.0,45.0,32.0,32.0,46.0,35.0,22.0,52.0,33.0,22.0,22.0,61.0,35.0,35.0,75.0,49.0,37.0,37.0,32.0,28.0,28.0,57.0,47.0,47.0,23.0,58.0,51.0,38.0,23.0,37.0,37.0,28.0,39.0,39.0,39.0,40.0,40.0,58.0,25.0,25.0,26.0,26.0,39.0,39.0,59.0,29.0,35.0,35.0,35.0,35.0,35.0,55.0,29.0,29.0,29.0,34.0,30.0,30.0,42.0,41.0,45.0,24.0,24.0,26.0,41.0,28.0,46.0,58.0,20.0,51.0,28.0,53.0,29.0,29.0,29.0,63.0,41.0,36.0,44.0,44.0,46.0,56.0,56.0,56.0,42.0,60.0,64.0,35.0,35.0,35.0,38.0,45.0,34.0,34.0,51.0,32.0,31.0,34.0,56.0,34.0,43.0,40.0,40.0,40.0,40.0,40.0,45.0,27.0,49.0,56.0,36.0,32.0,31.0,41.0,38.0,56.0,36.0,31.0,57.0,34.0,32.0,61.0,30.0,22.0,38.0,58.0,35.0,41.0,35.0,47.0,55.0,54.0,54.0,54.0,36.0,36.0,82.0,26.0,36.0,47.0,25.0,40.0,28.0,42.0,43.0,41.0,47.0,69.0,36.0,45.0,39.0,44.0,44.0,23.0,47.0,47.0,47.0,31.0,25.0,48.0,42.0,42.0,42.0,42.0,64.0,23.0,39.0,62.0,62.0,68.0,68.0,40.0,40.0,56.0,49.0,47.0,29.0,29.0,29.0,26.0,28.0,33.0,31.0,31.0,31.0,42.0,47.0,53.0,33.0,31.0,31.0,52.0,29.0,54.0,27.0,33.0,33.0,62.0,27.0,27.0,27.0,38.0,35.0,35.0,20.0,64.0,28.0,32.0,24.0,46.0,27.0,29.0,57.0,57.0,29.0,29.0,39.0,62.0,63.0,63.0,30.0,30.0,22.0,18.0,39.0,27.0,27.0,24.0,50.0,49.0,59.0,54.0,32.0,29.0,29.0,29.0,33.0,41.0,55.0,40.0,27.0,25.0,25.0,52.0,36.0,36.0,56.0,56.0,27.0,45.0,44.0,34.0,50.0,50.0,62.0,42.0,42.0,55.0,40.0,36.0,58.0,57.0,27.0,27.0,31.0,32.0,26.0,33.0,61.0,45.0,43.0,43.0,63.0,63.0,43.0,43.0,42.0,42.0,29.0,29.0,40.0,40.0,40.0,29.0,52.0,52.0,52.0,46.0,46.0,46.0,29.0,29.0,41.0,47.0,28.0,28.0,56.0,56.0,56.0,56.0,56.0,37.0,36.0,25.0,27.0,27.0,27.0,35.0,39.0,31.0,46.0,46.0,42.0,54.0,53.0,53.0,36.0,65.0,41.0,25.0,52.0,30.0,62.0,57.0,53.0,43.0,34.0,41.0,41.0,46.0,70.0,57.0,32.0,71.0,25.0,30.0,35.0,39.0,39.0,39.0,41.0,42.0,42.0,51.0,23.0,44.0,34.0,35.0,35.0,25.0,25.0,41.0,42.0,63.0,24.0,31.0,40.0,30.0,45.0,58.0,38.0,null,null,28.0,33.0,null,29.0,29.0,32.0,32.0,24.0,24.0,26.0,26.0,34.0,34.0,34.0,43.0,55.0,38.0,45.0,45.0,37.0,37.0,49.0,35.0,43.0,43.0,41.0,36.0,36.0,46.0,52.0,43.0,56.0,49.0,42.0,19.0,19.0,26.0,43.0,46.0,44.0,27.0,27.0,47.0,47.0,43.0,32.0,54.0,54.0,25.0,30.0,59.0,55.0,55.0,64.0,64.0,57.0,41.0,41.0,42.0,41.0,55.0,83.0,83.0,63.0,36.0,36.0,27.0,32.0,30.0,58.0,34.0,39.0,59.0,28.0,34.0,35.0,26.0,26.0,58.0,46.0,46.0,37.0,44.0,31.0,35.0,35.0,71.0,59.0,59.0,43.0,50.0,37.0,41.0,57.0,64.0,49.0,31.0,42.0,38.0,33.0,33.0,31.0,47.0,43.0,33.0,30.0,30.0,30.0,30.0,34.0,34.0,33.0,60.0,60.0,51.0,51.0,41.0,41.0,66.0,29.0,39.0,29.0,29.0,47.0,47.0,47.0,47.0,47.0,37.0,45.0,45.0,56.0,27.0,56.0,23.0,51.0,52.0,43.0,33.0,59.0,56.0,44.0,43.0,43.0,43.0,50.0,42.0,34.0,32.0,30.0,52.0,52.0,31.0,26.0,40.0,49.0,26.0,26.0,37.0,51.0,43.0,35.0,26.0,48.0,51.0,39.0,39.0,43.0,51.0,65.0,50.0,50.0,50.0,62.0,51.0,34.0,43.0,76.0,38.0,27.0,56.0,56.0,38.0,38.0,38.0,52.0,52.0,52.0,56.0,56.0,56.0,54.0,57.0,57.0,57.0,38.0,43.0,39.0,26.0,46.0,35.0,25.0,60.0,48.0,48.0,48.0,56.0,41.0,45.0,45.0,24.0,57.0,55.0,30.0,30.0,26.0,23.0,46.0,62.0,36.0,37.0,34.0,67.0,59.0,57.0,35.0,46.0,36.0,47.0,23.0,40.0,57.0,41.0,50.0,60.0,51.0,51.0,29.0,29.0,37.0,44.0,45.0,null,43.0,37.0,31.0,63.0,63.0,63.0,63.0,63.0,63.0,null,30.0,27.0,30.0,24.0,63.0,41.0,41.0,39.0,34.0,34.0,64.0,27.0,40.0,42.0,42.0,42.0,42.0,41.0,41.0,21.0,32.0,26.0,46.0,46.0,20.0,47.0,47.0,45.0,39.0,39.0,35.0,21.0,21.0,38.0,38.0,39.0,39.0,39.0,48.0,48.0,48.0,23.0,35.0,35.0,35.0,35.0,24.0,54.0,54.0,55.0,28.0,23.0,32.0,48.0,38.0,49.0,48.0,54.0,34.0,51.0,68.0,36.0,30.0,53.0,31.0,31.0,46.0,58.0,44.0,63.0,36.0,31.0,53.0,35.0,60.0,33.0,27.0,38.0,42.0,39.0,41.0,46.0,27.0,52.0,60.0,48.0,48.0,39.0,61.0,61.0,54.0,54.0,52.0,41.0,38.0,40.0,40.0,40.0,38.0,38.0,27.0,47.0,33.0,63.0,34.0,30.0,41.0,52.0,52.0,52.0,27.0,34.0,51.0,51.0,32.0,48.0,48.0,43.0,41.0,41.0,59.0,35.0,35.0,46.0,55.0,49.0,28.0,42.0,24.0,41.0,38.0,39.0,45.0,37.0,37.0,65.0,64.0,52.0,35.0,35.0,49.0,43.0,23.0,23.0,23.0,37.0,52.0,33.0,34.0,37.0,37.0,34.0,27.0,27.0,51.0,34.0,44.0,41.0,41.0,25.0,34.0,29.0,29.0,46.0,50.0,31.0,41.0,41.0,59.0,59.0,65.0,58.0,28.0,36.0,36.0,26.0,49.0,49.0,40.0,40.0,40.0,33.0,41.0,41.0,25.0,44.0,50.0,50.0,51.0,54.0,58.0,30.0,30.0,45.0,40.0,28.0,28.0,38.0,38.0,34.0,33.0,66.0,54.0,58.0,58.0,36.0,39.0,30.0,30.0,30.0,24.0,49.0,64.0,null,28.0,55.0,32.0,46.0,46.0,51.0,51.0,56.0,49.0,59.0,59.0,45.0,23.0,30.0,28.0,28.0,40.0,34.0,51.0,37.0,44.0,47.0,41.0,49.0,25.0,50.0,24.0,30.0,60.0,60.0,22.0,65.0,53.0,54.0,40.0,40.0,55.0,47.0,64.0,54.0,54.0,86.0,28.0,57.0,23.0,23.0,28.0,48.0,48.0,32.0,35.0,33.0,36.0,30.0,47.0,32.0,37.0,44.0,39.0,39.0,54.0,54.0,37.0,34.0,50.0,50.0,50.0,50.0,50.0,27.0,36.0,41.0,32.0,54.0,54.0,32.0,53.0,33.0,33.0,35.0,35.0,63.0,28.0,50.0,40.0,30.0,48.0,48.0,48.0,47.0,44.0,55.0,55.0,35.0,51.0,22.0,53.0,25.0,46.0,null,34.0,34.0,40.0,49.0,60.0,47.0,47.0,52.0,54.0,35.0,25.0,59.0,40.0,33.0,33.0,45.0,23.0,33.0,50.0,50.0,67.0,29.0,37.0,40.0,26.0,49.0,42.0,41.0,41.0,25.0,49.0,62.0,62.0,37.0,32.0,32.0,37.0,46.0,46.0,30.0,62.0,59.0,59.0,59.0,35.0,50.0,20.0,34.0,44.0,34.0,30.0,47.0,45.0,53.0,54.0,43.0,43.0,33.0,61.0,61.0,59.0,53.0,58.0,22.0,80.0,30.0,30.0,29.0,62.0,50.0,27.0,27.0,54.0,34.0,34.0,36.0,24.0,26.0,65.0,27.0,27.0,47.0,40.0,40.0,44.0,56.0,64.0,29.0,47.0,47.0,47.0,61.0,61.0,27.0,55.0,42.0,41.0,59.0,61.0,56.0,56.0,56.0,33.0,36.0,45.0,32.0,51.0,59.0,54.0,58.0,66.0,66.0,25.0,28.0,60.0,50.0,39.0,63.0,51.0,43.0,40.0,54.0,54.0,63.0,41.0,41.0,41.0,41.0,41.0,38.0,51.0,33.0,35.0,60.0,34.0,34.0,62.0,58.0,58.0,19.0,48.0,58.0,58.0,56.0,47.0,47.0,60.0,47.0,38.0,41.0,46.0,37.0,54.0,27.0,33.0,38.0,57.0,36.0,null,17.0,54.0,37.0,37.0,51.0,45.0,63.0,38.0,19.0,51.0,41.0,29.0,47.0,45.0,37.0,28.0,40.0,40.0,24.0,24.0,57.0,39.0,39.0,39.0,54.0,37.0,28.0,48.0,57.0,null,63.0,64.0,85.0,33.0,33.0,21.0,44.0,53.0,null,41.0,27.0,27.0,45.0,45.0,30.0,54.0,56.0,41.0,46.0,29.0,29.0,59.0,63.0,36.0,27.0,59.0,43.0,29.0,null,64.0,64.0,34.0,37.0,27.0,null,51.0,37.0,null,null,49.0,25.0,52.0,null,null,35.0,35.0,61.0,61.0,41.0,35.0,35.0,41.0,58.0,27.0,25.0,27.0,52.0,45.0,45.0,36.0,24.0,56.0,46.0,48.0,null,30.0,49.0,49.0,50.0,40.0,null,50.0,50.0,50.0,38.0,35.0,33.0,39.0,52.0,52.0,54.0,70.0,63.0,55.0,29.0,57.0,55.0,42.0,null,26.0,26.0,20.0,null,36.0,72.0,38.0,50.0,22.0,50.0,33.0,null,40.0,40.0,37.0,34.0,51.0,51.0,51.0,28.0,38.0,38.0,null,36.0,36.0,29.0,36.0,33.0,26.0,null,44.0,42.0,42.0,62.0,62.0,56.0,48.0,24.0,44.0,44.0,null,28.0,null,null,null,22.0,null,null,null,null,28.0,42.0,42.0,32.0,69.0,46.0,46.0,45.0,45.0,44.0,44.0,33.0,42.0,58.0,66.0,44.0,40.0,40.0,25.0,49.0,38.0,48.0,48.0,48.0,48.0,59.0,65.0,65.0,43.0,43.0,54.0,54.0,43.0,60.0,45.0,34.0,72.0,72.0,42.0,53.0,42.0,28.0,28.0,41.0,41.0,43.0,43.0,35.0,62.0,55.0,54.0,75.0,25.0,53.0,33.0,38.0,45.0,27.0,32.0,32.0,37.0,30.0,30.0,50.0,46.0,38.0,43.0,29.0,32.0,32.0,60.0,49.0,49.0,51.0,41.0,33.0,27.0,27.0,40.0,67.0,50.0,40.0,56.0,56.0,29.0,67.0,44.0,44.0,54.0,41.0,42.0,30.0,35.0,58.0,47.0,26.0,24.0,24.0,55.0,55.0,53.0,21.0,21.0,21.0,68.0,34.0,40.0,40.0,36.0,42.0,42.0,47.0,53.0,53.0,26.0,36.0,32.0,32.0,45.0,62.0,38.0,38.0,28.0,37.0,37.0,32.0,25.0,94.0,60.0,60.0,37.0,37.0,38.0,25.0,35.0,26.0,26.0,23.0,46.0,46.0,28.0,50.0,48.0,34.0,34.0,34.0,44.0,44.0,44.0,44.0,44.0,50.0,48.0,46.0,38.0,60.0,52.0,28.0,28.0,54.0,54.0,44.0,59.0,35.0,27.0,42.0,42.0,66.0,40.0,48.0,48.0,21.0,40.0,51.0,51.0,51.0,40.0,29.0,29.0,49.0,49.0,49.0,32.0,46.0,27.0,27.0,37.0,59.0,37.0,32.0,32.0,45.0,60.0,60.0,38.0,37.0,38.0,27.0,27.0,49.0,46.0,35.0,21.0,37.0,45.0,76.0,76.0,29.0,25.0,36.0,36.0,56.0,27.0,45.0,36.0,63.0,63.0,39.0,43.0,61.0,61.0,61.0,61.0,61.0,61.0,61.0,61.0,61.0,61.0,61.0,75.0,35.0,38.0,null,59.0,59.0,50.0,55.0,55.0,31.0,38.0,64.0,27.0,27.0,73.0,47.0,46.0,35.0,46.0,25.0,49.0,59.0,57.0,32.0,58.0,58.0,47.0,32.0,47.0,48.0,51.0,83.0,56.0,51.0,37.0,null,22.0,48.0,null,44.0,48.0,55.0,57.0,51.0,41.0,41.0,37.0,42.0,66.0,null,55.0,49.0,21.0,45.0,60.0,26.0,36.0,67.0,38.0,40.0,25.0,35.0,32.0,29.0,29.0,29.0,29.0,29.0,29.0,59.0,50.0,50.0,50.0,44.0,31.0,31.0,65.0,29.0,43.0,54.0,49.0,54.0,33.0,40.0,40.0,38.0,38.0,43.0,43.0,43.0,62.0,62.0,27.0,27.0,35.0,33.0,33.0,52.0,52.0,41.0,41.0,37.0,null,30.0,43.0,null,null,60.0,null,28.0,null,56.0,50.0,null,31.0,59.0,24.0,31.0,38.0,33.0,52.0,41.0,55.0,36.0,49.0,33.0,40.0,39.0,45.0,23.0,50.0,30.0,36.0,57.0,24.0,59.0,59.0,52.0,21.0,21.0,37.0,33.0,39.0,62.0,58.0,null,null,26.0,33.0,36.0,59.0,59.0,59.0,38.0,30.0,47.0,43.0,43.0,39.0,null,null,30.0,35.0,35.0,58.0,58.0,32.0,52.0,52.0,44.0,32.0,24.0,24.0,36.0,60.0,40.0,63.0,null,null,36.0,70.0,36.0,60.0,60.0,32.0,22.0,22.0,26.0,19.0,26.0,26.0,59.0,29.0,null,null,39.0,43.0,43.0,43.0,53.0,35.0,35.0,29.0,51.0,45.0,42.0,74.0,74.0,41.0,56.0,34.0,41.0,41.0,67.0,53.0,25.0,28.0,49.0,34.0,62.0,50.0,43.0,57.0,57.0,57.0,57.0,34.0,31.0,30.0,52.0,52.0,26.0,26.0,54.0,60.0,60.0,48.0,48.0,51.0,31.0,52.0,66.0,66.0,52.0,null,null,39.0,39.0,49.0,49.0,49.0,36.0,49.0,34.0,52.0,29.0,58.0,35.0,36.0,51.0,58.0,59.0,53.0,57.0,33.0,33.0,44.0,44.0,35.0,22.0,53.0,58.0,58.0,36.0,45.0,58.0,31.0,31.0,31.0,31.0,39.0,51.0,51.0,69.0,24.0,63.0,63.0,31.0,54.0,36.0,44.0,42.0,60.0,35.0,33.0,49.0,50.0,58.0,27.0,27.0,27.0,45.0,65.0,55.0,55.0,36.0,48.0,21.0,29.0,41.0,47.0,34.0,38.0,38.0,34.0,34.0,34.0,34.0,34.0,38.0,38.0,38.0,38.0,38.0,38.0,38.0,38.0,38.0,38.0,38.0,38.0,41.0,27.0,48.0,39.0,45.0,25.0,23.0,23.0,52.0,35.0,32.0,63.0,47.0,25.0,48.0,null,22.0,27.0,40.0,35.0,39.0,39.0,49.0,29.0,20.0,20.0,52.0,28.0,42.0,46.0,36.0,36.0,50.0,41.0,48.0,55.0,34.0,24.0,24.0,41.0,41.0,47.0,47.0,61.0,26.0,55.0,55.0,33.0,52.0,36.0,36.0,57.0,55.0,33.0,34.0,33.0,59.0,51.0,41.0,66.0,27.0,35.0,30.0,39.0,61.0,61.0,48.0,56.0,38.0,33.0,62.0,29.0,28.0,49.0,56.0,34.0,46.0,46.0,46.0,35.0,35.0,60.0,34.0,50.0,40.0,35.0,35.0,32.0,20.0,42.0,54.0,35.0,35.0,65.0,27.0,27.0,59.0,44.0,33.0,46.0,37.0,34.0,46.0,46.0,59.0,50.0,47.0,29.0,49.0,55.0,65.0,51.0,62.0,54.0,56.0,56.0,39.0,66.0,40.0,41.0,62.0,28.0,40.0,44.0,36.0,26.0,37.0,20.0,23.0,45.0,45.0,55.0,48.0,54.0,33.0,33.0,47.0,47.0,51.0,48.0,54.0,38.0,45.0,59.0,32.0,47.0,30.0,47.0,29.0,48.0,63.0,34.0,34.0,45.0,44.0,49.0,null,null,30.0,26.0,61.0,35.0,null,52.0,45.0,38.0,null,41.0,null,null,null,null,28.0,29.0,30.0,47.0,57.0,null,43.0,37.0,25.0,63.0,null,66.0,66.0,66.0,52.0,39.0,63.0,52.0,null,25.0,53.0,31.0,36.0,36.0,58.0,64.0,null,28.0,29.0,45.0,51.0,56.0,36.0,43.0,61.0,55.0,44.0,30.0,55.0,61.0,61.0,38.0,38.0,37.0,37.0,null,null,null,61.0,26.0,37.0,null,48.0,null,null,64.0,64.0,null,null,null,null,48.0,50.0,23.0,null,22.0,45.0,18.0,48.0,48.0,60.0,63.0,63.0,37.0,49.0,27.0,29.0,29.0,22.0,22.0,24.0,24.0,58.0,48.0,29.0,29.0,29.0,29.0,32.0,50.0,30.0,51.0,52.0,52.0,65.0,58.0,65.0,45.0,67.0,28.0,28.0,61.0,27.0,47.0,31.0,32.0,62.0,58.0,62.0,45.0,57.0,57.0,42.0,30.0,36.0,28.0,28.0,32.0,65.0,53.0,56.0,25.0,36.0,57.0,47.0,33.0,37.0,79.0,62.0,44.0,44.0,62.0,35.0,31.0,21.0,21.0,38.0,33.0,32.0,33.0,48.0,64.0,61.0,40.0,68.0,52.0,33.0,53.0,39.0,49.0,50.0,36.0,57.0,61.0,36.0,53.0,55.0,25.0,51.0,55.0,55.0,26.0,51.0,41.0,52.0,47.0,23.0,27.0,32.0,32.0,32.0,32.0,28.0,39.0,32.0,25.0,28.0,36.0,36.0,47.0,38.0,38.0,38.0,50.0,25.0,25.0,61.0,0.92,45.0,59.0,23.0,40.0,35.0,53.0,31.0,29.0,49.0,48.0,44.0,37.0,46.0,60.0,49.0,25.0,20.0,20.0,40.0,22.0,20.0,29.0,43.0,41.0,31.0,31.0,51.0,41.0,57.0,57.0,61.0,46.0,37.0,37.0,33.0,33.0,61.0,47.0,25.0,56.0,33.0,33.0,70.0,34.0,34.0,51.0,51.0,56.0,56.0,43.0,41.0,41.0,46.0,46.0,40.0,52.0,65.0,45.0,28.0,70.0,39.0,48.0,48.0,55.0,62.0,33.0,35.0,37.0,59.0,38.0,38.0,38.0,44.0,44.0,62.0,63.0,48.0,41.0,41.0,63.0,58.0,36.0,52.0,57.0,57.0,27.0,27.0,27.0,27.0,51.0,52.0,36.0,42.0,42.0,58.0,47.0,34.0,33.0,29.0,33.0,36.0,45.0,49.0,30.0,55.0,32.0,39.0,37.0,37.0,37.0,35.0,28.0,36.0,36.0,40.0,34.0,54.0,47.0,47.0,34.0,52.0,52.0,52.0,26.0,43.0,56.0,34.0,36.0,36.0,37.0,39.0,65.0,34.0,27.0,27.0,63.0,43.0,48.0,34.0,48.0,41.0,41.0,32.0,39.0,40.0,53.0,53.0,53.0,53.0,53.0,53.0,53.0,53.0,53.0,50.0,28.0,28.0,28.0,60.0,30.0,30.0,44.0,55.0,52.0,52.0,44.0,44.0,39.0,62.0,31.0,63.0,40.0,81.0,27.0,84.0,31.0,31.0,31.0,31.0,85.0,30.0,30.0,42.0,42.0,42.0,42.0,50.0,49.0,49.0,49.0,49.0,44.0,44.0,32.0,47.0,43.0,35.0,35.0,39.0,39.0,39.0,39.0,41.0,44.0,47.0,47.0,23.0,42.0,33.0,40.0,27.0,27.0,26.0,26.0,38.0,38.0,32.0,52.0,32.0,32.0,30.0,51.0,35.0,44.0,71.0,33.0,90.0,82.0,43.0,26.0,21.0,35.0,35.0,45.0,61.0,38.0,38.0,39.0,39.0,36.0,55.0,49.0,37.0,30.0,30.0,36.0,27.0,42.0,42.0,42.0,34.0,39.0,46.0,35.0,48.0,34.0,40.0,41.0,41.0,25.0,55.0,43.0,34.0,34.0,68.0,52.0,28.0,43.0,37.0,41.0,41.0,25.0,49.0,26.0,24.0,38.0,38.0,33.0,33.0,38.0,43.0,43.0,31.0,46.0,46.0,68.0,33.0,39.0,27.0,50.0,44.0,33.0,39.0,39.0,30.0,47.0,37.0,37.0,37.0,37.0,37.0,54.0,54.0,24.0,36.0,36.0,36.0,36.0,38.0,45.0,52.0,50.0,65.0,45.0,35.0,35.0,50.0,50.0,50.0,50.0,29.0,29.0,33.0,31.0,44.0,39.0,29.0,58.0,52.0,63.0,null,23.0,28.0,null,17.0,17.0,32.0,32.0,38.0,25.0,25.0,67.0,67.0,52.0,null,36.0,25.0,25.0,26.0,32.0,32.0,61.0,61.0,43.0,54.0,45.0,45.0,58.0,null,34.0,29.0,null,null,24.0,22.0,null,30.0,48.0,28.0,54.0,null,null,null,null,null,26.0,60.0,58.0,42.0,53.0,53.0,48.0,27.0,57.0,57.0,57.0,57.0,59.0,58.0,30.0,64.0,41.0,47.0,35.0,34.0,33.0,55.0,32.0,50.0,35.0,35.0,35.0,55.0,57.0,43.0,39.0,38.0,42.0,null,66.0,33.0,44.0,37.0,31.0,45.0,42.0,35.0,35.0,35.0,29.0,null,22.0,31.0,53.0,37.0,43.0,43.0,53.0,37.0,37.0,59.0,52.0,52.0,58.0,58.0,47.0,45.0,39.0,29.0,38.0,32.0,56.0,39.0,39.0,55.0,24.0,24.0,45.0,null,58.0,39.0,40.0,34.0,28.0,35.0,35.0,63.0,50.0,48.0,55.0,56.0,56.0,25.0,57.0,57.0,53.0,60.0,60.0,39.0,36.0,37.0,58.0,41.0,41.0,41.0,50.0,50.0,32.0,63.0,63.0,29.0,29.0,28.0,39.0,60.0,63.0,36.0,36.0,57.0,57.0,38.0,52.0,23.0,23.0,57.0,61.0,61.0,41.0,41.0,29.0,29.0,29.0,62.0,28.0,72.0,72.0,28.0,32.0,39.0,35.0,84.0,52.0,52.0,58.0,36.0,40.0,54.0,48.0,64.0,37.0,40.0,49.0,65.0,65.0,44.0,49.0,40.0,37.0,24.0,50.0,43.0,30.0,30.0,28.0,22.0,49.0,71.0,26.0,28.0,36.0,26.0,26.0,26.0,38.0,38.0,38.0,48.0,48.0,48.0,43.0,43.0,50.0,50.0,35.0,35.0,36.0,36.0,45.0,45.0,48.0,48.0,55.0,50.0,60.0,41.0,35.0,35.0,35.0,35.0,57.0,57.0,58.0,68.0,35.0,51.0,43.0,43.0,25.0,45.0,45.0,55.0,62.0,62.0,44.0,64.0,52.0,20.0,35.0,50.0,50.0,36.0,36.0,42.0,53.0,77.0,53.0,52.0,23.0,32.0,32.0,34.0,30.0,60.0,67.0,34.0,46.0,29.0,33.0,63.0,47.0,47.0,42.0,27.0,26.0,27.0,43.0,43.0,30.0,25.0,35.0,35.0,37.0,37.0,64.0,29.0,29.0,29.0,43.0,50.0,50.0,28.0,28.0,28.0,28.0,64.0,50.0,33.0,34.0,55.0,55.0,44.0,37.0,41.0,41.0,31.0,31.0,60.0,53.0,59.0,72.0,60.0,42.0,51.0,63.0,38.0,34.0,34.0,31.0,38.0,51.0,66.0,72.0,33.0,38.0,56.0,26.0,38.0,34.0,53.0,53.0,68.0,68.0,32.0,36.0,36.0,20.0,29.0,47.0,44.0,56.0,57.0,57.0,57.0,33.0,87.0,86.0,28.0,80.0,51.0,55.0,30.0,33.0,43.0,43.0,46.0,46.0,31.0,36.0,47.0,42.0,32.0,32.0,30.0,38.0,38.0,49.0,59.0,41.0,null,55.0,32.0,null,44.0,33.0,49.0,49.0,47.0,36.0,46.0,24.0,38.0,32.0,45.0,53.0,39.0,42.0,42.0,45.0,45.0,72.0,28.0,39.0,23.0,37.0,50.0,39.0,39.0,54.0,63.0,63.0,31.0,48.0,37.0,42.0,42.0,32.0,28.0,28.0,41.0,null,null,null,56.0,29.0,29.0,29.0,34.0,43.0,54.0,54.0,54.0,null,null,25.0,38.0,null,33.0,49.0,32.0,41.0,45.0,45.0,49.0,49.0,33.0,37.0,27.0,68.0,21.0,27.0,31.0,37.0,36.0,52.0,26.0,33.0,22.0,22.0,52.0,27.0,57.0,40.0,null,39.0,null,38.0,47.0,47.0,34.0,37.0,59.0,42.0,39.0,41.0,50.0,49.0,29.0,58.0,24.0,30.0,44.0,31.0,31.0,33.0,58.0,null,25.0,34.0,null,42.0,65.0,50.0,50.0,null,34.0,null,24.0,60.0,60.0,39.0,33.0,33.0,null,null,null,32.0,35.0,35.0,51.0,32.0,null,35.0,40.0,57.0,null,47.0,47.0,null,50.0,49.0,null,null,43.0,43.0,37.0,null,36.0,42.0,34.0,null,51.0,31.0,null,47.0,54.0,null,37.0,37.0,null,31.0,32.0,32.0,42.0,null,27.0,43.0,38.0,36.0,41.0,35.0,36.0,null,58.0,41.0,46.0,46.0,35.0,null,37.0,52.0,43.0,52.0,null,48.0,54.0,32.0,21.0,23.0,64.0,65.0,41.0,41.0,27.0,27.0,21.0,52.0,52.0,52.0,49.0,49.0,43.0,75.0,70.0,33.0,41.0,61.0,43.0,43.0,43.0,55.0,43.0,null,31.0,41.0,41.0,58.0,34.0,53.0,53.0,49.0,58.0,47.0,null,57.0,57.0,25.0,33.0,57.0,54.0,38.0,38.0,38.0,55.0,40.0,40.0,25.0,25.0,null,61.0,49.0,null,34.0,34.0,48.0,53.0,53.0,40.0,40.0,29.0,49.0,49.0,null,21.0,83.0,65.0,null,33.0,51.0,51.0,51.0,null,66.0,73.0,null,47.0,47.0,null,42.0,42.0,34.0,53.0,45.0,45.0,50.0,50.0,50.0,50.0,51.0,75.0,26.0,38.0,38.0,52.0,52.0,36.0,26.0,15.0,46.0,56.0,49.0,49.0,49.0,35.0,45.0,24.0,24.0,23.0,50.0,50.0,40.0,40.0,65.0,64.0,29.0,22.0,30.0,56.0,64.0,23.0,42.0,51.0,30.0,30.0,49.0,43.0,43.0,48.0,24.0,50.0,50.0,67.0,67.0,30.0,33.0,65.0,37.0,30.0,53.0,49.0,61.0,39.0,48.0,64.0,38.0,29.0,29.0,32.0,30.0,49.0,25.0,28.0,27.0,32.0,56.0,41.0,41.0,23.0,29.0,60.0,41.0,38.0,38.0,47.0,34.0,34.0,39.0,39.0,27.0,56.0,23.0,42.0,52.0,52.0,54.0,48.0,54.0,34.0,34.0,32.0,39.0,52.0,52.0,29.0,24.0,58.0,42.0,46.0,36.0,36.0,46.0,60.0,32.0,27.0,47.0,47.0,45.0,null,null,33.0,33.0,58.0,62.0,42.0,27.0,63.0,62.0,47.0,42.0,44.0,44.0,46.0,26.0,26.0,24.0,57.0,57.0,37.0,61.0,64.0,64.0,50.0,32.0,32.0,32.0,37.0,24.0,31.0,47.0,62.0,48.0,48.0,32.0,49.0,51.0,51.0,48.0,46.0,30.0,34.0,34.0,29.0,34.0,34.0,34.0,42.0,42.0,42.0,36.0,45.0,47.0,57.0,59.0,59.0,52.0,23.0,31.0,21.0,67.0,33.0,43.0,43.0,29.0,29.0,29.0,33.0,48.0,48.0,48.0,28.0,28.0,32.0,29.0,29.0,60.0,26.0,26.0,43.0,43.0,56.0,34.0,29.0,26.0,26.0,26.0,null,44.0,44.0,32.0,32.0,28.0,53.0,43.0,43.0,43.0,43.0,31.0,64.0,34.0,57.0,38.0,55.0,50.0,57.0,26.0,32.0,38.0,38.0,33.0,27.0,27.0,36.0,25.0,25.0,38.0,31.0,41.0,41.0,35.0,35.0,29.0,29.0,29.0,53.0,55.0,58.0,55.0,59.0,38.0,52.0,30.0,30.0,42.0,50.0,40.0,43.0,37.0,37.0,25.0,34.0,34.0,61.0,43.0,37.0,43.0,43.0,22.0,34.0,35.0,40.0,40.0,40.0,23.0,57.0,57.0,51.0,31.0,31.0,29.0,54.0,53.0,28.0,28.0,34.0,38.0,34.0,64.0,41.0,43.0,51.0,48.0,48.0,34.0,34.0,60.0,50.0,50.0,31.0,39.0,62.0,36.0,36.0,48.0,41.0,41.0,36.0,63.0,63.0,28.0,29.0,52.0,35.0,35.0,34.0,44.0,24.0,55.0,45.0,22.0,45.0,62.0,30.0,27.0,53.0,50.0,57.0,28.0,53.0,53.0,34.0,57.0,48.0,31.0,44.0,53.0,26.0,66.0,54.0,60.0,34.0,34.0,66.0,20.0,55.0,47.0,51.0,52.0,46.0,43.0,33.0,33.0,81.0,49.0,49.0,28.0,48.0,28.0,28.0,33.0,36.0,35.0,55.0,24.0,24.0,61.0,46.0,46.0,46.0,46.0,31.0,33.0,63.0,63.0,49.0,49.0,39.0,57.0,57.0,57.0,57.0,57.0,57.0,57.0,57.0,36.0,38.0,27.0,61.0,61.0,32.0,30.0,40.0,40.0,45.0,25.0,25.0,31.0,49.0,60.0,54.0,59.0,58.0,37.0,50.0,58.0,28.0,32.0,61.0,61.0,44.0,32.0,43.0,47.0,34.0,38.0,44.0,50.0,48.0,33.0,51.0,33.0,52.0,37.0,28.0,48.0,26.0,44.0,62.0,43.0,41.0,38.0,58.0,56.0,43.0,66.0,28.0,29.0,61.0,58.0,73.0,52.0,45.0,53.0,39.0,57.0,61.0,60.0,60.0,38.0,57.0,45.0,50.0,58.0,27.0,27.0,null,50.0,32.0,20.0,20.0,24.0,24.0,28.0,28.0,54.0,28.0,42.0,33.0,25.0,25.0,23.0,27.0,35.0,34.0,55.0,68.0,52.0,30.0,53.0,53.0,53.0,53.0,29.0,null,38.0,47.0,29.0,null,null,52.0,45.0,null,null,null,25.0,null,31.0,null,null,33.0,33.0,48.0,49.0,28.0,28.0,50.0,19.0,41.0,41.0,33.0,41.0,43.0,51.0,54.0,54.0,52.0,52.0,33.0,48.0,61.0,61.0,53.0,44.0,32.0,56.0,28.0,26.0,49.0,37.0,37.0,54.0,42.0,49.0,63.0,47.0,47.0,54.0,39.0,43.0,54.0,52.0,58.0,26.0,48.0,21.0,37.0,41.0,32.0,35.0,26.0,59.0,44.0,57.0,57.0,31.0,44.0,38.0,44.0,44.0,72.0,42.0,24.0,24.0,41.0,39.0,21.0,21.0,34.0,62.0,58.0,49.0,48.0,49.0,49.0,23.0,23.0,68.0,68.0,34.0,34.0,33.0,33.0,56.0,30.0,38.0,42.0,42.0,55.0,40.0,48.0,57.0,52.0,52.0,48.0,48.0,48.0,37.0,65.0,65.0,49.0,73.0,32.0,54.0,56.0,26.0,58.0,55.0,55.0,55.0,38.0,60.0,29.0,null,null,36.0,36.0,27.0,60.0,34.0,49.0,29.0,29.0,67.0,29.0,29.0,36.0,28.0,39.0,42.0,39.0,28.0,28.0,36.0,28.0,35.0,51.0,51.0,51.0,51.0,32.0,47.0,29.0,30.0,62.0,62.0,53.0,53.0,56.0,45.0,40.0,29.0,62.0,62.0,35.0,32.0,62.0,40.0,32.0,41.0,null,47.0,37.0,28.0,41.0,24.0,53.0,47.0,34.0,35.0,53.0,32.0,32.0,25.0,25.0,72.0,72.0,59.0,49.0,65.0,47.0,49.0,62.0,62.0,57.0,57.0,48.0,44.0,67.0,56.0,51.0,54.0,30.0,30.0,42.0,42.0,42.0,41.0,41.0,41.0,34.0,33.0,22.0,25.0,36.0,23.0,23.0,39.0,56.0,60.0,50.0,50.0,59.0,49.0,46.0,46.0,46.0,48.0,26.0,34.0,41.0,41.0,61.0,61.0,37.0,57.0,38.0,38.0,31.0,31.0,43.0,30.0,47.0,49.0,49.0,49.0,49.0,49.0,25.0,44.0,22.0,59.0,52.0,49.0,29.0,61.0,61.0,34.0,60.0,50.0,28.0,28.0,64.0,56.0,49.0,46.0,62.0,32.0,35.0,35.0,58.0,51.0,51.0,27.0,44.0,44.0,36.0,16.0,43.0,43.0,58.0,58.0,57.0,50.0,23.0,48.0,47.0,46.0,54.0,36.0,61.0,61.0,54.0,60.0,34.0,63.0,63.0,34.0,33.0,45.0,25.0,34.0,38.0,44.0,47.0,27.0,38.0,40.0,32.0,26.0,27.0,26.0,26.0,42.0,37.0,37.0,53.0,50.0,30.0,30.0,55.0,39.0,60.0,42.0,43.0,43.0,36.0,42.0,19.0,29.0,41.0,56.0,56.0,61.0,61.0,101.0,22.0,37.0,71.0,88.0,63.0,26.0,26.0,49.0,49.0,49.0,49.0,32.0,32.0,41.0,24.0,71.0,31.0,31.0,23.0,28.0,41.0,30.0,44.0,40.0,39.0,52.0,50.0,50.0,29.0,33.0,33.0,52.0,52.0,66.0,23.0,35.0,39.0,40.0,36.0,53.0,29.0,29.0,69.0,57.0,57.0,52.0,52.0,83.0,60.0,32.0,32.0,48.0,28.0,32.0,32.0,61.0,52.0,34.0,65.0,56.0,56.0,53.0,41.0,30.0,48.0,40.0,40.0,41.0,45.0,45.0,32.0,44.0,50.0,33.0,33.0,27.0,45.0,36.0,36.0,49.0,41.0,48.0,48.0,38.0,38.0,31.0,32.0,58.0,58.0,39.0,62.0,62.0,56.0,28.0,28.0,28.0,62.0,44.0,44.0,75.0,29.0,73.0,27.0,56.0,51.0,47.0,36.0,53.0,56.0,46.0,46.0,36.0,77.0,48.0,36.0,51.0,51.0,37.0,32.0,33.0,45.0,53.0,53.0,62.0,44.0,27.0,27.0,45.0,45.0,44.0,49.0,60.0,19.0,29.0,49.0,49.0,36.0,40.0,49.0,49.0,54.0,54.0,30.0,30.0,49.0,39.0,40.0,25.0,47.0,47.0,28.0,76.0,30.0,60.0,34.0,34.0,73.0,73.0,47.0,29.0,63.0,67.0,69.0,25.0,26.0,36.0,22.0,55.0,29.0,53.0,35.0,23.0,32.0,44.0,77.0,77.0,44.0,47.0,27.0,52.0,44.0,33.0,26.0,26.0,29.0,64.0,64.0,48.0,33.0,59.0,59.0,45.0,41.0,48.0,38.0,38.0,51.0,29.0,26.0,24.0,24.0,47.0,47.0,47.0,47.0,61.0,49.0,49.0,60.0,29.0,22.0,38.0,43.0,66.0,27.0,32.0,34.0,50.0,null,49.0,49.0,24.0,65.0,37.0,57.0,59.0,31.0,31.0,28.0,28.0,28.0,38.0,32.0,30.0,30.0,30.0,65.0,65.0,45.0,45.0,45.0,45.0,62.0,62.0,46.0,42.0,42.0,53.0,53.0,53.0,36.0,54.0,29.0,39.0,34.0,43.0,49.0,48.0,48.0,42.0,56.0,56.0,46.0,48.0,41.0,41.0,32.0,32.0,32.0,50.0,50.0,61.0,61.0,40.0,40.0,40.0,56.0,65.0,65.0,36.0,69.0,43.0,29.0,29.0,24.0,53.0,37.0,54.0,33.0,48.0,48.0,35.0,34.0,38.0,38.0,34.0,34.0,70.0,40.0,40.0,39.0,39.0,63.0,38.0,47.0,88.0,69.0,42.0,90.0,32.0,34.0,85.0,80.0,35.0,62.0,28.0,29.0,29.0,71.0,53.0,53.0,43.0,75.0,36.0,90.0,24.0,35.0,39.0,96.0,82.0,44.0,44.0,23.0,23.0,39.0,87.0,87.0,32.0,49.0,28.0,30.0,30.0,36.0,33.0,59.0,24.0,43.0,43.0,70.0,70.0,49.0,35.0,24.0,46.0,28.0,28.0,33.0,52.0,52.0,50.0,38.0,51.0,26.0,53.0,54.0,54.0,63.0,43.0,58.0,58.0,22.0,67.0,67.0,32.0,32.0,49.0,35.0,35.0,63.0,63.0,30.0,30.0,66.0,23.0,53.0,51.0,44.0,49.0,49.0,49.0,61.0,31.0,50.0,24.0,33.0,56.0,56.0,46.0,27.0,27.0,57.0,35.0,59.0,59.0,32.0,50.0,70.0,37.0,37.0,50.0,25.0,25.0,63.0,63.0,20.0,49.0,26.0,26.0,33.0,67.0,39.0,39.0,39.0,66.0,66.0,26.0,26.0,60.0,55.0,41.0,null,49.0,33.0,45.0,46.0,46.0,46.0,46.0,59.0,64.0,45.0,41.0,45.0,28.0,28.0,28.0,28.0,63.0,51.0,51.0,63.0,54.0,29.0,29.0,48.0,59.0,30.0,59.0,41.0,34.0,46.0,46.0,49.0,25.0,25.0,54.0,54.0,37.0,40.0,51.0,30.0,30.0,40.0,68.0,33.0,39.0,38.0,39.0,63.0,34.0,34.0,27.0,27.0,56.0,56.0,60.0,29.0,32.0,32.0,46.0,46.0,30.0,30.0,31.0,29.0,59.0,31.0,31.0,36.0,37.0,37.0,46.0,46.0,42.0,42.0,42.0,37.0,35.0,44.0,31.0,41.0,22.0,22.0,65.0,35.0,35.0,28.0,28.0,26.0,26.0,26.0,26.0,27.0,49.0,40.0,40.0,59.0,59.0,59.0,59.0,23.0,23.0,23.0,60.0,60.0,52.0,52.0,25.0,32.0,32.0,52.0,52.0,65.0,65.0,51.0,37.0,37.0,49.0,49.0,49.0,49.0,49.0,40.0,58.0,47.0,47.0,38.0,34.0,34.0,34.0,34.0,34.0,44.0,44.0,23.0,23.0,62.0,57.0,59.0,32.0,25.0,25.0,38.0,38.0,21.0,52.0,52.0,60.0,57.0,50.0,65.0,29.0,29.0,29.0,57.0,35.0,28.0,43.0,67.0,39.0,29.0,43.0,43.0,41.0,41.0,50.0,64.0,27.0,27.0,34.0,59.0,45.0,56.0,57.0,47.0,29.0,29.0,58.0,42.0,59.0,31.0,27.0,33.0,31.0,32.0,24.0,24.0,29.0,31.0,40.0,40.0,28.0,46.0,28.0,36.0,24.0,27.0,44.0,68.0,52.0,56.0,56.0,56.0,56.0,51.0,51.0,65.0,36.0,36.0,30.0,25.0,31.0,55.0,43.0,43.0,39.0,39.0,33.0,49.0,49.0,41.0,41.0,59.0,59.0,42.0,42.0,40.0,24.0,28.0,28.0,50.0,50.0,55.0,53.0,30.0,34.0,42.0,27.0,67.0,67.0,36.0,43.0,37.0,37.0,42.0,39.0,37.0,37.0,37.0,24.0,55.0,55.0,66.0,66.0,67.0,56.0,25.0,25.0,45.0,44.0,35.0,61.0,33.0,61.0,26.0,21.0,21.0,21.0,21.0,23.0,20.0,51.0,20.0,29.0,38.0,38.0,21.0,21.0,57.0,41.0,50.0,59.0,54.0,54.0,47.0,47.0,23.0,26.0,42.0,45.0,43.0,43.0,48.0,48.0,48.0,38.0,36.0,36.0,36.0,54.0,24.0,30.0,66.0,26.0,39.0,39.0,39.0,65.0,44.0,44.0,44.0,26.0,26.0,50.0,53.0,46.0,39.0,47.0,30.0,61.0,52.0,60.0,44.0,56.0,56.0,30.0,59.0,44.0,59.0,53.0,42.0,42.0,39.0,50.0,32.0,26.0,40.0,40.0,54.0,22.0,22.0,34.0,53.0,53.0,43.0,53.0,53.0,53.0,36.0,26.0,30.0,30.0,24.0,24.0,59.0,32.0,26.0,20.0,28.0,28.0,28.0,41.0,21.0,72.0,59.0,59.0,60.0,62.0,25.0,34.0,39.0,28.0,35.0,55.0,55.0,55.0,39.0,41.0,44.0,30.0,58.0,52.0,52.0,61.0,45.0,45.0,58.0,44.0,33.0,57.0,48.0,47.0,46.0,46.0,35.0,17.0,43.0,46.0,43.0,54.0,61.0,37.0,37.0,37.0,37.0,34.0,34.0,31.0,31.0,31.0,31.0,53.0,53.0,45.0,45.0,35.0,28.0,28.0,67.0,32.0,48.0,40.0,27.0,34.0,34.0,74.0,68.0,61.0,42.0,52.0,42.0,42.0,33.0,32.0,50.0,50.0,42.0,59.0,29.0,28.0,28.0,47.0,37.0,33.0,33.0,54.0,54.0,31.0,39.0,39.0,39.0,51.0,39.0,36.0,63.0,63.0,40.0,null,34.0,34.0,32.0,48.0,42.0,42.0,71.0,71.0,34.0,45.0,45.0,38.0,47.0,25.0,31.0,49.0,45.0,45.0,45.0,45.0,38.0,46.0,46.0,34.0,34.0,29.0,29.0,27.0,27.0,25.0,21.0,43.0,45.0,32.0,20.0,20.0,28.0,28.0,37.0,56.0,59.0,34.0,41.0,52.0,52.0,71.0,50.0,34.0,44.0,44.0,61.0,61.0,54.0,54.0,57.0,25.0,25.0,25.0,63.0,38.0,30.0,52.0,52.0,32.0,66.0,57.0,37.0,31.0,72.0,43.0,53.0,35.0,35.0,31.0,36.0,36.0,36.0,24.0,31.0,57.0,57.0,42.0,39.0,42.0,60.0,38.0,28.0,59.0,59.0,60.0,44.0,62.0,62.0,41.0,48.0,48.0,48.0,48.0,59.0,41.0,49.0,31.0,39.0,50.0,39.0,59.0,51.0,46.0,39.0,42.0,56.0,57.0,57.0,61.0,61.0,19.0,19.0,30.0,51.0,51.0,20.0,41.0,51.0,56.0,56.0,62.0,39.0,39.0,61.0,30.0,51.0,34.0,31.0,62.0,62.0,60.0,31.0,39.0,39.0,27.0,30.0,60.0,60.0,60.0,33.0,48.0,41.0,55.0,55.0,30.0,27.0,27.0,27.0,25.0,62.0,48.0,48.0,30.0,55.0,55.0,29.0,60.0,60.0,41.0,41.0,65.0,61.0,61.0,61.0,59.0,41.0,60.0,61.0,52.0,25.0,25.0,35.0,48.0,65.0,65.0,44.0,42.0,44.0,37.0,37.0,37.0,37.0,null,30.0,57.0,57.0,57.0,59.0,38.0,59.0,41.0,41.0,31.0,67.0,44.0,42.0,67.0,67.0,46.0,46.0,58.0,58.0,36.0,36.0,43.0,42.0,44.0,44.0,57.0,57.0,50.0,41.0,41.0,67.0,51.0,51.0,47.0,47.0,47.0,34.0,34.0,46.0,42.0,42.0,61.0,43.0,90.0,90.0,49.0,49.0,24.0,49.0,51.0,31.0,31.0,35.0,45.0,45.0,40.0,null,29.0,29.0,42.0,42.0,90.0,29.0,29.0,31.0,46.0,27.0,42.0,46.0,46.0,53.0,56.0,43.0,43.0,23.0,35.0,35.0,34.0,34.0,66.0,40.0,49.0,31.0,31.0,38.0,40.0,58.0,39.0,58.0,51.0,48.0,48.0,33.0,30.0,30.0,31.0,31.0,35.0,43.0,35.0,42.0,52.0,30.0,23.0,24.0,41.0,33.0,41.0,54.0,30.0,43.0,43.0,33.0,38.0,38.0,34.0,43.0,43.0,27.0,46.0,64.0,31.0,31.0,64.0,42.0,40.0,40.0,44.0,57.0,57.0,57.0,38.0,37.0,40.0,37.0,36.0,22.0,61.0,21.0,22.0,30.0,30.0,38.0,34.0,56.0,66.0,34.0,55.0,76.0,48.0,46.0,69.0,69.0,28.0,43.0,43.0,43.0,61.0,61.0,61.0,56.0,40.0,45.0,45.0,37.0,54.0,20.0,20.0,31.0,45.0,43.0,43.0,58.0,58.0,36.0,43.0,43.0,43.0,41.0,37.0,37.0,57.0,44.0,44.0,null,null,36.0,36.0,43.0,43.0,43.0,37.0,42.0,42.0,42.0,28.0,22.0,35.0,37.0,41.0,39.0,39.0,37.0,54.0,41.0,41.0,25.0,68.0,66.0,66.0,41.0,41.0,33.0,33.0,27.0,32.0,26.0,30.0,28.0,39.0,27.0,27.0,49.0,49.0,41.0,41.0,21.0,21.0,43.0,42.0,31.0,31.0,34.0,35.0,31.0,35.0,51.0,51.0,59.0,40.0,33.0,25.0,50.0,27.0,52.0,45.0,51.0,51.0,42.0,28.0,50.0,50.0,64.0,64.0,64.0,64.0,64.0,64.0,33.0,65.0,30.0,59.0,59.0,24.0,65.0,32.0,24.0,35.0,49.0,23.0,53.0,54.0,62.0,59.0,59.0,57.0,57.0,59.0,40.0,42.0,42.0,45.0,45.0,49.0,49.0,51.0,55.0,55.0,55.0,25.0,43.0,43.0,39.0,39.0,32.0,31.0,55.0,55.0,30.0,28.0,62.0,41.0,41.0,47.0,52.0,20.0,20.0,55.0,22.0,41.0,41.0,53.0,53.0,46.0,41.0,36.0,29.0,29.0,61.0,22.0,35.0,35.0,36.0,42.0,24.0,54.0,44.0,31.0,31.0,60.0,43.0,52.0,58.0,47.0,47.0,56.0,32.0,32.0,32.0,23.0,52.0,38.0,55.0,46.0,28.0,28.0,28.0,57.0,57.0,31.0,31.0,33.0,52.0,52.0,40.0,65.0,56.0,56.0,56.0,56.0,56.0,61.0,39.0,72.0,49.0,55.0,55.0,41.0,46.0,46.0,39.0,46.0,39.0,34.0,44.0,41.0,39.0,39.0,42.0,47.0,64.0,43.0,57.0,42.0,55.0,55.0,31.0,31.0,42.0,35.0,29.0,33.0,37.0,37.0,28.0,70.0,51.0,70.0,52.0,52.0,41.0,37.0,50.0,63.0,63.0,63.0,63.0,52.0,52.0,52.0,52.0,65.0,56.0,56.0,56.0,33.0,53.0,53.0,48.0,30.0,51.0,48.0,48.0,27.0,54.0,32.0,54.0,45.0,64.0,41.0,55.0,55.0,63.0,62.0,48.0,43.0,43.0,45.0,40.0,40.0,42.0,31.0,49.0,48.0,43.0,41.0,40.0,24.0,50.0,44.0,52.0,46.0,49.0,57.0,54.0,54.0,21.0,37.0,51.0,56.0,49.0,49.0,49.0,49.0,20.0,35.0,35.0,26.0,64.0,57.0,57.0,28.0,49.0,63.0,59.0,59.0,70.0,51.0,51.0,64.0,44.0,44.0,45.0,33.0,36.0,36.0,51.0,51.0,29.0,46.0,46.0,59.0,61.0,56.0,51.0,27.0,46.0,47.0,47.0,51.0,51.0,31.0,36.0,36.0,59.0,36.0,58.0,58.0,20.0,23.0,41.0,35.0,35.0,30.0,35.0,35.0,25.0,42.0,49.0,49.0,54.0,41.0,62.0,42.0,44.0,34.0,34.0,49.0,49.0,62.0,62.0,62.0,22.0,58.0,40.0,40.0,34.0,49.0,49.0,56.0,56.0,56.0,56.0,52.0,52.0,56.0,26.0,39.0,39.0,61.0,61.0,41.0,41.0,53.0,36.0,36.0,69.0,39.0,29.0,29.0,73.0,null,24.0,21.0,38.0,36.0,36.0,55.0,26.0,47.0,25.0,37.0,37.0,37.0,31.0,48.0,48.0,48.0,null,62.0,40.0,40.0,40.0,31.0,31.0,68.0,68.0,53.0,43.0,23.0,50.0,65.0,31.0,31.0,49.0,22.0,51.0,52.0,53.0,26.0,41.0,41.0,41.0,30.0,32.0,27.0,27.0,58.0,49.0,43.0,43.0,41.0,45.0,46.0,58.0,31.0,50.0,56.0,76.0,76.0,61.0,41.0,49.0,49.0,49.0,66.0,41.0,25.0,25.0,25.0,25.0,42.0,42.0,34.0,34.0,41.0,41.0,42.0,42.0,33.0,33.0,null,56.0,null,43.0,64.0,64.0,null,null,null,null,22.0,null,null,29.0,63.0,null,58.0,63.0,48.0,48.0,49.0,42.0,47.0,42.0,42.0,42.0,48.0,48.0,60.0,null,39.0,28.0,28.0,28.0,23.0,49.0,44.0,33.0,33.0,33.0,38.0,41.0,33.0,26.0,26.0,26.0,66.0,35.0,35.0,27.0,24.0,43.0,43.0,34.0,52.0,59.0,45.0,45.0,33.0,null,null,null,84.0,30.0,52.0,52.0,52.0,52.0,44.0,38.0,38.0,38.0,63.0,34.0,32.0,29.0,47.0,29.0,33.0,43.0,43.0,43.0,60.0,29.0,38.0,null,33.0,42.0,42.0,41.0,52.0,45.0,32.0,null,null,41.0,57.0,57.0,30.0,33.0,33.0,54.0,38.0,62.0,65.0,26.0,51.0,51.0,64.0,46.0,50.0,29.0,43.0,43.0,62.0,39.0,26.0,49.0,49.0,54.0,28.0,50.0,55.0,44.0,50.0,50.0,26.0,null,61.0,61.0,36.0,52.0,50.0,58.0,55.0,33.0,37.0,38.0,38.0,35.0,54.0,54.0,null,45.0,45.0,48.0,34.0,57.0,57.0,null,32.0,32.0,49.0,61.0,null,32.0,37.0,37.0,40.0,45.0,45.0,49.0,49.0,36.0,36.0,49.0,35.0,40.0,53.0,41.0,44.0,29.0,56.0,null,null,null,51.0,66.0,52.0,72.0,46.0,46.0,46.0,46.0,null,25.0,25.0,67.0,41.0,46.0,46.0,38.0,38.0,46.0,24.0,24.0,24.0,24.0,48.0,52.0,46.0,55.0,null,null,48.0,35.0,45.0,62.0,48.0,48.0,null,40.0,52.0,27.0,27.0,43.0,30.0,30.0,54.0,null,56.0,56.0,63.0,60.0,60.0,29.0,null,27.0,27.0,null,49.0,62.0,62.0,26.0,54.0,36.0,47.0,31.0,null,61.0,29.0,28.0,42.0,54.0,54.0,54.0,54.0,27.0,32.0,36.0,36.0,33.0,22.0,25.0,25.0,46.0,46.0,37.0,64.0,51.0,51.0,37.0,30.0,56.0,59.0,59.0,39.0,39.0,39.0,33.0,35.0,28.0,39.0,39.0,39.0,39.0,55.0,41.0,36.0,56.0,56.0,33.0,55.0,59.0,43.0,43.0,43.0,38.0,28.0,32.0,45.0,56.0,46.0,29.0,29.0,46.0,46.0,62.0,58.0,58.0,36.0,40.0,48.0,48.0,48.0,27.0,46.0,46.0,46.0,46.0,37.0,26.0,66.0,66.0,63.0,59.0,32.0,52.0,46.0,46.0,61.0,60.0,30.0,30.0,30.0,57.0,44.0,38.0,25.0,36.0,36.0,43.0,54.0,26.0,26.0,44.0,34.0,34.0,34.0,58.0,58.0,58.0,61.0,41.0,48.0,48.0,45.0,54.0,54.0,38.0,41.0,49.0,26.0,26.0,49.0,49.0,59.0,23.0,43.0,26.0,26.0,30.0,24.0,24.0,37.0,53.0,61.0,43.0,21.0,76.0,76.0,76.0,76.0,76.0,38.0,27.0,51.0,60.0,27.0,37.0,46.0,32.0,53.0,56.0,34.0,30.0,44.0,54.0,43.0,24.0,43.0,57.0,58.0,61.0,61.0,25.0,54.0,61.0,22.0,45.0,45.0,32.0,41.0,35.0,63.0,63.0,39.0,57.0,57.0,29.0,51.0,61.0,23.0,53.0,48.0,54.0,54.0,51.0,51.0,43.0,29.0,29.0,37.0,33.0,35.0,32.0,42.0,42.0,40.0,44.0,59.0,36.0,36.0,58.0,57.0,22.0,54.0,62.0,38.0,38.0,61.0,40.0,37.0,37.0,25.0,58.0,71.0,24.0,29.0,42.0,42.0,42.0,61.0,51.0,38.0,59.0,25.0,42.0,null,57.0,67.0,36.0,45.0,41.0,21.0,49.0,66.0,59.0,59.0,59.0,25.0,25.0,44.0,44.0,44.0,59.0,61.0,61.0,35.0,44.0,42.0,33.0,33.0,86.0,53.0,30.0,25.0,39.0,36.0,91.0,30.0,55.0,57.0,64.0,32.0,63.0,63.0,58.0,52.0,58.0,33.0,29.0,62.0,33.0,33.0,46.0,70.0,29.0,45.0,39.0,33.0,33.0,15.0,52.0,37.0,37.0,37.0,63.0,37.0,32.0,48.0,32.0,32.0,25.0,63.0,63.0,63.0,57.0,25.0,38.0,42.0,27.0,67.0,48.0,45.0,46.0,46.0,37.0,31.0,38.0,49.0,28.0,28.0,28.0,34.0,43.0,42.0,23.0,44.0,39.0,57.0,57.0,30.0,62.0,60.0,47.0,60.0,60.0,21.0,37.0,23.0,23.0,46.0,44.0,40.0,37.0,63.0,32.0,41.0,41.0,26.0,26.0,43.0,73.0,73.0,64.0,64.0,46.0,30.0,30.0,27.0,27.0,45.0,38.0,38.0,38.0,38.0,38.0,38.0,38.0,38.0,35.0,35.0,35.0,60.0,46.0,62.0,61.0,30.0,45.0,66.0,21.0,68.0,39.0,33.0,33.0,33.0,33.0,33.0,33.0,33.0,37.0,41.0,41.0,59.0,37.0,27.0,46.0,44.0,31.0,49.0,39.0,49.0,56.0,56.0,34.0,48.0,61.0,45.0,45.0,45.0,46.0,27.0,28.0,28.0,34.0,50.0,38.0,32.0,48.0,30.0,40.0,33.0,29.0,29.0,29.0,48.0,50.0,45.0,64.0,64.0,39.0,28.0,28.0,31.0,31.0,67.0,67.0,25.0,65.0,61.0,61.0,58.0,36.0,34.0,56.0,48.0,67.0,34.0,32.0,33.0,33.0,58.0,58.0,28.0,26.0,26.0,44.0,44.0,44.0,29.0,42.0,27.0,43.0,43.0,43.0,51.0,60.0,53.0,40.0,50.0,29.0,29.0,29.0,30.0,30.0,38.0,47.0,47.0,47.0,47.0,59.0,37.0,null,null,34.0,57.0,47.0,76.0,58.0,38.0,26.0,35.0,43.0,23.0,49.0,35.0,58.0,58.0,32.0,27.0,58.0,46.0,46.0,46.0,47.0,60.0,null,null,47.0,47.0,24.0,64.0,37.0,39.0,48.0,36.0,36.0,59.0,42.0,61.0,31.0,31.0,31.0,31.0,31.0,31.0,31.0,31.0,61.0,42.0,38.0,51.0,51.0,32.0,32.0,42.0,42.0,35.0,35.0,48.0,36.0,34.0,35.0,35.0,50.0,35.0,35.0,37.0,55.0,23.0,40.0,59.0,59.0,32.0,32.0,32.0,32.0,44.0,36.0,23.0,23.0,34.0,58.0,58.0,43.0,43.0,43.0,28.0,44.0,28.0,28.0,28.0,44.0,46.0,26.0,26.0,69.0,70.0,31.0,58.0,58.0,51.0,51.0,42.0,42.0,41.0,29.0,50.0,50.0,50.0,33.0,50.0,42.0,42.0,35.0,35.0,40.0,63.0,61.0,49.0,67.0,58.0,50.0,50.0,35.0,34.0,44.0,55.0,42.0,41.0,41.0,36.0,36.0,42.0,42.0,null,64.0,63.0,56.0,24.0,24.0,32.0,32.0,32.0,40.0,40.0,43.0,27.0,null,27.0,58.0,39.0,39.0,57.0,66.0,33.0,62.0,53.0,56.0,51.0,26.0,26.0,48.0,null,null,null,null,56.0,37.0,37.0,null,53.0,null,39.0,39.0,39.0,39.0,null,null,null,null,null,32.0,28.0,28.0,null,32.0,35.0,61.0,49.0,61.0,43.0,56.0,64.0,54.0,46.0,null,51.0,62.0,29.0,29.0,29.0,null,47.0,null,null,46.0,46.0,46.0,44.0,null,41.0,null,null,37.0,null,41.0,41.0,62.0,24.0,40.0,null,25.0,41.0,32.0,null,76.0,null,null,34.0,46.0,48.0,48.0,44.0,29.0,39.0,44.0,44.0,40.0,40.0,60.0,null,null,null,null,null,62.0,31.0,40.0,72.0,72.0,null,null,31.0,53.0,null,null,null,null,null,null,38.0,58.0,22.0,40.0,57.0,57.0,62.0,57.0,21.0,21.0,50.0,49.0,49.0,25.0,24.0,24.0,29.0,35.0,35.0,null,42.0,null,39.0,39.0,32.0,32.0,66.0,66.0,41.0,null,null,null,56.0,38.0,null,53.0,53.0,null,35.0,35.0,null,null,65.0,null,null,57.0,51.0,49.0,null,null,null,35.0,52.0,52.0,null,64.0,64.0,32.0,48.0,64.0,null,null,null,43.0,43.0,43.0,59.0,56.0,50.0,50.0,null,null,null,null,32.0,32.0,32.0,43.0,null,null,57.0,null,null,52.0,54.0,54.0,54.0,59.0,59.0,38.0,38.0,33.0,28.0,42.0,29.0,52.0,52.0,38.0,31.0,null,null,null,21.0,21.0,40.0,51.0,65.0,65.0,null,null,null,null,63.0,41.0,52.0,52.0,null,59.0,null,31.0,31.0,32.0,32.0,44.0,25.0,36.0,56.0,51.0,24.0,32.0,62.0,56.0,38.0,26.0,26.0,26.0,50.0,32.0,null,54.0,54.0,60.0,52.0,null,48.0,48.0,63.0,63.0,24.0,48.0,46.0,31.0,null,58.0,57.0,null,62.0,52.0,52.0,null,null,31.0,61.0,55.0,56.0,56.0,56.0,41.0,60.0,38.0,53.0,45.0,null,36.0,null,35.0,31.0,31.0,36.0,35.0,22.0,30.0,null,37.0,58.0,null,62.0,45.0,40.0,40.0,40.0,null,55.0,null,64.0,null,null,31.0,32.0,null,null,null,49.0,34.0,52.0,61.0,null,null,47.0,66.0,44.0,null,null,null,42.0,38.0,43.0,null,null,null,null,46.0,null,25.0,25.0,null,null,52.0,null,null,39.0,null,null,null,null,null,49.0,27.0,39.0,null,null,55.0,null,null,null,null,48.0,null,null,null,null,null,null,null,null,50.0,null,20.0,null,50.0,50.0,47.0,21.0,67.0,39.0,50.0,30.0,53.0,46.0,46.0,43.0,47.0,39.0,51.0,48.0,36.0,49.0,43.0,52.0,24.0,24.0,38.0,62.0,47.0,39.0,65.0,33.0,56.0,40.0,42.0,42.0,42.0,42.0,53.0,53.0,63.0,50.0,46.0,27.0,38.0,68.0,66.0,38.0,38.0,38.0,50.0,24.0,49.0,23.0,41.0,21.0,62.0,46.0,68.0,43.0,30.0,64.0,39.0,32.0,27.0,28.0,28.0,30.0,35.0,40.0,40.0,24.0,40.0,29.0,32.0,32.0,32.0,52.0,52.0,48.0,52.0,34.0,34.0,25.0,25.0,35.0,35.0,64.0,57.0,37.0,41.0,25.0,25.0,59.0,39.0,34.0,50.0,24.0,60.0,59.0,49.0,51.0,60.0,35.0,30.0,34.0,48.0,46.0,48.0,56.0,38.0,34.0,60.0,30.0,30.0,54.0,46.0,29.0,29.0,92.0,61.0,45.0,45.0,58.0,58.0,58.0,58.0,58.0,68.0,31.0,31.0,30.0,30.0,38.0,39.0,59.0,58.0,26.0,26.0,46.0,46.0,61.0,41.0,68.0,45.0,60.0,60.0,31.0,37.0,33.0,42.0,22.0,65.0,61.0,61.0,49.0,48.0,44.0,44.0,68.0,56.0,43.0,26.0,23.0,26.0,26.0,31.0,31.0,67.0,38.0,40.0,40.0,36.0,46.0,58.0,58.0,37.0,25.0,29.0,60.0,26.0,39.0,57.0,33.0,33.0,43.0,62.0,62.0,53.0,53.0,43.0,43.0,49.0,54.0,54.0,53.0,43.0,47.0,38.0,53.0,63.0,63.0,36.0,61.0,33.0,55.0,39.0,43.0,48.0,23.0,33.0,33.0,26.0,39.0,39.0,57.0,57.0,66.0,18.0,18.0,47.0,52.0,37.0,37.0,40.0,37.0,52.0,61.0,52.0,49.0,60.0,59.0,28.0,45.0,34.0,25.0,25.0,47.0,56.0,31.0,31.0,56.0,56.0,38.0,49.0,48.0,59.0,55.0,55.0,50.0,50.0,61.0,43.0,50.0,52.0,63.0,49.0,23.0,25.0,25.0,25.0,49.0,48.0,48.0,48.0,19.0,32.0,53.0,80.0,58.0,58.0,37.0,36.0,31.0,57.0,30.0,29.0,26.0,60.0,60.0,71.0,60.0,52.0,60.0,36.0,37.0,33.0,47.0,47.0,52.0,57.0,31.0,70.0,54.0,54.0,28.0,28.0,28.0,44.0,59.0,59.0,25.0,62.0,48.0,56.0,56.0,48.0,36.0,37.0,42.0,42.0,27.0,27.0,27.0,27.0,27.0,27.0,27.0,27.0,27.0,54.0,60.0,50.0,50.0,46.0,67.0,48.0,24.0,39.0,48.0,34.0,34.0,23.0,29.0,26.0,21.0,21.0,63.0,50.0,25.0,23.0,60.0,37.0,37.0,27.0,36.0,74.0,21.0,22.0,38.0,33.0,43.0,29.0,29.0,55.0,42.0,33.0,25.0,29.0,31.0,null,30.0,30.0,51.0,51.0,46.0,35.0,33.0,55.0,55.0,65.0,58.0,68.0,31.0,31.0,42.0,42.0,46.0,64.0,38.0,51.0,24.0,40.0,40.0,35.0,50.0,28.0,32.0,52.0,53.0,66.0,66.0,66.0,42.0,37.0,37.0,56.0,53.0,26.0,26.0,27.0,27.0,39.0,33.0,52.0,43.0,38.0,51.0,51.0,46.0,36.0,27.0,32.0,52.0,37.0,58.0,66.0,52.0,53.0,32.0,42.0,25.0,25.0,25.0,42.0,42.0,59.0,58.0,58.0,61.0,61.0,22.0,28.0,17.0,64.0,59.0,47.0,47.0,31.0,49.0,49.0,46.0,42.0,58.0,38.0,64.0,28.0,51.0,51.0,96.0,50.0,35.0,42.0,51.0,73.0,34.0,18.0,26.0,34.0,41.0,30.0,null,null,38.0,53.0,22.0,43.0,43.0,50.0,20.0,20.0,55.0,55.0,56.0,56.0,47.0,null,null,null,37.0,39.0,null,37.0,31.0,null,null,null,null,29.0,73.0,65.0,20.0,40.0,33.0,26.0,47.0,41.0,62.0,20.0,39.0,61.0,61.0,51.0,51.0,21.0,54.0,null,57.0,20.0,27.0,27.0,49.0,22.0,35.0,35.0,31.0,31.0,56.0,56.0,57.0,61.0,17.0,37.0,46.0,44.0,43.0,41.0,34.0,36.0,36.0,58.0,23.0,71.0,71.0,43.0,42.0,33.0,34.0,50.0,63.0,37.0,43.0,null,33.0,45.0,23.0,53.0,53.0,53.0,53.0,28.0,58.0,58.0,44.0,44.0,33.0,32.0,32.0,55.0,55.0,25.0,23.0,37.0,51.0,42.0,58.0,58.0,28.0,28.0,28.0,48.0,56.0,47.0,62.0,62.0,26.0,31.0,56.0,50.0,50.0,34.0,36.0,36.0,50.0,54.0,39.0,52.0,32.0,47.0,45.0,41.0,44.0,32.0,32.0,72.0,44.0,51.0,42.0,56.0,56.0,28.0,36.0,55.0,35.0,51.0,45.0,45.0,50.0,null,null,54.0,38.0,36.0,25.0,null,null,62.0,29.0,58.0,28.0,45.0,50.0,52.0,52.0,23.0,53.0,23.0,null,40.0,40.0,46.0,48.0,43.0,43.0,28.0,38.0,44.0,41.0,37.0,37.0,48.0,null,null,null,24.0,44.0,59.0,41.0,null,50.0,50.0,23.0,48.0,40.0,33.0,25.0,40.0,40.0,70.0,70.0,null,71.0,75.0,49.0,49.0,49.0,62.0,null,62.0,31.0,41.0,41.0,69.0,69.0,50.0,29.0,44.0,44.0,57.0,49.0,42.0,42.0,44.0,47.0,39.0,49.0,49.0,41.0,null,null,26.0,71.0,null,31.0,58.0,null,40.0,35.0,35.0,42.0,42.0,38.0,38.0,36.0,42.0,24.0,43.0,43.0,43.0,28.0,65.0,65.0,64.0,40.0,25.0,25.0,55.0,27.0,48.0,null,25.0,25.0,null,31.0,42.0,32.0,67.0,19.0,39.0,39.0,39.0,54.0,null,null,54.0,54.0,41.0,50.0,29.0,37.0,null,null,76.0,30.0,33.0,55.0,64.0,54.0,54.0,49.0,49.0,25.0,41.0,41.0,40.0,40.0,null,null,33.0,55.0,38.0,50.0,50.0,31.0,55.0,39.0,32.0,41.0,41.0,52.0,43.0,59.0,59.0,22.0,63.0,34.0,39.0,56.0,29.0,29.0,67.0,55.0,82.0,64.0,29.0,null,51.0,55.0,55.0,45.0,25.0,59.0,62.0,62.0,62.0,23.0,47.0,51.0,61.0,28.0,28.0,28.0,null,29.0,null,72.0,34.0,34.0,34.0,35.0,66.0,60.0,51.0,26.0,17.0,63.0,31.0,24.0,24.0,69.0,33.0,24.0,24.0,26.0,27.0,39.0,34.0,61.0,null,57.0,55.0,null,57.0,38.0,38.0,57.0,54.0,27.0,null,null,60.0,48.0,48.0,28.0,28.0,42.0,null,31.0,23.0,64.0,50.0,50.0,50.0,41.0,71.0,50.0,50.0,null,34.0,34.0,null,null,43.0,45.0,45.0,47.0,43.0,32.0,54.0,31.0,51.0,51.0,26.0,37.0,46.0,27.0,27.0,52.0,33.0,54.0,38.0,35.0,43.0,null,50.0,43.0,40.0,32.0,62.0,null,39.0,40.0,33.0,51.0,51.0,null,null,44.0,null,null,40.0,48.0,23.0,23.0,25.0,null,54.0,null,43.0,41.0,33.0,47.0,26.0,48.0,34.0,59.0,59.0,25.0,26.0,null,43.0,26.0,63.0,36.0,50.0,47.0,57.0,39.0,39.0,22.0,24.0,55.0,42.0,32.0,42.0,42.0,33.0,28.0,34.0,50.0,40.0,23.0,43.0,58.0,58.0,33.0,61.0,93.0,null,null,54.0,60.0,25.0,59.0,37.0,49.0,36.0,58.0,26.0,26.0,40.0,29.0,42.0,41.0,47.0,1.83,61.0,null,65.0,62.0,25.0,31.0,32.0,28.0,null,46.0,null,22.0,22.0,25.0,null,38.0,38.0,55.0,null,24.0,null,40.0,63.0,42.0,97.0,null,65.0,72.0,31.0,50.0,42.0,30.0,52.0,28.0,28.0,33.0,55.0,35.0,64.0,46.0,46.0,40.0,39.0,39.0,65.0,36.0,38.0,58.0,58.0,42.0,52.0,52.0,28.0,83.0,39.0,43.0,28.0,30.0,30.0,38.0,38.0,46.0,46.0,26.0,55.0,30.0,36.0,48.0,44.0,44.0,33.0,56.0,38.0,35.0,46.0,59.0,26.0,50.0,50.0,50.0,59.0,51.0,31.0,31.0,51.0,22.0,27.0,62.0,61.0,61.0,57.0,22.0,56.0,29.0,38.0,38.0,38.0,39.0,33.0,70.0,34.0,41.0,31.0,31.0,31.0,35.0,35.0,60.0,41.0,38.0,25.0,27.0,29.0,64.0,33.0,40.0,47.0,58.0,58.0,24.0,62.0,50.0,34.0,34.0,32.0,25.0,25.0,33.0,56.0,22.0,22.0,30.0,47.0,47.0,47.0,68.0,50.0,39.0,48.0,42.0,39.0,52.0,32.0,92.0,34.0,69.0,69.0,33.0,59.0,82.0,82.0,82.0,82.0,48.0,38.0,26.0,56.0,43.0,29.0,39.0,50.0,50.0,77.0,31.0,70.0,65.0,65.0,46.0,46.0,27.0,27.0,23.0,23.0,93.0,25.0,25.0,28.0,30.0,26.0,38.0,38.0,20.0,34.0,50.0,50.0,72.0,32.0,32.0,52.0,31.0,49.0,20.0,75.0,41.0,41.0,60.0,60.0,60.0,60.0,39.0,39.0,76.0,48.0,48.0,45.0,79.0,23.0,57.0,37.0,33.0,35.0,22.0,22.0,19.0,19.0,61.0,40.0,40.0,40.0,40.0,47.0,64.0,27.0,27.0,49.0,27.0,27.0,57.0,61.0,61.0,40.0,38.0,29.0,29.0,54.0,43.0,43.0,43.0,38.0,59.0,54.0,22.0,48.0,48.0,38.0,59.0,null,null,48.0,31.0,34.0,55.0,55.0,34.0,51.0,48.0,34.0,34.0,34.0,29.0,29.0,62.0,34.0,65.0,21.0,21.0,21.0,55.0,55.0,43.0,61.0,54.0,53.0,64.0,50.0,34.0,69.0,69.0,27.0,32.0,28.0,53.0,26.0,50.0,50.0,58.0,58.0,58.0,33.0,35.0,35.0,35.0,57.0,29.0,57.0,46.0,33.0,61.0,24.0,24.0,42.0,59.0,45.0,48.0,48.0,58.0,37.0,43.0,46.0,29.0,71.0,71.0,41.0,41.0,27.0,34.0,34.0,36.0,53.0,56.0,27.0,25.0,25.0,43.0,32.0,32.0,44.0,37.0,43.0,43.0,23.0,41.0,40.0,38.0,18.0,18.0,52.0,56.0,56.0,49.0,34.0,34.0,47.0,67.0,22.0,22.0,32.0,63.0,63.0,51.0,51.0,38.0,43.0,41.0,35.0,35.0,36.0,41.0,54.0,39.0,31.0,40.0,40.0,53.0,24.0,31.0,31.0,38.0,66.0,66.0,40.0,54.0,32.0,32.0,32.0,34.0,26.0,44.0,44.0,46.0,46.0,25.0,26.0,49.0,37.0,28.0,59.0,59.0,null,50.0,63.0,27.0,24.0,62.0,26.0,26.0,41.0,41.0,45.0,54.0,46.0,52.0,46.0,46.0,40.0,29.0,39.0,18.0,18.0,62.0,30.0,53.0,53.0,44.0,39.0,42.0,57.0,34.0,50.0,50.0,46.0,24.0,42.0,42.0,48.0,51.0,51.0,51.0,54.0,33.0,33.0,28.0,102.0,102.0,102.0,102.0,102.0,102.0,102.0,102.0,102.0,102.0,102.0,102.0,102.0,102.0,44.0,44.0,34.0,42.0,42.0,60.0,48.0,19.0,30.0,47.0,51.0,21.0,21.0,34.0,38.0,44.0,41.0,50.0,71.0,30.0,44.0,29.0,44.0,70.0,30.0,54.0,34.0,34.0,60.0,31.0,31.0,51.0,23.0,23.0,31.0,62.0,63.0,55.0,37.0,37.0,49.0,37.0,30.0,30.0,38.0,38.0,64.0,42.0,42.0,42.0,63.0,23.0,23.0,26.0,26.0,22.0,22.0,59.0,53.0,53.0,46.0,46.0,46.0,46.0,46.0,54.0,54.0,55.0,34.0,34.0,41.0,46.0,46.0,52.0,31.0,25.0,39.0,25.0,25.0,54.0,59.0,27.0,27.0,27.0,27.0,42.0,46.0,50.0,58.0,58.0,40.0,40.0,30.0,30.0,59.0,35.0,27.0,27.0,27.0,34.0,35.0,35.0,50.0,43.0,41.0,41.0,64.0,64.0,49.0,39.0,54.0,29.0,29.0,54.0,40.0,40.0,37.0,41.0,43.0,31.0,23.0,52.0,28.0,28.0,49.0,49.0,47.0,47.0,47.0,49.0,45.0,45.0,55.0,66.0,37.0,51.0,51.0,54.0,42.0,42.0,45.0,47.0,47.0,41.0,33.0,33.0,47.0,47.0,33.0,45.0,45.0,53.0,40.0,44.0,74.0,36.0,35.0,42.0,25.0,25.0,51.0,28.0,28.0,35.0,35.0,55.0,55.0,55.0,41.0,41.0,41.0,35.0,29.0,72.0,39.0,39.0,82.0,82.0,23.0,40.0,40.0,20.0,39.0,52.0,52.0,57.0,40.0,32.0,29.0,29.0,37.0,29.0,29.0,34.0,47.0,30.0,48.0,26.0,28.0,35.0,35.0,49.0,34.0,17.0,31.0,51.0,51.0,54.0,25.0,70.0,41.0,41.0,45.0,52.0,52.0,63.0,44.0,49.0,37.0,84.0,53.0,23.0,23.0,60.0,47.0,47.0,68.0,45.0,58.0,37.0,49.0,20.0,19.0,33.0,33.0,28.0,44.0,44.0,44.0,30.0,33.0,33.0,39.0,39.0,56.0,56.0,null,null,null,20.0,20.0,32.0,32.0,46.0,31.0,21.0,30.0,30.0,52.0,32.0,32.0,56.0,null,null,50.0,52.0,48.0,null,28.0,48.0,45.0,45.0,49.0,53.0,20.0,37.0,47.0,44.0,57.0,48.0,69.0,null,null,70.0,70.0,71.0,38.0,22.0,25.0,30.0,30.0,47.0,41.0,41.0,30.0,21.0,42.0,42.0,34.0,64.0,64.0,64.0,56.0,40.0,39.0,39.0,36.0,54.0,54.0,44.0,56.0,56.0,53.0,27.0,41.0,52.0,52.0,45.0,45.0,55.0,42.0,25.0,27.0,27.0,29.0,48.0,27.0,27.0,60.0,33.0,35.0,34.0,64.0,44.0,36.0,30.0,38.0,52.0,52.0,46.0,58.0,58.0,55.0,64.0,30.0,31.0,58.0,28.0,28.0,55.0,55.0,34.0,34.0,55.0,39.0,56.0,59.0,59.0,43.0,43.0,53.0,42.0,29.0,42.0,26.0,26.0,46.0,34.0,45.0,63.0,63.0,50.0,51.0,38.0,29.0,39.0,61.0,34.0,59.0,39.0,39.0,57.0,57.0,49.0,59.0,59.0,29.0,43.0,42.0,42.0,39.0,39.0,42.0,33.0,23.0,32.0,45.0,44.0,45.0,58.0,41.0,36.0,38.0,65.0,52.0,52.0,34.0,60.0,32.0,62.0,47.0,51.0,73.0,45.0,45.0,30.0,30.0,40.0,27.0,27.0,38.0,43.0,29.0,29.0,30.0,30.0,30.0,29.0,47.0,46.0,63.0,37.0,30.0,27.0,62.0,35.0,51.0,43.0,43.0,39.0,39.0,54.0,57.0,44.0,44.0,44.0,44.0,27.0,29.0,29.0,63.0,24.0,24.0,27.0,34.0,58.0,30.0,43.0,73.0,61.0,61.0,60.0,41.0,30.0,54.0,27.0,52.0,24.0,37.0,41.0,41.0,24.0,45.0,58.0,62.0,56.0,56.0,58.0,58.0,25.0,72.0,72.0,42.0,42.0,49.0,41.0,63.0,24.0,24.0,35.0,32.0,32.0,31.0,67.0,27.0,48.0,43.0,64.0,60.0,65.0,56.0,56.0,45.0,39.0,43.0,31.0,48.0,52.0,40.0,40.0,50.0,50.0,38.0,38.0,51.0,23.0,29.0,29.0,54.0,53.0,53.0,31.0,36.0,35.0,34.0,30.0,30.0,32.0,32.0,34.0,27.0,28.0,28.0,30.0,30.0,71.0,27.0,34.0,47.0,21.0,44.0,24.0,24.0,39.0,28.0,37.0,37.0,47.0,47.0,64.0,39.0,64.0,28.0,47.0,25.0,40.0,40.0,23.0,23.0,33.0,31.0,29.0,56.0,29.0,32.0,60.0,60.0,28.0,51.0,33.0,54.0,54.0,42.0,51.0,47.0,34.0,40.0,40.0,58.0,27.0,58.0,57.0,57.0,23.0,61.0,27.0,39.0,40.0,40.0,20.0,20.0,57.0,24.0,52.0,37.0,49.0,38.0,30.0,30.0,45.0,48.0,46.0,46.0,58.0,58.0,36.0,34.0,47.0,64.0,72.0,59.0,31.0,50.0,57.0,51.0,19.0,60.0,25.0,37.0,57.0,40.0,40.0,49.0,49.0,45.0,33.0,52.0,26.0,34.0,60.0,60.0,43.0,49.0,36.0,62.0,42.0,51.0,71.0,34.0,52.0,32.0,54.0,54.0,40.0,52.0,43.0,43.0,41.0,36.0,62.0,58.0,0.58,51.0,50.0,29.0,83.0,56.0,32.0,32.0,56.0,48.0,53.0,30.0,50.0,67.0,38.0,43.0,26.0,26.0,19.0,19.0,31.0,31.0,26.0,26.0,26.0,26.0,51.0,51.0,50.0,34.0,34.0,23.0,23.0,71.0,40.0,47.0,58.0,48.0,46.0,59.0,59.0,36.0,45.0,37.0,42.0,53.0,45.0,41.0,41.0,23.0,23.0,23.0,23.0,43.0,34.0,66.0,56.0,56.0,50.0,39.0,28.0,44.0,44.0,68.0,68.0,60.0,43.0,43.0,43.0,29.0,20.0,34.0,26.0,34.0,34.0,34.0,45.0,27.0,35.0,45.0,24.0,24.0,52.0,38.0,38.0,50.0,50.0,50.0,55.0,55.0,31.0,39.0,39.0,34.0,34.0,26.0,26.0,48.0,44.0,26.0,68.0,68.0,39.0,39.0,45.0,58.0,58.0,36.0,42.0,23.0,20.0,43.0,21.0,36.0,40.0,38.0,52.0,36.0,41.0,31.0,31.0,54.0,38.0,23.0,50.0,57.0,44.0,44.0,60.0,42.0,42.0,42.0,20.0,52.0,43.0,33.0,26.0,26.0,55.0,19.0,26.0,26.0,22.0,28.0,54.0,54.0,49.0,49.0,42.0,25.0,28.0,60.0,45.0,38.0,41.0,41.0,62.0,62.0,26.0,24.0,24.0,35.0,35.0,27.0,61.0,61.0,58.0,31.0,32.0,33.0,38.0,34.0,48.0,25.0,43.0,39.0,39.0,40.0,37.0,34.0,48.0,47.0,52.0,52.0,33.0,57.0,57.0,47.0,47.0,57.0,26.0,85.0,28.0,28.0,37.0,37.0,37.0,65.0,54.0,65.0,34.0,34.0,57.0,60.0,43.0,58.0,58.0,41.0,58.0,53.0,36.0,62.0,28.0,44.0,38.0,58.0,47.0,47.0,33.0,33.0,51.0,62.0,45.0,34.0,34.0,63.0,25.0,55.0,38.0,38.0,44.0,46.0,47.0,39.0,41.0,34.0,34.0,50.0,31.0,28.0,28.0,38.0,31.0,29.0,35.0,35.0,36.0,66.0,32.0,23.0,41.0,32.0,65.0,65.0,51.0,45.0,45.0,45.0,44.0,60.0,27.0,52.0,60.0,37.0,49.0,35.0,35.0,41.0,51.0,51.0,36.0,45.0,45.0,29.0,64.0,28.0,28.0,46.0,48.0,50.0,35.0,44.0,44.0,30.0,38.0,38.0,29.0,62.0,62.0,31.0,37.0,25.0,43.0,25.0,41.0,41.0,34.0,26.0,68.0,23.0,23.0,38.0,41.0,41.0,31.0,31.0,46.0,60.0,38.0,47.0,51.0,59.0,20.0,37.0,27.0,26.0,50.0,49.0,49.0,39.0,41.0,38.0,36.0,55.0,62.0,62.0,48.0,62.0,40.0,44.0,44.0,38.0,38.0,29.0,29.0,53.0,50.0,50.0,33.0,40.0,40.0,47.0,41.0,58.0,28.0,22.0,28.0,42.0,31.0,31.0,52.0,null,58.0,34.0,43.0,36.0,40.0,40.0,47.0,null,43.0,null,null,null,null,32.0,32.0,41.0,41.0,44.0,35.0,53.0,53.0,null,66.0,null,null,22.0,53.0,41.0,41.0,41.0,47.0,36.0,35.0,null,63.0,63.0,55.0,55.0,55.0,30.0,35.0,null,63.0,null,36.0,70.0,30.0,45.0,55.0,43.0,56.0,56.0,53.0,29.0,64.0,64.0,39.0,39.0,46.0,null,49.0,null,44.0,null,43.0,33.0,null,44.0,44.0,44.0,44.0,52.0,null,59.0,59.0,72.0,null,34.0,68.0,30.0,31.0,36.0,39.0,38.0,68.0,49.0,49.0,28.0,28.0,46.0,38.0,null,null,44.0,44.0,23.0,76.0,44.0,30.0,null,36.0,20.0,58.0,48.0,31.0,27.0,null,31.0,31.0,33.0,33.0,30.0,56.0,40.0,40.0,29.0,40.0,40.0,42.0,42.0,null,21.0,44.0,null,66.0,66.0,35.0,35.0,35.0,35.0,36.0,null,50.0,null,31.0,35.0,35.0,38.0,null,31.0,50.0,null,42.0,32.0,null,60.0,60.0,null,null,60.0,null,null,37.0,null,null,null,41.0,41.0,null,78.0,78.0,54.0,26.0,26.0,41.0,41.0,64.0,53.0,null,54.0,47.0,91.0,57.0,45.0,45.0,43.0,68.0,57.0,26.0,29.0,24.0,61.0,37.0,37.0,44.0,42.0,42.0,65.0,25.0,45.0,18.0,18.0,18.0,50.0,33.0,33.0,61.0,23.0,59.0,47.0,47.0,39.0,32.0,30.0,30.0,31.0,57.0,48.0,51.0,48.0,22.0,38.0,42.0,31.0,31.0,37.0,37.0,48.0,48.0,29.0,38.0,33.0,33.0,41.0,41.0,25.0,28.0,65.0,50.0,58.0,55.0,60.0,51.0,64.0,59.0,34.0,62.0,45.0,27.0,36.0,45.0,34.0,79.0,31.0,64.0,52.0,42.0,52.0,58.0,46.0,82.0,25.0,25.0,43.0,35.0,52.0,28.0,62.0,62.0,27.0,39.0,24.0,33.0,60.0,33.0,61.0,51.0,38.0,31.0,50.0,71.0,34.0,34.0,0.5,45.0,44.0,54.0,34.0,53.0,33.0,33.0,33.0,32.0,28.0,41.0,36.0,36.0,23.0,23.0,54.0,31.0,31.0,48.0,48.0,48.0,48.0,43.0,30.0,35.0,22.0,76.0,76.0,43.0,54.0,null,65.0,43.0,null,40.0,null,null,null,49.0,49.0,46.0,46.0,36.0,36.0,52.0,52.0,39.0,50.0,59.0,33.0,28.0,76.0,32.0,77.0,31.0,31.0,34.0,39.0,57.0,53.0,29.0,29.0,32.0,32.0,25.0,25.0,65.0,41.0,41.0,null,null,60.0,42.0,null,null,null,26.0,65.0,22.0,53.0,38.0,38.0,60.0,49.0,39.0,null,51.0,51.0,29.0,61.0,null,null,35.0,null,29.0,null,26.0,46.0,27.0,null,49.0,49.0,32.0,44.0,null,null,null,63.0,37.0,62.0,57.0,25.0,25.0,null,null,null,null,48.0,36.0,48.0,48.0,64.0,22.0,32.0,32.0,63.0,63.0,63.0,63.0,26.0,26.0,59.0,34.0,42.0,51.0,37.0,37.0,48.0,48.0,60.0,35.0,38.0,34.0,34.0,44.0,59.0,40.0,63.0,34.0,56.0,56.0,37.0,48.0,47.0,28.0,58.0,34.0,35.0,46.0,73.0,47.0,47.0,57.0,44.0,44.0,48.0,59.0,34.0,34.0,46.0,55.0,38.0,38.0,45.0,45.0,44.0,28.0,57.0,31.0,61.0,44.0,25.0,25.0,62.0,50.0,54.0,62.0,71.0,70.0,43.0,43.0,63.0,39.0,31.0,50.0,71.0,29.0,29.0,41.0,40.0,41.0,41.0,59.0,47.0,39.0,39.0,39.0,21.0,47.0,33.0,33.0,53.0,28.0,59.0,26.0,26.0,38.0,74.0,23.0,57.0,57.0,33.0,28.0,32.0,32.0,32.0,27.0,43.0,68.0,41.0,48.0,49.0,51.0,57.0,44.0,63.0,40.0,40.0,33.0,46.0,52.0,48.0,42.0,64.0,45.0,58.0,23.0,23.0,72.0,43.0,59.0,59.0,59.0,59.0,27.0,65.0,52.0,50.0,59.0,44.0,32.0,17.0,47.0,60.0,60.0,39.0,44.0,40.0,37.0,37.0,26.0,26.0,38.0,58.0,59.0,32.0,32.0,74.0,74.0,59.0,39.0,39.0,25.0,25.0,41.0,50.0,50.0,45.0,54.0,35.0,68.0,35.0,50.0,51.0,33.0,23.0,23.0,59.0,25.0,53.0,33.0,48.0,49.0,49.0,44.0,34.0,54.0,30.0,30.0,36.0,36.0,41.0,43.0,45.0,33.0,43.0,28.0,37.0,45.0,37.0,37.0,31.0,31.0,37.0,29.0,29.0,44.0,21.0,21.0,51.0,51.0,47.0,47.0,52.0,48.0,36.0,36.0,50.0,45.0,41.0,56.0,83.0,83.0,83.0,83.0,64.0,64.0,35.0,61.0,46.0,46.0,41.0,50.0,50.0,77.0,47.0,47.0,25.0,25.0,49.0,31.0,50.0,27.0,27.0,27.0,90.0,42.0,51.0,32.0,32.0,27.0,46.0,46.0,22.0,21.0,21.0,36.0,36.0,46.0,44.0,25.0,25.0,59.0,59.0,74.0,50.0,37.0,54.0,38.0,24.0,24.0,60.0,60.0,60.0,68.0,27.0,62.0,49.0,49.0,40.0,40.0,30.0,30.0,49.0,22.0,39.0,39.0,39.0,39.0,39.0,39.0,39.0,39.0,39.0,39.0,39.0,39.0,39.0,39.0,44.0,40.0,28.0,28.0,51.0,51.0,32.0,23.0,23.0,43.0,43.0,52.0,55.0,50.0,62.0,60.0,60.0,25.0,31.0,31.0,24.0,27.0,53.0,29.0,51.0,57.0,57.0,64.0,51.0,68.0,50.0,null,58.0,33.0,41.0,40.0,59.0,null,56.0,34.0,46.0,29.0,29.0,62.0,38.0,37.0,56.0,56.0,72.0,42.0,40.0,43.0,30.0,30.0,43.0,40.0,47.0,50.0,46.0,45.0,53.0,32.0,58.0,41.0,54.0,35.0,43.0,46.0,41.0,41.0,53.0,53.0,53.0,48.0,48.0,48.0,38.0,57.0,35.0,39.0,47.0,47.0,47.0,46.0,41.0,56.0,74.0,51.0,51.0,22.0,22.0,32.0,16.0,54.0,38.0,38.0,38.0,31.0,80.0,47.0,33.0,49.0,49.0,51.0,51.0,60.0,89.0,47.0,59.0,49.0,39.0,39.0,50.0,50.0,26.0,26.0,44.0,67.0,23.0,40.0,42.0,61.0,75.0,53.0,60.0,34.0,55.0,56.0,22.0,33.0,44.0,44.0,35.0,40.0,87.0,37.0,41.0,37.0,45.0,45.0,73.0,34.0,63.0,63.0,59.0,59.0,41.0,27.0,27.0,32.0,22.0,25.0,25.0,38.0,62.0,54.0,47.0,47.0,25.0,25.0,56.0,56.0,33.0,53.0,44.0,49.0,29.0,45.0,27.0,27.0,27.0,27.0,57.0,40.0,21.0,21.0,83.0,32.0,50.0,27.0,27.0,59.0,56.0,56.0,25.0,25.0,25.0,50.0,40.0,34.0,56.0,56.0,56.0,68.0,68.0,47.0,62.0,49.0,63.0,45.0,54.0,43.0,49.0,48.0,48.0,47.0,62.0,62.0,36.0,36.0,36.0,60.0,60.0,47.0,40.0,40.0,41.0,62.0,47.0,48.0,56.0,56.0,38.0,25.0,49.0,31.0,51.0,44.0,44.0,44.0,51.0,39.0,52.0,35.0,61.0,23.0,49.0,49.0,49.0,48.0,48.0,63.0,33.0,63.0,44.0,46.0,50.0,59.0,59.0,32.0,36.0,34.0,38.0,46.0,37.0,52.0,41.0,55.0,57.0,55.0,57.0,57.0,42.0,25.0,33.0,22.0,22.0,58.0,60.0,60.0,44.0,45.0,33.0,33.0,38.0,39.0,23.0,58.0,21.0,21.0,36.0,68.0,44.0,47.0,71.0,71.0,33.0,33.0,34.0,null,44.0,54.0,65.0,33.0,57.0,57.0,40.0,47.0,38.0,38.0,54.0,54.0,54.0,59.0,42.0,42.0,25.0,25.0,25.0,25.0,49.0,54.0,54.0,42.0,42.0,63.0,44.0,60.0,37.0,35.0,42.0,63.0,39.0,42.0,46.0,46.0,33.0,62.0,57.0,57.0,42.0,42.0,42.0,32.0,38.0,56.0,30.0,27.0,27.0,64.0,35.0,25.0,43.0,40.0,40.0,29.0,51.0,42.0,46.0,46.0,42.0,26.0,26.0,55.0,59.0,26.0,26.0,59.0,43.0,44.0,44.0,44.0,59.0,59.0,65.0,39.0,53.0,34.0,25.0,46.0,35.0,35.0,35.0,49.0,35.0,36.0,38.0,38.0,49.0,49.0,79.0,60.0,28.0,49.0,23.0,23.0,36.0,37.0,45.0,45.0,47.0,34.0,43.0,16.0,36.0,32.0,26.0,56.0,58.0,26.0,23.0,54.0,51.0,51.0,70.0,60.0,33.0,25.0,77.0,32.0,30.0,59.0,59.0,43.0,39.0,39.0,78.0,29.0,42.0,66.0,35.0,46.0,30.0,30.0,48.0,47.0,41.0,48.0,51.0,49.0,50.0,54.0,50.0,62.0,52.0,20.0,62.0,54.0,63.0,0.75,21.0,21.0,63.0,31.0,31.0,31.0,null,33.0,24.0,24.0,38.0,36.0,55.0,48.0,39.0,39.0,36.0,33.0,47.0,27.0,27.0,27.0,22.0,37.0,62.0,62.0,42.0,42.0,42.0,null,38.0,38.0,55.0,55.0,24.0,24.0,24.0,24.0,47.0,52.0,52.0,30.0,23.0,23.0,54.0,48.0,null,47.0,74.0,39.0,46.0,39.0,41.0,88.0,37.0,45.0,51.0,29.0,42.0,35.0,35.0,40.0,40.0,26.0,26.0,29.0,27.0,27.0,34.0,34.0,35.0,36.0,47.0,64.0,31.0,58.0,52.0,82.0,41.0,68.0,51.0,28.0,39.0,18.0,18.0,18.0,90.0,51.0,24.0,24.0,36.0,52.0,27.0,27.0,24.0,56.0,41.0,54.0,21.0,28.0,57.0,26.0,26.0,26.0,22.0,49.0,31.0,31.0,47.0,24.0,63.0,61.0,37.0,37.0,36.0,36.0,36.0,49.0,55.0,55.0,46.0,65.0,65.0,49.0,49.0,30.0,39.0,33.0,33.0,53.0,38.0,37.0,54.0,54.0,61.0,41.0,27.0,47.0,35.0,41.0,41.0,47.0,39.0,36.0,54.0,49.0,46.0,47.0,30.0,30.0,22.0,51.0,46.0,42.0,31.0,31.0,20.0,60.0,26.0,26.0,44.0,44.0,27.0,38.0,62.0,58.0,49.0,37.0,59.0,37.0,37.0,28.0,28.0,27.0,27.0,27.0,62.0,51.0,51.0,51.0,56.0,46.0,84.0,71.0,52.0,52.0,33.0,44.0,44.0,42.0,34.0,61.0,61.0,44.0,51.0,31.0,54.0,28.0,36.0,36.0,38.0,22.0,30.0,30.0,35.0,41.0,37.0,55.0,55.0,46.0,52.0,52.0,52.0,45.0,45.0,45.0,45.0,45.0,24.0,35.0,33.0,33.0,40.0,38.0,38.0,53.0,53.0,50.0,50.0,71.0,41.0,16.0,31.0,58.0,58.0,45.0,43.0,30.0,27.0,27.0,33.0,31.0,31.0,34.0,27.0,31.0,43.0,29.0,31.0,37.0,43.0,43.0,63.0,63.0,59.0,27.0,37.0,32.0,33.0,46.0,49.0,55.0,46.0,54.0,37.0,45.0,38.0,45.0,36.0,68.0,68.0,40.0,40.0,70.0,34.0,47.0,36.0,48.0,42.0,42.0,27.0,31.0,31.0,31.0,28.0,71.0,78.0,76.0,62.0,40.0,40.0,72.0,41.0,34.0,34.0,null,61.0,61.0,null,54.0,33.0,null,null,42.0,49.0,null,null,null,null,43.0,43.0,35.0,null,null,69.0,null,null,null,null,null,null,null,null,23.0,22.0,22.0,73.0,35.0,26.0,26.0,65.0,34.0,34.0,56.0,56.0,21.0,30.0,53.0,53.0,34.0,51.0,51.0,42.0,39.0,39.0,25.0,25.0,25.0,20.0,43.0,55.0,36.0,40.0,66.0,27.0,27.0,31.0,63.0,63.0,34.0,56.0,56.0,25.0,25.0,64.0,64.0,64.0,36.0,34.0,46.0,46.0,46.0,42.0,44.0,44.0,23.0,23.0,63.0,63.0,55.0,55.0,25.0,31.0,31.0,50.0,50.0,60.0,40.0,36.0,36.0,62.0,62.0,39.0,41.0,37.0,37.0,25.0,57.0,57.0,30.0,59.0,37.0,22.0,60.0,61.0,46.0,37.0,30.0,30.0,41.0,49.0,62.0,66.0,44.0,61.0,61.0,40.0,30.0,30.0,59.0,59.0,27.0,24.0,41.0,69.0,25.0,26.0,27.0,60.0,29.0,38.0,51.0,60.0,52.0,30.0,36.0,48.0,48.0,37.0,36.0,50.0,50.0,64.0,39.0,52.0,23.0,21.0,62.0,38.0,51.0,58.0,30.0,23.0,32.0,32.0,36.0,36.0,29.0,30.0,25.0,25.0,48.0,53.0,56.0,42.0,45.0,45.0,51.0,51.0,56.0,56.0,35.0,35.0,58.0,51.0,32.0,46.0,36.0,52.0,34.0,54.0,54.0,47.0,57.0,28.0,28.0,35.0,55.0,26.0,52.0,52.0,44.0,30.0,49.0,49.0,51.0,33.0,40.0,59.0,47.0,51.0,20.0,28.0,28.0,34.0,31.0,61.0,47.0,45.0,30.0,42.0,24.0,50.0,56.0,51.0,51.0,32.0,59.0,47.0,48.0,48.0,27.0,53.0,39.0,58.0,45.0,33.0,35.0,53.0,55.0,56.0,45.0,44.0,40.0,28.0,28.0,26.0,26.0,40.0,52.0,26.0,51.0,39.0,30.0,34.0,34.0,49.0,57.0,57.0,46.0,29.0,36.0,32.0,24.0,39.0,39.0,78.0,78.0,38.0,39.0,65.0,null,66.0,33.0,38.0,17.0,null,null,58.0,58.0,38.0,41.0,41.0,57.0,37.0,37.0,41.0,60.0,39.0,null,null,null,57.0,57.0,54.0,23.0,23.0,38.0,38.0,38.0,28.0,35.0,35.0,16.0,46.0,50.0,29.0,30.0,30.0,50.0,32.0,62.0,24.0,61.0,61.0,50.0,60.0,30.0,33.0,49.0,49.0,52.0,32.0,55.0,42.0,42.0,75.0,75.0,49.0,61.0,33.0,30.0,33.0,32.0,32.0,32.0,32.0,31.0,31.0,47.0,62.0,36.0,55.0,36.0,66.0,66.0,70.0,70.0,30.0,30.0,30.0,31.0,29.0,29.0,29.0,31.0,26.0,61.0,61.0,57.0,58.0,25.0,25.0,27.0,59.0,55.0,55.0,27.0,23.0,42.0,42.0,53.0,28.0,34.0,61.0,61.0,37.0,22.0,62.0,28.0,47.0,47.0,28.0,28.0,28.0,36.0,58.0,50.0,32.0,50.0,73.0,73.0,29.0,26.0,26.0,55.0,55.0,38.0,50.0,42.0,42.0,41.0,88.0,34.0,23.0,72.0,72.0,28.0,51.0,51.0,56.0,56.0,55.0,55.0,55.0,33.0,33.0,53.0,53.0,53.0,47.0,65.0,36.0,29.0,56.0,39.0,49.0,49.0,35.0,35.0,48.0,54.0,15.0,43.0,26.0,41.0,39.0,22.0,22.0,22.0,32.0,35.0,35.0,40.0,41.0,41.0,31.0,41.0,58.0,32.0,55.0,22.0,22.0,57.0,34.0,25.0,49.0,49.0,31.0,31.0,57.0,51.0,55.0,33.0,33.0,33.0,36.0,41.0,41.0,41.0,41.0,36.0,23.0,23.0,23.0,37.0,37.0,54.0,57.0,48.0,44.0,44.0,44.0,44.0,21.0,21.0,64.0,29.0,59.0,59.0,61.0,61.0,61.0,61.0,61.0,61.0,64.0,54.0,58.0,68.0,68.0,25.0,26.0,53.0,64.0,59.0,59.0,59.0,59.0,59.0,56.0,27.0,27.0,36.0,36.0,34.0,54.0,26.0,30.0,30.0,67.0,67.0,40.0,43.0,39.0,48.0,34.0,34.0,24.0,63.0,26.0,50.0,50.0,46.0,46.0,46.0,50.0,25.0,40.0,43.0,43.0,35.0,47.0,47.0,25.0,52.0,34.0,34.0,27.0,54.0,40.0,38.0,58.0,25.0,82.0,42.0,20.0,20.0,85.0,34.0,34.0,47.0,56.0,56.0,21.0,18.0,28.0,28.0,59.0,36.0,36.0,49.0,32.0,35.0,37.0,26.0,58.0,39.0,23.0,24.0,40.0,41.0,54.0,27.0,47.0,24.0,51.0,22.0,21.0,21.0,61.0,53.0,38.0,33.0,33.0,61.0,61.0,31.0,31.0,31.0,32.0,32.0,47.0,70.0,70.0,43.0,62.0,null,null,29.0,47.0,31.0,44.0,40.0,41.0,56.0,40.0,49.0,28.0,62.0,41.0,33.0,25.0,32.0,32.0,68.0,68.0,63.0,37.0,35.0,35.0,53.0,66.0,59.0,64.0,55.0,46.0,46.0,56.0,56.0,34.0,28.0,35.0,29.0,29.0,35.0,66.0,49.0,39.0,39.0,50.0,50.0,46.0,47.0,47.0,71.0,40.0,51.0,39.0,46.0,40.0,47.0,32.0,65.0,40.0,56.0,48.0,45.0,45.0,62.0,44.0,40.0,61.0,66.0,57.0,55.0,42.0,38.0,38.0,63.0,57.0,57.0,54.0,28.0,32.0,39.0,51.0,60.0,74.0,74.0,37.0,37.0,38.0,38.0,45.0,45.0,40.0,30.0,35.0,44.0,64.0,90.0,30.0,33.0,33.0,61.0,61.0,36.0,24.0,24.0,43.0,55.0,32.0,32.0,32.0,35.0,70.0,48.0,51.0,51.0,61.0,29.0,58.0,44.0,52.0,58.0,37.0,37.0,37.0,62.0,30.0,40.0,37.0,50.0,50.0,53.0,53.0,28.0,50.0,39.0,44.0,44.0,17.0,60.0,45.0,17.0,17.0,60.0,60.0,42.0,41.0,44.0,44.0,62.0,33.0,34.0,90.0,30.0,30.0,22.0,53.0,56.0,49.0,49.0,39.0,61.0,44.0,44.0,26.0,51.0,38.0,59.0,16.0,65.0,42.0,42.0,null,null,null,99.0,49.0,32.0,25.0,35.0,50.0,50.0,44.0,36.0,75.0,37.0,37.0,54.0,54.0,42.0,42.0,53.0,60.0,60.0,52.0,63.0,35.0,39.0,47.0,46.0,22.0,22.0,55.0,55.0,55.0,39.0,33.0,33.0,54.0,54.0,44.0,44.0,34.0,34.0,40.0,38.0,38.0,61.0,52.0,46.0,25.0,45.0,45.0,51.0,51.0,96.0,46.0,46.0,34.0,77.0,38.0,38.0,38.0,24.0,24.0,40.0,54.0,56.0,56.0,35.0,49.0,36.0,39.0,50.0,50.0,50.0,44.0,44.0,28.0,50.0,50.0,32.0,48.0,43.0,43.0,62.0,37.0,28.0,46.0,46.0,32.0,32.0,32.0,53.0,43.0,47.0,47.0,17.0,49.0,55.0,22.0,52.0,39.0,39.0,35.0,39.0,39.0,47.0,42.0,41.0,41.0,27.0,30.0,61.0,56.0,56.0,36.0,59.0,25.0,41.0,35.0,49.0,62.0,35.0,35.0,64.0,38.0,45.0,26.0,39.0,37.0,80.0,33.0,20.0,44.0,41.0,41.0,46.0,74.0,35.0,35.0,34.0,86.0,38.0,33.0,28.0,43.0,59.0,59.0,38.0,28.0,37.0,37.0,39.0,28.0,28.0,46.0,31.0,36.0,53.0,85.0,42.0,42.0,25.0,82.0,48.0,48.0,66.0,38.0,50.0,27.0,36.0,32.0,55.0,null,57.0,21.0,40.0,40.0,28.0,28.0,44.0,58.0,58.0,58.0,42.0,30.0,30.0,52.0,26.0,30.0,46.0,55.0,45.0,44.0,null,null,53.0,69.0,69.0,37.0,68.0,20.0,39.0,47.0,47.0,37.0,17.0,62.0,62.0,56.0,57.0,44.0,51.0,72.0,72.0,34.0,65.0,33.0,23.0,59.0,47.0,32.0,51.0,51.0,29.0,29.0,28.0,37.0,52.0,52.0,37.0,34.0,53.0,67.0,41.0,37.0,35.0,25.0,30.0,41.0,41.0,59.0,50.0,63.0,63.0,39.0,48.0,43.0,64.0,48.0,49.0,49.0,64.0,43.0,22.0,60.0,60.0,44.0,44.0,34.0,34.0,30.0,67.0,66.0,31.0,36.0,63.0,63.0,23.0,23.0,61.0,43.0,43.0,43.0,43.0,48.0,48.0,48.0,49.0,49.0,60.0,32.0,45.0,43.0,43.0,43.0,54.0,41.0,45.0,45.0,45.0,35.0,32.0,37.0,58.0,51.0,45.0,49.0,59.0,41.0,56.0,98.0,28.0,41.0,49.0,49.0,43.0,65.0,26.0,41.0,28.0,28.0,33.0,48.0,48.0,48.0,38.0,38.0,47.0,60.0,52.0,52.0,34.0,57.0,34.0,38.0,52.0,52.0,32.0,35.0,42.0,31.0,24.0,50.0,47.0,47.0,38.0,38.0,65.0,34.0,47.0,26.0,47.0,47.0,null,null,29.0,28.0,30.0,30.0,46.0,32.0,44.0,44.0,32.0,67.0,41.0,64.0,44.0,40.0,40.0,23.0,23.0,36.0,27.0,61.0,42.0,42.0,55.0,35.0,29.0,29.0,42.0,40.0,58.0,39.0,34.0,62.0,62.0,50.0,50.0,50.0,50.0,39.0,40.0,40.0,28.0,64.0,64.0,58.0,44.0,59.0,79.0,33.0,43.0,36.0,60.0,60.0,55.0,55.0,30.0,32.0,32.0,17.0,59.0,58.0,58.0,60.0,60.0,65.0,60.0,null,45.0,45.0,55.0,55.0,41.0,34.0,35.0,35.0,57.0,60.0,23.0,23.0,58.0,51.0,28.0,38.0,34.0,34.0,34.0,37.0,45.0,45.0,24.0,24.0,33.0,38.0,38.0,63.0,33.0,52.0,24.0,30.0,33.0,21.0,25.0,43.0,29.0,46.0,38.0,20.0,48.0,54.0,54.0,54.0,58.0,58.0,86.0,59.0,43.0,62.0,37.0,52.0,57.0,38.0,55.0,27.0,84.0,35.0,31.0,29.0,52.0,57.0,57.0,57.0,40.0,49.0,25.0,70.0,35.0,35.0,33.0,44.0,44.0,null,40.0,40.0,55.0,55.0,50.0,34.0,23.0,24.0,24.0,58.0,40.0,24.0,24.0,91.0,91.0,48.0,46.0,24.0,45.0,45.0,64.0,39.0,39.0,43.0,53.0,53.0,42.0,41.0,37.0,37.0,37.0,35.0,29.0,29.0,36.0,36.0,36.0,56.0,31.0,31.0,41.0,48.0,50.0,33.0,33.0,47.0,62.0,67.0,33.0,59.0,22.0,22.0,22.0,57.0,57.0,57.0,57.0,31.0,31.0,40.0,40.0,35.0,68.0,55.0,55.0,26.0,40.0,36.0,36.0,62.0,51.0,60.0,60.0,38.0,31.0,31.0,42.0,42.0,34.0,26.0,26.0,35.0,35.0,28.0,28.0,57.0,42.0,42.0,37.0,51.0,37.0,24.0,24.0,50.0,50.0,83.0,35.0,29.0,55.0,25.0,45.0,45.0,76.0,42.0,42.0,42.0,31.0,63.0,43.0,43.0,67.0,38.0,53.0,22.0,21.0,21.0,36.0,36.0,58.0,61.0,57.0,null,32.0,53.0,45.0,38.0,55.0,37.0,38.0,26.0,40.0,16.0,25.0,56.0,35.0,47.0,62.0,68.0,68.0,58.0,58.0,58.0,63.0,26.0,26.0,26.0,26.0,61.0,38.0,51.0,51.0,51.0,40.0,55.0,52.0,67.0,30.0,32.0,39.0,56.0,38.0,38.0,52.0,52.0,52.0,35.0,26.0,29.0,44.0,44.0,33.0,36.0,36.0,51.0,27.0,49.0,57.0,57.0,17.0,30.0,32.0,56.0,50.0,28.0,43.0,54.0,54.0,32.0,31.0,46.0,46.0,55.0,47.0,31.0,31.0,33.0,33.0,23.0,56.0,52.0,47.0,72.0,72.0,48.0,48.0,51.0,42.0,26.0,26.0,77.0,50.0,65.0,65.0,65.0,65.0,43.0,42.0,82.0,82.0,51.0,51.0,40.0,36.0,36.0,24.0,81.0,81.0,81.0,81.0,41.0,41.0,40.0,50.0,62.0,61.0,40.0,40.0,59.0,59.0,59.0,45.0,53.0,37.0,48.0,29.0,47.0,47.0,34.0,49.0,75.0,53.0,36.0,26.0,63.0,63.0,25.0,23.0,23.0,23.0,40.0,33.0,35.0,32.0,39.0,39.0,39.0,39.0,39.0,39.0,39.0,39.0,39.0,39.0,39.0,31.0,31.0,41.0,25.0,25.0,45.0,45.0,45.0,45.0,64.0,58.0,58.0,28.0,36.0,36.0,36.0,26.0,45.0,23.0,57.0,81.0,23.0,23.0,71.0,71.0,29.0,32.0,71.0,47.0,39.0,39.0,39.0,39.0,47.0,56.0,34.0,35.0,35.0,36.0,30.0,30.0,30.0,45.0,36.0,28.0,23.0,23.0,23.0,52.0,55.0,40.0,48.0,34.0,34.0,34.0,40.0,48.0,48.0,38.0,59.0,50.0,50.0,34.0,34.0,69.0,39.0,42.0,38.0,44.0,91.0,32.0,46.0,44.0,47.0,45.0,39.0,35.0,35.0,22.0,null,null,null,null,null,null,null,null,null,null,49.0,49.0,null,null,35.0,null,50.0,95.0],\"type\":\"histogram\"}],                        {\"template\":{\"data\":{\"bar\":[{\"error_x\":{\"color\":\"#2a3f5f\"},\"error_y\":{\"color\":\"#2a3f5f\"},\"marker\":{\"line\":{\"color\":\"#E5ECF6\",\"width\":0.5},\"pattern\":{\"fillmode\":\"overlay\",\"size\":10,\"solidity\":0.2}},\"type\":\"bar\"}],\"barpolar\":[{\"marker\":{\"line\":{\"color\":\"#E5ECF6\",\"width\":0.5},\"pattern\":{\"fillmode\":\"overlay\",\"size\":10,\"solidity\":0.2}},\"type\":\"barpolar\"}],\"carpet\":[{\"aaxis\":{\"endlinecolor\":\"#2a3f5f\",\"gridcolor\":\"white\",\"linecolor\":\"white\",\"minorgridcolor\":\"white\",\"startlinecolor\":\"#2a3f5f\"},\"baxis\":{\"endlinecolor\":\"#2a3f5f\",\"gridcolor\":\"white\",\"linecolor\":\"white\",\"minorgridcolor\":\"white\",\"startlinecolor\":\"#2a3f5f\"},\"type\":\"carpet\"}],\"choropleth\":[{\"colorbar\":{\"outlinewidth\":0,\"ticks\":\"\"},\"type\":\"choropleth\"}],\"contour\":[{\"colorbar\":{\"outlinewidth\":0,\"ticks\":\"\"},\"colorscale\":[[0.0,\"#0d0887\"],[0.1111111111111111,\"#46039f\"],[0.2222222222222222,\"#7201a8\"],[0.3333333333333333,\"#9c179e\"],[0.4444444444444444,\"#bd3786\"],[0.5555555555555556,\"#d8576b\"],[0.6666666666666666,\"#ed7953\"],[0.7777777777777778,\"#fb9f3a\"],[0.8888888888888888,\"#fdca26\"],[1.0,\"#f0f921\"]],\"type\":\"contour\"}],\"contourcarpet\":[{\"colorbar\":{\"outlinewidth\":0,\"ticks\":\"\"},\"type\":\"contourcarpet\"}],\"heatmap\":[{\"colorbar\":{\"outlinewidth\":0,\"ticks\":\"\"},\"colorscale\":[[0.0,\"#0d0887\"],[0.1111111111111111,\"#46039f\"],[0.2222222222222222,\"#7201a8\"],[0.3333333333333333,\"#9c179e\"],[0.4444444444444444,\"#bd3786\"],[0.5555555555555556,\"#d8576b\"],[0.6666666666666666,\"#ed7953\"],[0.7777777777777778,\"#fb9f3a\"],[0.8888888888888888,\"#fdca26\"],[1.0,\"#f0f921\"]],\"type\":\"heatmap\"}],\"heatmapgl\":[{\"colorbar\":{\"outlinewidth\":0,\"ticks\":\"\"},\"colorscale\":[[0.0,\"#0d0887\"],[0.1111111111111111,\"#46039f\"],[0.2222222222222222,\"#7201a8\"],[0.3333333333333333,\"#9c179e\"],[0.4444444444444444,\"#bd3786\"],[0.5555555555555556,\"#d8576b\"],[0.6666666666666666,\"#ed7953\"],[0.7777777777777778,\"#fb9f3a\"],[0.8888888888888888,\"#fdca26\"],[1.0,\"#f0f921\"]],\"type\":\"heatmapgl\"}],\"histogram\":[{\"marker\":{\"pattern\":{\"fillmode\":\"overlay\",\"size\":10,\"solidity\":0.2}},\"type\":\"histogram\"}],\"histogram2d\":[{\"colorbar\":{\"outlinewidth\":0,\"ticks\":\"\"},\"colorscale\":[[0.0,\"#0d0887\"],[0.1111111111111111,\"#46039f\"],[0.2222222222222222,\"#7201a8\"],[0.3333333333333333,\"#9c179e\"],[0.4444444444444444,\"#bd3786\"],[0.5555555555555556,\"#d8576b\"],[0.6666666666666666,\"#ed7953\"],[0.7777777777777778,\"#fb9f3a\"],[0.8888888888888888,\"#fdca26\"],[1.0,\"#f0f921\"]],\"type\":\"histogram2d\"}],\"histogram2dcontour\":[{\"colorbar\":{\"outlinewidth\":0,\"ticks\":\"\"},\"colorscale\":[[0.0,\"#0d0887\"],[0.1111111111111111,\"#46039f\"],[0.2222222222222222,\"#7201a8\"],[0.3333333333333333,\"#9c179e\"],[0.4444444444444444,\"#bd3786\"],[0.5555555555555556,\"#d8576b\"],[0.6666666666666666,\"#ed7953\"],[0.7777777777777778,\"#fb9f3a\"],[0.8888888888888888,\"#fdca26\"],[1.0,\"#f0f921\"]],\"type\":\"histogram2dcontour\"}],\"mesh3d\":[{\"colorbar\":{\"outlinewidth\":0,\"ticks\":\"\"},\"type\":\"mesh3d\"}],\"parcoords\":[{\"line\":{\"colorbar\":{\"outlinewidth\":0,\"ticks\":\"\"}},\"type\":\"parcoords\"}],\"pie\":[{\"automargin\":true,\"type\":\"pie\"}],\"scatter\":[{\"marker\":{\"colorbar\":{\"outlinewidth\":0,\"ticks\":\"\"}},\"type\":\"scatter\"}],\"scatter3d\":[{\"line\":{\"colorbar\":{\"outlinewidth\":0,\"ticks\":\"\"}},\"marker\":{\"colorbar\":{\"outlinewidth\":0,\"ticks\":\"\"}},\"type\":\"scatter3d\"}],\"scattercarpet\":[{\"marker\":{\"colorbar\":{\"outlinewidth\":0,\"ticks\":\"\"}},\"type\":\"scattercarpet\"}],\"scattergeo\":[{\"marker\":{\"colorbar\":{\"outlinewidth\":0,\"ticks\":\"\"}},\"type\":\"scattergeo\"}],\"scattergl\":[{\"marker\":{\"colorbar\":{\"outlinewidth\":0,\"ticks\":\"\"}},\"type\":\"scattergl\"}],\"scattermapbox\":[{\"marker\":{\"colorbar\":{\"outlinewidth\":0,\"ticks\":\"\"}},\"type\":\"scattermapbox\"}],\"scatterpolar\":[{\"marker\":{\"colorbar\":{\"outlinewidth\":0,\"ticks\":\"\"}},\"type\":\"scatterpolar\"}],\"scatterpolargl\":[{\"marker\":{\"colorbar\":{\"outlinewidth\":0,\"ticks\":\"\"}},\"type\":\"scatterpolargl\"}],\"scatterternary\":[{\"marker\":{\"colorbar\":{\"outlinewidth\":0,\"ticks\":\"\"}},\"type\":\"scatterternary\"}],\"surface\":[{\"colorbar\":{\"outlinewidth\":0,\"ticks\":\"\"},\"colorscale\":[[0.0,\"#0d0887\"],[0.1111111111111111,\"#46039f\"],[0.2222222222222222,\"#7201a8\"],[0.3333333333333333,\"#9c179e\"],[0.4444444444444444,\"#bd3786\"],[0.5555555555555556,\"#d8576b\"],[0.6666666666666666,\"#ed7953\"],[0.7777777777777778,\"#fb9f3a\"],[0.8888888888888888,\"#fdca26\"],[1.0,\"#f0f921\"]],\"type\":\"surface\"}],\"table\":[{\"cells\":{\"fill\":{\"color\":\"#EBF0F8\"},\"line\":{\"color\":\"white\"}},\"header\":{\"fill\":{\"color\":\"#C8D4E3\"},\"line\":{\"color\":\"white\"}},\"type\":\"table\"}]},\"layout\":{\"annotationdefaults\":{\"arrowcolor\":\"#2a3f5f\",\"arrowhead\":0,\"arrowwidth\":1},\"autotypenumbers\":\"strict\",\"coloraxis\":{\"colorbar\":{\"outlinewidth\":0,\"ticks\":\"\"}},\"colorscale\":{\"diverging\":[[0,\"#8e0152\"],[0.1,\"#c51b7d\"],[0.2,\"#de77ae\"],[0.3,\"#f1b6da\"],[0.4,\"#fde0ef\"],[0.5,\"#f7f7f7\"],[0.6,\"#e6f5d0\"],[0.7,\"#b8e186\"],[0.8,\"#7fbc41\"],[0.9,\"#4d9221\"],[1,\"#276419\"]],\"sequential\":[[0.0,\"#0d0887\"],[0.1111111111111111,\"#46039f\"],[0.2222222222222222,\"#7201a8\"],[0.3333333333333333,\"#9c179e\"],[0.4444444444444444,\"#bd3786\"],[0.5555555555555556,\"#d8576b\"],[0.6666666666666666,\"#ed7953\"],[0.7777777777777778,\"#fb9f3a\"],[0.8888888888888888,\"#fdca26\"],[1.0,\"#f0f921\"]],\"sequentialminus\":[[0.0,\"#0d0887\"],[0.1111111111111111,\"#46039f\"],[0.2222222222222222,\"#7201a8\"],[0.3333333333333333,\"#9c179e\"],[0.4444444444444444,\"#bd3786\"],[0.5555555555555556,\"#d8576b\"],[0.6666666666666666,\"#ed7953\"],[0.7777777777777778,\"#fb9f3a\"],[0.8888888888888888,\"#fdca26\"],[1.0,\"#f0f921\"]]},\"colorway\":[\"#636efa\",\"#EF553B\",\"#00cc96\",\"#ab63fa\",\"#FFA15A\",\"#19d3f3\",\"#FF6692\",\"#B6E880\",\"#FF97FF\",\"#FECB52\"],\"font\":{\"color\":\"#2a3f5f\"},\"geo\":{\"bgcolor\":\"white\",\"lakecolor\":\"white\",\"landcolor\":\"#E5ECF6\",\"showlakes\":true,\"showland\":true,\"subunitcolor\":\"white\"},\"hoverlabel\":{\"align\":\"left\"},\"hovermode\":\"closest\",\"mapbox\":{\"style\":\"light\"},\"paper_bgcolor\":\"white\",\"plot_bgcolor\":\"#E5ECF6\",\"polar\":{\"angularaxis\":{\"gridcolor\":\"white\",\"linecolor\":\"white\",\"ticks\":\"\"},\"bgcolor\":\"#E5ECF6\",\"radialaxis\":{\"gridcolor\":\"white\",\"linecolor\":\"white\",\"ticks\":\"\"}},\"scene\":{\"xaxis\":{\"backgroundcolor\":\"#E5ECF6\",\"gridcolor\":\"white\",\"gridwidth\":2,\"linecolor\":\"white\",\"showbackground\":true,\"ticks\":\"\",\"zerolinecolor\":\"white\"},\"yaxis\":{\"backgroundcolor\":\"#E5ECF6\",\"gridcolor\":\"white\",\"gridwidth\":2,\"linecolor\":\"white\",\"showbackground\":true,\"ticks\":\"\",\"zerolinecolor\":\"white\"},\"zaxis\":{\"backgroundcolor\":\"#E5ECF6\",\"gridcolor\":\"white\",\"gridwidth\":2,\"linecolor\":\"white\",\"showbackground\":true,\"ticks\":\"\",\"zerolinecolor\":\"white\"}},\"shapedefaults\":{\"line\":{\"color\":\"#2a3f5f\"}},\"ternary\":{\"aaxis\":{\"gridcolor\":\"white\",\"linecolor\":\"white\",\"ticks\":\"\"},\"baxis\":{\"gridcolor\":\"white\",\"linecolor\":\"white\",\"ticks\":\"\"},\"bgcolor\":\"#E5ECF6\",\"caxis\":{\"gridcolor\":\"white\",\"linecolor\":\"white\",\"ticks\":\"\"}},\"title\":{\"x\":0.05},\"xaxis\":{\"automargin\":true,\"gridcolor\":\"white\",\"linecolor\":\"white\",\"ticks\":\"\",\"title\":{\"standoff\":15},\"zerolinecolor\":\"white\",\"zerolinewidth\":2},\"yaxis\":{\"automargin\":true,\"gridcolor\":\"white\",\"linecolor\":\"white\",\"ticks\":\"\",\"title\":{\"standoff\":15},\"zerolinecolor\":\"white\",\"zerolinewidth\":2}}},\"xaxis\":{\"anchor\":\"y\",\"domain\":[0.0,1.0],\"title\":{\"text\":\"Age Group\"}},\"yaxis\":{\"anchor\":\"x\",\"domain\":[0.0,1.0],\"title\":{\"text\":\"Frequency\"}},\"title\":{\"text\":\"Frequency of Age Groups Reported to VAERS\"}},                        {\"responsive\": true}                    ).then(function(){\n",
              "                            \n",
              "var gd = document.getElementById('c3802a0b-f6d6-4799-abad-69ed7f21db48');\n",
              "var x = new MutationObserver(function (mutations, observer) {{\n",
              "        var display = window.getComputedStyle(gd).display;\n",
              "        if (!display || display === 'none') {{\n",
              "            console.log([gd, 'removed!']);\n",
              "            Plotly.purge(gd);\n",
              "            observer.disconnect();\n",
              "        }}\n",
              "}});\n",
              "\n",
              "// Listen for the removal of the full notebook cells\n",
              "var notebookContainer = gd.closest('#notebook-container');\n",
              "if (notebookContainer) {{\n",
              "    x.observe(notebookContainer, {childList: true});\n",
              "}}\n",
              "\n",
              "// Listen for the clearing of the current output cell\n",
              "var outputEl = gd.closest('.output');\n",
              "if (outputEl) {{\n",
              "    x.observe(outputEl, {childList: true});\n",
              "}}\n",
              "\n",
              "                        })                };                            </script>        </div>\n",
              "</body>\n",
              "</html>"
            ]
          },
          "metadata": {}
        }
      ],
      "source": [
        "# Create a figure with a single subplot\n",
        "fig = make_subplots(rows=1, cols=1)\n",
        "\n",
        "# Add a histogram trace showing the frequency of age groups reported to VAERS\n",
        "fig.add_trace(\n",
        "    go.Histogram(x=fullframe['AGE_YRS'], name='Age Group Frequency')\n",
        ")\n",
        "\n",
        "# Update the layout of the figure to include a title and axis labels\n",
        "fig.update_layout(\n",
        "    title='Frequency of Age Groups Reported to VAERS',\n",
        "    xaxis_title='Age Group',\n",
        "    yaxis_title='Frequency'\n",
        ")\n",
        "\n",
        "# Display the figure\n",
        "fig.show()"
      ]
    },
    {
      "cell_type": "code",
      "execution_count": null,
      "metadata": {
        "id": "IEhNvsRZAv5M",
        "outputId": "698fce76-3e81-4fd9-ae3d-38fbc13827a2",
        "colab": {
          "base_uri": "https://localhost:8080/",
          "height": 542
        }
      },
      "outputs": [
        {
          "output_type": "display_data",
          "data": {
            "text/html": [
              "<html>\n",
              "<head><meta charset=\"utf-8\" /></head>\n",
              "<body>\n",
              "    <div>            <script src=\"https://cdnjs.cloudflare.com/ajax/libs/mathjax/2.7.5/MathJax.js?config=TeX-AMS-MML_SVG\"></script><script type=\"text/javascript\">if (window.MathJax) {MathJax.Hub.Config({SVG: {font: \"STIX-Web\"}});}</script>                <script type=\"text/javascript\">window.PlotlyConfig = {MathJaxConfig: 'local'};</script>\n",
              "        <script src=\"https://cdn.plot.ly/plotly-2.8.3.min.js\"></script>                <div id=\"34f22f33-6727-4aaf-9299-daf85a91ca90\" class=\"plotly-graph-div\" style=\"height:525px; width:100%;\"></div>            <script type=\"text/javascript\">                                    window.PLOTLYENV=window.PLOTLYENV || {};                                    if (document.getElementById(\"34f22f33-6727-4aaf-9299-daf85a91ca90\")) {                    Plotly.newPlot(                        \"34f22f33-6727-4aaf-9299-daf85a91ca90\",                        [{\"name\":\"Death Frequency by Age Group\",\"x\":[63.0,66.0,74.0,78.0,83.0,84.0,85.0,88.0,89.0,90.0,96.0,99.0],\"y\":[2,2,1,1,1,2,2,2,1,1,1,1],\"type\":\"bar\"}],                        {\"template\":{\"data\":{\"bar\":[{\"error_x\":{\"color\":\"#2a3f5f\"},\"error_y\":{\"color\":\"#2a3f5f\"},\"marker\":{\"line\":{\"color\":\"#E5ECF6\",\"width\":0.5},\"pattern\":{\"fillmode\":\"overlay\",\"size\":10,\"solidity\":0.2}},\"type\":\"bar\"}],\"barpolar\":[{\"marker\":{\"line\":{\"color\":\"#E5ECF6\",\"width\":0.5},\"pattern\":{\"fillmode\":\"overlay\",\"size\":10,\"solidity\":0.2}},\"type\":\"barpolar\"}],\"carpet\":[{\"aaxis\":{\"endlinecolor\":\"#2a3f5f\",\"gridcolor\":\"white\",\"linecolor\":\"white\",\"minorgridcolor\":\"white\",\"startlinecolor\":\"#2a3f5f\"},\"baxis\":{\"endlinecolor\":\"#2a3f5f\",\"gridcolor\":\"white\",\"linecolor\":\"white\",\"minorgridcolor\":\"white\",\"startlinecolor\":\"#2a3f5f\"},\"type\":\"carpet\"}],\"choropleth\":[{\"colorbar\":{\"outlinewidth\":0,\"ticks\":\"\"},\"type\":\"choropleth\"}],\"contour\":[{\"colorbar\":{\"outlinewidth\":0,\"ticks\":\"\"},\"colorscale\":[[0.0,\"#0d0887\"],[0.1111111111111111,\"#46039f\"],[0.2222222222222222,\"#7201a8\"],[0.3333333333333333,\"#9c179e\"],[0.4444444444444444,\"#bd3786\"],[0.5555555555555556,\"#d8576b\"],[0.6666666666666666,\"#ed7953\"],[0.7777777777777778,\"#fb9f3a\"],[0.8888888888888888,\"#fdca26\"],[1.0,\"#f0f921\"]],\"type\":\"contour\"}],\"contourcarpet\":[{\"colorbar\":{\"outlinewidth\":0,\"ticks\":\"\"},\"type\":\"contourcarpet\"}],\"heatmap\":[{\"colorbar\":{\"outlinewidth\":0,\"ticks\":\"\"},\"colorscale\":[[0.0,\"#0d0887\"],[0.1111111111111111,\"#46039f\"],[0.2222222222222222,\"#7201a8\"],[0.3333333333333333,\"#9c179e\"],[0.4444444444444444,\"#bd3786\"],[0.5555555555555556,\"#d8576b\"],[0.6666666666666666,\"#ed7953\"],[0.7777777777777778,\"#fb9f3a\"],[0.8888888888888888,\"#fdca26\"],[1.0,\"#f0f921\"]],\"type\":\"heatmap\"}],\"heatmapgl\":[{\"colorbar\":{\"outlinewidth\":0,\"ticks\":\"\"},\"colorscale\":[[0.0,\"#0d0887\"],[0.1111111111111111,\"#46039f\"],[0.2222222222222222,\"#7201a8\"],[0.3333333333333333,\"#9c179e\"],[0.4444444444444444,\"#bd3786\"],[0.5555555555555556,\"#d8576b\"],[0.6666666666666666,\"#ed7953\"],[0.7777777777777778,\"#fb9f3a\"],[0.8888888888888888,\"#fdca26\"],[1.0,\"#f0f921\"]],\"type\":\"heatmapgl\"}],\"histogram\":[{\"marker\":{\"pattern\":{\"fillmode\":\"overlay\",\"size\":10,\"solidity\":0.2}},\"type\":\"histogram\"}],\"histogram2d\":[{\"colorbar\":{\"outlinewidth\":0,\"ticks\":\"\"},\"colorscale\":[[0.0,\"#0d0887\"],[0.1111111111111111,\"#46039f\"],[0.2222222222222222,\"#7201a8\"],[0.3333333333333333,\"#9c179e\"],[0.4444444444444444,\"#bd3786\"],[0.5555555555555556,\"#d8576b\"],[0.6666666666666666,\"#ed7953\"],[0.7777777777777778,\"#fb9f3a\"],[0.8888888888888888,\"#fdca26\"],[1.0,\"#f0f921\"]],\"type\":\"histogram2d\"}],\"histogram2dcontour\":[{\"colorbar\":{\"outlinewidth\":0,\"ticks\":\"\"},\"colorscale\":[[0.0,\"#0d0887\"],[0.1111111111111111,\"#46039f\"],[0.2222222222222222,\"#7201a8\"],[0.3333333333333333,\"#9c179e\"],[0.4444444444444444,\"#bd3786\"],[0.5555555555555556,\"#d8576b\"],[0.6666666666666666,\"#ed7953\"],[0.7777777777777778,\"#fb9f3a\"],[0.8888888888888888,\"#fdca26\"],[1.0,\"#f0f921\"]],\"type\":\"histogram2dcontour\"}],\"mesh3d\":[{\"colorbar\":{\"outlinewidth\":0,\"ticks\":\"\"},\"type\":\"mesh3d\"}],\"parcoords\":[{\"line\":{\"colorbar\":{\"outlinewidth\":0,\"ticks\":\"\"}},\"type\":\"parcoords\"}],\"pie\":[{\"automargin\":true,\"type\":\"pie\"}],\"scatter\":[{\"marker\":{\"colorbar\":{\"outlinewidth\":0,\"ticks\":\"\"}},\"type\":\"scatter\"}],\"scatter3d\":[{\"line\":{\"colorbar\":{\"outlinewidth\":0,\"ticks\":\"\"}},\"marker\":{\"colorbar\":{\"outlinewidth\":0,\"ticks\":\"\"}},\"type\":\"scatter3d\"}],\"scattercarpet\":[{\"marker\":{\"colorbar\":{\"outlinewidth\":0,\"ticks\":\"\"}},\"type\":\"scattercarpet\"}],\"scattergeo\":[{\"marker\":{\"colorbar\":{\"outlinewidth\":0,\"ticks\":\"\"}},\"type\":\"scattergeo\"}],\"scattergl\":[{\"marker\":{\"colorbar\":{\"outlinewidth\":0,\"ticks\":\"\"}},\"type\":\"scattergl\"}],\"scattermapbox\":[{\"marker\":{\"colorbar\":{\"outlinewidth\":0,\"ticks\":\"\"}},\"type\":\"scattermapbox\"}],\"scatterpolar\":[{\"marker\":{\"colorbar\":{\"outlinewidth\":0,\"ticks\":\"\"}},\"type\":\"scatterpolar\"}],\"scatterpolargl\":[{\"marker\":{\"colorbar\":{\"outlinewidth\":0,\"ticks\":\"\"}},\"type\":\"scatterpolargl\"}],\"scatterternary\":[{\"marker\":{\"colorbar\":{\"outlinewidth\":0,\"ticks\":\"\"}},\"type\":\"scatterternary\"}],\"surface\":[{\"colorbar\":{\"outlinewidth\":0,\"ticks\":\"\"},\"colorscale\":[[0.0,\"#0d0887\"],[0.1111111111111111,\"#46039f\"],[0.2222222222222222,\"#7201a8\"],[0.3333333333333333,\"#9c179e\"],[0.4444444444444444,\"#bd3786\"],[0.5555555555555556,\"#d8576b\"],[0.6666666666666666,\"#ed7953\"],[0.7777777777777778,\"#fb9f3a\"],[0.8888888888888888,\"#fdca26\"],[1.0,\"#f0f921\"]],\"type\":\"surface\"}],\"table\":[{\"cells\":{\"fill\":{\"color\":\"#EBF0F8\"},\"line\":{\"color\":\"white\"}},\"header\":{\"fill\":{\"color\":\"#C8D4E3\"},\"line\":{\"color\":\"white\"}},\"type\":\"table\"}]},\"layout\":{\"annotationdefaults\":{\"arrowcolor\":\"#2a3f5f\",\"arrowhead\":0,\"arrowwidth\":1},\"autotypenumbers\":\"strict\",\"coloraxis\":{\"colorbar\":{\"outlinewidth\":0,\"ticks\":\"\"}},\"colorscale\":{\"diverging\":[[0,\"#8e0152\"],[0.1,\"#c51b7d\"],[0.2,\"#de77ae\"],[0.3,\"#f1b6da\"],[0.4,\"#fde0ef\"],[0.5,\"#f7f7f7\"],[0.6,\"#e6f5d0\"],[0.7,\"#b8e186\"],[0.8,\"#7fbc41\"],[0.9,\"#4d9221\"],[1,\"#276419\"]],\"sequential\":[[0.0,\"#0d0887\"],[0.1111111111111111,\"#46039f\"],[0.2222222222222222,\"#7201a8\"],[0.3333333333333333,\"#9c179e\"],[0.4444444444444444,\"#bd3786\"],[0.5555555555555556,\"#d8576b\"],[0.6666666666666666,\"#ed7953\"],[0.7777777777777778,\"#fb9f3a\"],[0.8888888888888888,\"#fdca26\"],[1.0,\"#f0f921\"]],\"sequentialminus\":[[0.0,\"#0d0887\"],[0.1111111111111111,\"#46039f\"],[0.2222222222222222,\"#7201a8\"],[0.3333333333333333,\"#9c179e\"],[0.4444444444444444,\"#bd3786\"],[0.5555555555555556,\"#d8576b\"],[0.6666666666666666,\"#ed7953\"],[0.7777777777777778,\"#fb9f3a\"],[0.8888888888888888,\"#fdca26\"],[1.0,\"#f0f921\"]]},\"colorway\":[\"#636efa\",\"#EF553B\",\"#00cc96\",\"#ab63fa\",\"#FFA15A\",\"#19d3f3\",\"#FF6692\",\"#B6E880\",\"#FF97FF\",\"#FECB52\"],\"font\":{\"color\":\"#2a3f5f\"},\"geo\":{\"bgcolor\":\"white\",\"lakecolor\":\"white\",\"landcolor\":\"#E5ECF6\",\"showlakes\":true,\"showland\":true,\"subunitcolor\":\"white\"},\"hoverlabel\":{\"align\":\"left\"},\"hovermode\":\"closest\",\"mapbox\":{\"style\":\"light\"},\"paper_bgcolor\":\"white\",\"plot_bgcolor\":\"#E5ECF6\",\"polar\":{\"angularaxis\":{\"gridcolor\":\"white\",\"linecolor\":\"white\",\"ticks\":\"\"},\"bgcolor\":\"#E5ECF6\",\"radialaxis\":{\"gridcolor\":\"white\",\"linecolor\":\"white\",\"ticks\":\"\"}},\"scene\":{\"xaxis\":{\"backgroundcolor\":\"#E5ECF6\",\"gridcolor\":\"white\",\"gridwidth\":2,\"linecolor\":\"white\",\"showbackground\":true,\"ticks\":\"\",\"zerolinecolor\":\"white\"},\"yaxis\":{\"backgroundcolor\":\"#E5ECF6\",\"gridcolor\":\"white\",\"gridwidth\":2,\"linecolor\":\"white\",\"showbackground\":true,\"ticks\":\"\",\"zerolinecolor\":\"white\"},\"zaxis\":{\"backgroundcolor\":\"#E5ECF6\",\"gridcolor\":\"white\",\"gridwidth\":2,\"linecolor\":\"white\",\"showbackground\":true,\"ticks\":\"\",\"zerolinecolor\":\"white\"}},\"shapedefaults\":{\"line\":{\"color\":\"#2a3f5f\"}},\"ternary\":{\"aaxis\":{\"gridcolor\":\"white\",\"linecolor\":\"white\",\"ticks\":\"\"},\"baxis\":{\"gridcolor\":\"white\",\"linecolor\":\"white\",\"ticks\":\"\"},\"bgcolor\":\"#E5ECF6\",\"caxis\":{\"gridcolor\":\"white\",\"linecolor\":\"white\",\"ticks\":\"\"}},\"title\":{\"x\":0.05},\"xaxis\":{\"automargin\":true,\"gridcolor\":\"white\",\"linecolor\":\"white\",\"ticks\":\"\",\"title\":{\"standoff\":15},\"zerolinecolor\":\"white\",\"zerolinewidth\":2},\"yaxis\":{\"automargin\":true,\"gridcolor\":\"white\",\"linecolor\":\"white\",\"ticks\":\"\",\"title\":{\"standoff\":15},\"zerolinecolor\":\"white\",\"zerolinewidth\":2}}},\"xaxis\":{\"anchor\":\"y\",\"domain\":[0.0,1.0],\"title\":{\"text\":\"Age Group\"}},\"yaxis\":{\"anchor\":\"x\",\"domain\":[0.0,1.0],\"title\":{\"text\":\"Frequency\"}},\"title\":{\"text\":\"Frequency of Deaths by Age Group\"}},                        {\"responsive\": true}                    ).then(function(){\n",
              "                            \n",
              "var gd = document.getElementById('34f22f33-6727-4aaf-9299-daf85a91ca90');\n",
              "var x = new MutationObserver(function (mutations, observer) {{\n",
              "        var display = window.getComputedStyle(gd).display;\n",
              "        if (!display || display === 'none') {{\n",
              "            console.log([gd, 'removed!']);\n",
              "            Plotly.purge(gd);\n",
              "            observer.disconnect();\n",
              "        }}\n",
              "}});\n",
              "\n",
              "// Listen for the removal of the full notebook cells\n",
              "var notebookContainer = gd.closest('#notebook-container');\n",
              "if (notebookContainer) {{\n",
              "    x.observe(notebookContainer, {childList: true});\n",
              "}}\n",
              "\n",
              "// Listen for the clearing of the current output cell\n",
              "var outputEl = gd.closest('.output');\n",
              "if (outputEl) {{\n",
              "    x.observe(outputEl, {childList: true});\n",
              "}}\n",
              "\n",
              "                        })                };                            </script>        </div>\n",
              "</body>\n",
              "</html>"
            ]
          },
          "metadata": {}
        }
      ],
      "source": [
        "# Filter the data to include only records for individuals who have died\n",
        "death_data = fullframe[fullframe['DIED'] == 'Y']\n",
        "\n",
        "# Group the data by age group and count the number of deaths in each group\n",
        "death_counts_by_age = death_data.groupby('AGE_YRS')['DIED'].count().reset_index()\n",
        "\n",
        "# Create a figure with a single subplot\n",
        "fig = make_subplots(rows=1, cols=1)\n",
        "\n",
        "# Add a bar chart trace showing the frequency of deaths by age group\n",
        "fig.add_trace(\n",
        "    go.Bar(x=death_counts_by_age['AGE_YRS'], y=death_counts_by_age['DIED'], name='Death Frequency by Age Group')\n",
        ")\n",
        "\n",
        "# Update the layout of the figure to include a title and axis labels\n",
        "fig.update_layout(\n",
        "    title='Frequency of Deaths by Age Group',\n",
        "    xaxis_title='Age Group',\n",
        "    yaxis_title='Frequency'\n",
        ")\n",
        "\n",
        "# Display the figure\n",
        "fig.show()"
      ]
    },
    {
      "cell_type": "code",
      "execution_count": null,
      "metadata": {
        "id": "qeldd1AWAv5N",
        "outputId": "5d0bcafa-eb09-4d42-91e8-a86171fe3294",
        "colab": {
          "base_uri": "https://localhost:8080/",
          "height": 542
        }
      },
      "outputs": [
        {
          "output_type": "display_data",
          "data": {
            "text/html": [
              "<html>\n",
              "<head><meta charset=\"utf-8\" /></head>\n",
              "<body>\n",
              "    <div>            <script src=\"https://cdnjs.cloudflare.com/ajax/libs/mathjax/2.7.5/MathJax.js?config=TeX-AMS-MML_SVG\"></script><script type=\"text/javascript\">if (window.MathJax) {MathJax.Hub.Config({SVG: {font: \"STIX-Web\"}});}</script>                <script type=\"text/javascript\">window.PlotlyConfig = {MathJaxConfig: 'local'};</script>\n",
              "        <script src=\"https://cdn.plot.ly/plotly-2.8.3.min.js\"></script>                <div id=\"7c4dc892-0695-41d9-bc3b-9e1648efec8b\" class=\"plotly-graph-div\" style=\"height:525px; width:100%;\"></div>            <script type=\"text/javascript\">                                    window.PLOTLYENV=window.PLOTLYENV || {};                                    if (document.getElementById(\"7c4dc892-0695-41d9-bc3b-9e1648efec8b\")) {                    Plotly.newPlot(                        \"7c4dc892-0695-41d9-bc3b-9e1648efec8b\",                        [{\"name\":\"Death Frequency by Age Group\",\"x\":[66.0,84.0,85.0,89.0,99.0],\"y\":[2,1,1,1,1],\"type\":\"bar\"}],                        {\"template\":{\"data\":{\"bar\":[{\"error_x\":{\"color\":\"#2a3f5f\"},\"error_y\":{\"color\":\"#2a3f5f\"},\"marker\":{\"line\":{\"color\":\"#E5ECF6\",\"width\":0.5},\"pattern\":{\"fillmode\":\"overlay\",\"size\":10,\"solidity\":0.2}},\"type\":\"bar\"}],\"barpolar\":[{\"marker\":{\"line\":{\"color\":\"#E5ECF6\",\"width\":0.5},\"pattern\":{\"fillmode\":\"overlay\",\"size\":10,\"solidity\":0.2}},\"type\":\"barpolar\"}],\"carpet\":[{\"aaxis\":{\"endlinecolor\":\"#2a3f5f\",\"gridcolor\":\"white\",\"linecolor\":\"white\",\"minorgridcolor\":\"white\",\"startlinecolor\":\"#2a3f5f\"},\"baxis\":{\"endlinecolor\":\"#2a3f5f\",\"gridcolor\":\"white\",\"linecolor\":\"white\",\"minorgridcolor\":\"white\",\"startlinecolor\":\"#2a3f5f\"},\"type\":\"carpet\"}],\"choropleth\":[{\"colorbar\":{\"outlinewidth\":0,\"ticks\":\"\"},\"type\":\"choropleth\"}],\"contour\":[{\"colorbar\":{\"outlinewidth\":0,\"ticks\":\"\"},\"colorscale\":[[0.0,\"#0d0887\"],[0.1111111111111111,\"#46039f\"],[0.2222222222222222,\"#7201a8\"],[0.3333333333333333,\"#9c179e\"],[0.4444444444444444,\"#bd3786\"],[0.5555555555555556,\"#d8576b\"],[0.6666666666666666,\"#ed7953\"],[0.7777777777777778,\"#fb9f3a\"],[0.8888888888888888,\"#fdca26\"],[1.0,\"#f0f921\"]],\"type\":\"contour\"}],\"contourcarpet\":[{\"colorbar\":{\"outlinewidth\":0,\"ticks\":\"\"},\"type\":\"contourcarpet\"}],\"heatmap\":[{\"colorbar\":{\"outlinewidth\":0,\"ticks\":\"\"},\"colorscale\":[[0.0,\"#0d0887\"],[0.1111111111111111,\"#46039f\"],[0.2222222222222222,\"#7201a8\"],[0.3333333333333333,\"#9c179e\"],[0.4444444444444444,\"#bd3786\"],[0.5555555555555556,\"#d8576b\"],[0.6666666666666666,\"#ed7953\"],[0.7777777777777778,\"#fb9f3a\"],[0.8888888888888888,\"#fdca26\"],[1.0,\"#f0f921\"]],\"type\":\"heatmap\"}],\"heatmapgl\":[{\"colorbar\":{\"outlinewidth\":0,\"ticks\":\"\"},\"colorscale\":[[0.0,\"#0d0887\"],[0.1111111111111111,\"#46039f\"],[0.2222222222222222,\"#7201a8\"],[0.3333333333333333,\"#9c179e\"],[0.4444444444444444,\"#bd3786\"],[0.5555555555555556,\"#d8576b\"],[0.6666666666666666,\"#ed7953\"],[0.7777777777777778,\"#fb9f3a\"],[0.8888888888888888,\"#fdca26\"],[1.0,\"#f0f921\"]],\"type\":\"heatmapgl\"}],\"histogram\":[{\"marker\":{\"pattern\":{\"fillmode\":\"overlay\",\"size\":10,\"solidity\":0.2}},\"type\":\"histogram\"}],\"histogram2d\":[{\"colorbar\":{\"outlinewidth\":0,\"ticks\":\"\"},\"colorscale\":[[0.0,\"#0d0887\"],[0.1111111111111111,\"#46039f\"],[0.2222222222222222,\"#7201a8\"],[0.3333333333333333,\"#9c179e\"],[0.4444444444444444,\"#bd3786\"],[0.5555555555555556,\"#d8576b\"],[0.6666666666666666,\"#ed7953\"],[0.7777777777777778,\"#fb9f3a\"],[0.8888888888888888,\"#fdca26\"],[1.0,\"#f0f921\"]],\"type\":\"histogram2d\"}],\"histogram2dcontour\":[{\"colorbar\":{\"outlinewidth\":0,\"ticks\":\"\"},\"colorscale\":[[0.0,\"#0d0887\"],[0.1111111111111111,\"#46039f\"],[0.2222222222222222,\"#7201a8\"],[0.3333333333333333,\"#9c179e\"],[0.4444444444444444,\"#bd3786\"],[0.5555555555555556,\"#d8576b\"],[0.6666666666666666,\"#ed7953\"],[0.7777777777777778,\"#fb9f3a\"],[0.8888888888888888,\"#fdca26\"],[1.0,\"#f0f921\"]],\"type\":\"histogram2dcontour\"}],\"mesh3d\":[{\"colorbar\":{\"outlinewidth\":0,\"ticks\":\"\"},\"type\":\"mesh3d\"}],\"parcoords\":[{\"line\":{\"colorbar\":{\"outlinewidth\":0,\"ticks\":\"\"}},\"type\":\"parcoords\"}],\"pie\":[{\"automargin\":true,\"type\":\"pie\"}],\"scatter\":[{\"marker\":{\"colorbar\":{\"outlinewidth\":0,\"ticks\":\"\"}},\"type\":\"scatter\"}],\"scatter3d\":[{\"line\":{\"colorbar\":{\"outlinewidth\":0,\"ticks\":\"\"}},\"marker\":{\"colorbar\":{\"outlinewidth\":0,\"ticks\":\"\"}},\"type\":\"scatter3d\"}],\"scattercarpet\":[{\"marker\":{\"colorbar\":{\"outlinewidth\":0,\"ticks\":\"\"}},\"type\":\"scattercarpet\"}],\"scattergeo\":[{\"marker\":{\"colorbar\":{\"outlinewidth\":0,\"ticks\":\"\"}},\"type\":\"scattergeo\"}],\"scattergl\":[{\"marker\":{\"colorbar\":{\"outlinewidth\":0,\"ticks\":\"\"}},\"type\":\"scattergl\"}],\"scattermapbox\":[{\"marker\":{\"colorbar\":{\"outlinewidth\":0,\"ticks\":\"\"}},\"type\":\"scattermapbox\"}],\"scatterpolar\":[{\"marker\":{\"colorbar\":{\"outlinewidth\":0,\"ticks\":\"\"}},\"type\":\"scatterpolar\"}],\"scatterpolargl\":[{\"marker\":{\"colorbar\":{\"outlinewidth\":0,\"ticks\":\"\"}},\"type\":\"scatterpolargl\"}],\"scatterternary\":[{\"marker\":{\"colorbar\":{\"outlinewidth\":0,\"ticks\":\"\"}},\"type\":\"scatterternary\"}],\"surface\":[{\"colorbar\":{\"outlinewidth\":0,\"ticks\":\"\"},\"colorscale\":[[0.0,\"#0d0887\"],[0.1111111111111111,\"#46039f\"],[0.2222222222222222,\"#7201a8\"],[0.3333333333333333,\"#9c179e\"],[0.4444444444444444,\"#bd3786\"],[0.5555555555555556,\"#d8576b\"],[0.6666666666666666,\"#ed7953\"],[0.7777777777777778,\"#fb9f3a\"],[0.8888888888888888,\"#fdca26\"],[1.0,\"#f0f921\"]],\"type\":\"surface\"}],\"table\":[{\"cells\":{\"fill\":{\"color\":\"#EBF0F8\"},\"line\":{\"color\":\"white\"}},\"header\":{\"fill\":{\"color\":\"#C8D4E3\"},\"line\":{\"color\":\"white\"}},\"type\":\"table\"}]},\"layout\":{\"annotationdefaults\":{\"arrowcolor\":\"#2a3f5f\",\"arrowhead\":0,\"arrowwidth\":1},\"autotypenumbers\":\"strict\",\"coloraxis\":{\"colorbar\":{\"outlinewidth\":0,\"ticks\":\"\"}},\"colorscale\":{\"diverging\":[[0,\"#8e0152\"],[0.1,\"#c51b7d\"],[0.2,\"#de77ae\"],[0.3,\"#f1b6da\"],[0.4,\"#fde0ef\"],[0.5,\"#f7f7f7\"],[0.6,\"#e6f5d0\"],[0.7,\"#b8e186\"],[0.8,\"#7fbc41\"],[0.9,\"#4d9221\"],[1,\"#276419\"]],\"sequential\":[[0.0,\"#0d0887\"],[0.1111111111111111,\"#46039f\"],[0.2222222222222222,\"#7201a8\"],[0.3333333333333333,\"#9c179e\"],[0.4444444444444444,\"#bd3786\"],[0.5555555555555556,\"#d8576b\"],[0.6666666666666666,\"#ed7953\"],[0.7777777777777778,\"#fb9f3a\"],[0.8888888888888888,\"#fdca26\"],[1.0,\"#f0f921\"]],\"sequentialminus\":[[0.0,\"#0d0887\"],[0.1111111111111111,\"#46039f\"],[0.2222222222222222,\"#7201a8\"],[0.3333333333333333,\"#9c179e\"],[0.4444444444444444,\"#bd3786\"],[0.5555555555555556,\"#d8576b\"],[0.6666666666666666,\"#ed7953\"],[0.7777777777777778,\"#fb9f3a\"],[0.8888888888888888,\"#fdca26\"],[1.0,\"#f0f921\"]]},\"colorway\":[\"#636efa\",\"#EF553B\",\"#00cc96\",\"#ab63fa\",\"#FFA15A\",\"#19d3f3\",\"#FF6692\",\"#B6E880\",\"#FF97FF\",\"#FECB52\"],\"font\":{\"color\":\"#2a3f5f\"},\"geo\":{\"bgcolor\":\"white\",\"lakecolor\":\"white\",\"landcolor\":\"#E5ECF6\",\"showlakes\":true,\"showland\":true,\"subunitcolor\":\"white\"},\"hoverlabel\":{\"align\":\"left\"},\"hovermode\":\"closest\",\"mapbox\":{\"style\":\"light\"},\"paper_bgcolor\":\"white\",\"plot_bgcolor\":\"#E5ECF6\",\"polar\":{\"angularaxis\":{\"gridcolor\":\"white\",\"linecolor\":\"white\",\"ticks\":\"\"},\"bgcolor\":\"#E5ECF6\",\"radialaxis\":{\"gridcolor\":\"white\",\"linecolor\":\"white\",\"ticks\":\"\"}},\"scene\":{\"xaxis\":{\"backgroundcolor\":\"#E5ECF6\",\"gridcolor\":\"white\",\"gridwidth\":2,\"linecolor\":\"white\",\"showbackground\":true,\"ticks\":\"\",\"zerolinecolor\":\"white\"},\"yaxis\":{\"backgroundcolor\":\"#E5ECF6\",\"gridcolor\":\"white\",\"gridwidth\":2,\"linecolor\":\"white\",\"showbackground\":true,\"ticks\":\"\",\"zerolinecolor\":\"white\"},\"zaxis\":{\"backgroundcolor\":\"#E5ECF6\",\"gridcolor\":\"white\",\"gridwidth\":2,\"linecolor\":\"white\",\"showbackground\":true,\"ticks\":\"\",\"zerolinecolor\":\"white\"}},\"shapedefaults\":{\"line\":{\"color\":\"#2a3f5f\"}},\"ternary\":{\"aaxis\":{\"gridcolor\":\"white\",\"linecolor\":\"white\",\"ticks\":\"\"},\"baxis\":{\"gridcolor\":\"white\",\"linecolor\":\"white\",\"ticks\":\"\"},\"bgcolor\":\"#E5ECF6\",\"caxis\":{\"gridcolor\":\"white\",\"linecolor\":\"white\",\"ticks\":\"\"}},\"title\":{\"x\":0.05},\"xaxis\":{\"automargin\":true,\"gridcolor\":\"white\",\"linecolor\":\"white\",\"ticks\":\"\",\"title\":{\"standoff\":15},\"zerolinecolor\":\"white\",\"zerolinewidth\":2},\"yaxis\":{\"automargin\":true,\"gridcolor\":\"white\",\"linecolor\":\"white\",\"ticks\":\"\",\"title\":{\"standoff\":15},\"zerolinecolor\":\"white\",\"zerolinewidth\":2}}},\"xaxis\":{\"anchor\":\"y\",\"domain\":[0.0,1.0],\"title\":{\"text\":\"Age Group\"}},\"yaxis\":{\"anchor\":\"x\",\"domain\":[0.0,1.0],\"title\":{\"text\":\"Frequency\"}},\"title\":{\"text\":\"Frequency of Deaths by Age Group and MODERNA Vaccine Manufacturer\"}},                        {\"responsive\": true}                    ).then(function(){\n",
              "                            \n",
              "var gd = document.getElementById('7c4dc892-0695-41d9-bc3b-9e1648efec8b');\n",
              "var x = new MutationObserver(function (mutations, observer) {{\n",
              "        var display = window.getComputedStyle(gd).display;\n",
              "        if (!display || display === 'none') {{\n",
              "            console.log([gd, 'removed!']);\n",
              "            Plotly.purge(gd);\n",
              "            observer.disconnect();\n",
              "        }}\n",
              "}});\n",
              "\n",
              "// Listen for the removal of the full notebook cells\n",
              "var notebookContainer = gd.closest('#notebook-container');\n",
              "if (notebookContainer) {{\n",
              "    x.observe(notebookContainer, {childList: true});\n",
              "}}\n",
              "\n",
              "// Listen for the clearing of the current output cell\n",
              "var outputEl = gd.closest('.output');\n",
              "if (outputEl) {{\n",
              "    x.observe(outputEl, {childList: true});\n",
              "}}\n",
              "\n",
              "                        })                };                            </script>        </div>\n",
              "</body>\n",
              "</html>"
            ]
          },
          "metadata": {}
        }
      ],
      "source": [
        "# Filter the data to include only records for the 'MODERNA' vaccine manufacturer\n",
        "manufacturer_data = fullframe[fullframe['VAX_MANU'] == 'MODERNA']\n",
        "\n",
        "# Filter the data to include only records for individuals who have died\n",
        "death_data = manufacturer_data[manufacturer_data['DIED'] == 'Y']\n",
        "\n",
        "# Group the data by age group and count the number of deaths in each group\n",
        "death_counts_by_age = death_data.groupby('AGE_YRS')['DIED'].count().reset_index()\n",
        "\n",
        "# Create a figure with a single subplot\n",
        "fig = make_subplots(rows=1, cols=1)\n",
        "\n",
        "# Add a bar chart trace showing the frequency of deaths by age group\n",
        "fig.add_trace(\n",
        "    go.Bar(x=death_counts_by_age['AGE_YRS'], y=death_counts_by_age['DIED'], name='Death Frequency by Age Group')\n",
        ")\n",
        "\n",
        "# Update the layout of the figure to include a title and axis labels\n",
        "fig.update_layout(\n",
        "    title='Frequency of Deaths by Age Group and MODERNA Vaccine Manufacturer',\n",
        "    xaxis_title='Age Group',\n",
        "    yaxis_title='Frequency'\n",
        ")\n",
        "\n",
        "# Display the figure\n",
        "fig.show()\n"
      ]
    }
  ],
  "metadata": {
    "colab": {
      "collapsed_sections": [
        "ExhNk8peokm7",
        "rabw1mdeYBV5"
      ],
      "provenance": []
    },
    "kernelspec": {
      "display_name": "base",
      "language": "python",
      "name": "python3"
    },
    "language_info": {
      "codemirror_mode": {
        "name": "ipython",
        "version": 3
      },
      "file_extension": ".py",
      "mimetype": "text/x-python",
      "name": "python",
      "nbconvert_exporter": "python",
      "pygments_lexer": "ipython3",
      "version": "3.9.12"
    },
    "vscode": {
      "interpreter": {
        "hash": "51fa9b7b472d9973645ee2cc2ed34fddf337ca08480ebf5898b150ec3ea6e455"
      }
    }
  },
  "nbformat": 4,
  "nbformat_minor": 0
}